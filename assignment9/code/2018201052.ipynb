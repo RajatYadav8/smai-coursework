{
 "cells": [
  {
   "cell_type": "markdown",
   "metadata": {},
   "source": [
    "# Name: Praveen Balireddy\n",
    "# Roll: 2018201052"
   ]
  },
  {
   "cell_type": "markdown",
   "metadata": {},
   "source": [
    "## Importing Libraries"
   ]
  },
  {
   "cell_type": "code",
   "execution_count": 1,
   "metadata": {},
   "outputs": [],
   "source": [
    "import pandas as pd\n",
    "import numpy as np\n",
    "import matplotlib\n",
    "import matplotlib.pyplot as plt\n",
    "import math\n",
    "from sklearn import metrics\n",
    "from collections import Counter\n",
    "from sklearn.model_selection import train_test_split\n",
    "from sklearn.preprocessing import StandardScaler\n",
    "from collections import defaultdict\n",
    "from sklearn.metrics import mean_squared_error\n",
    "from sklearn.preprocessing import MinMaxScaler\n",
    "import seaborn as sns\n",
    "from sklearn.preprocessing import OneHotEncoder\n",
    "from sklearn.preprocessing import LabelEncoder\n",
    "import pickle\n",
    "import warnings\n",
    "import random\n",
    "warnings.filterwarnings('ignore')"
   ]
  },
  {
   "cell_type": "code",
   "execution_count": 2,
   "metadata": {},
   "outputs": [],
   "source": [
    "'''\n",
    "Setting seed\n",
    "'''\n",
    "np.random.seed(10)"
   ]
  },
  {
   "cell_type": "code",
   "execution_count": 3,
   "metadata": {},
   "outputs": [],
   "source": [
    "'''\n",
    "Function to split the data into train and validation(80-20)\n",
    "'''\n",
    "def splitData(X ,Y, t_size = 0.2, r_state = 10):\n",
    "    X_train, X_test, y_train, y_test = train_test_split(X, Y, test_size = t_size , random_state = r_state)\n",
    "    return (X_train, X_test, y_train, y_test)"
   ]
  },
  {
   "cell_type": "markdown",
   "metadata": {},
   "source": [
    "## Reading Input"
   ]
  },
  {
   "cell_type": "code",
   "execution_count": 4,
   "metadata": {},
   "outputs": [],
   "source": [
    "df = pd.read_csv(\"./intrusion_detection/data.csv\")"
   ]
  },
  {
   "cell_type": "code",
   "execution_count": 5,
   "metadata": {},
   "outputs": [
    {
     "data": {
      "text/html": [
       "<div>\n",
       "<style scoped>\n",
       "    .dataframe tbody tr th:only-of-type {\n",
       "        vertical-align: middle;\n",
       "    }\n",
       "\n",
       "    .dataframe tbody tr th {\n",
       "        vertical-align: top;\n",
       "    }\n",
       "\n",
       "    .dataframe thead th {\n",
       "        text-align: right;\n",
       "    }\n",
       "</style>\n",
       "<table border=\"1\" class=\"dataframe\">\n",
       "  <thead>\n",
       "    <tr style=\"text-align: right;\">\n",
       "      <th></th>\n",
       "      <th>duration</th>\n",
       "      <th>service</th>\n",
       "      <th>src_bytes</th>\n",
       "      <th>dst_bytes</th>\n",
       "      <th>hot</th>\n",
       "      <th>num_failed_logins</th>\n",
       "      <th>num_compromised</th>\n",
       "      <th>num_root</th>\n",
       "      <th>num_file_creations</th>\n",
       "      <th>num_access_files</th>\n",
       "      <th>...</th>\n",
       "      <th>dst_host_srv_count</th>\n",
       "      <th>dst_host_same_srv_rate</th>\n",
       "      <th>dst_host_diff_srv_rate</th>\n",
       "      <th>dst_host_same_src_port_rate</th>\n",
       "      <th>dst_host_srv_diff_host_rate</th>\n",
       "      <th>dst_host_serror_rate</th>\n",
       "      <th>dst_host_srv_serror_rate</th>\n",
       "      <th>dst_host_rerror_rate</th>\n",
       "      <th>dst_host_srv_rerror_rate</th>\n",
       "      <th>xAttack</th>\n",
       "    </tr>\n",
       "  </thead>\n",
       "  <tbody>\n",
       "    <tr>\n",
       "      <th>0</th>\n",
       "      <td>0</td>\n",
       "      <td>25</td>\n",
       "      <td>193</td>\n",
       "      <td>441</td>\n",
       "      <td>0</td>\n",
       "      <td>0</td>\n",
       "      <td>0</td>\n",
       "      <td>0</td>\n",
       "      <td>0</td>\n",
       "      <td>0</td>\n",
       "      <td>...</td>\n",
       "      <td>255</td>\n",
       "      <td>1.00</td>\n",
       "      <td>0.00</td>\n",
       "      <td>0.07</td>\n",
       "      <td>0.04</td>\n",
       "      <td>0.00</td>\n",
       "      <td>0.04</td>\n",
       "      <td>0.0</td>\n",
       "      <td>0.0</td>\n",
       "      <td>normal</td>\n",
       "    </tr>\n",
       "    <tr>\n",
       "      <th>1</th>\n",
       "      <td>0</td>\n",
       "      <td>38</td>\n",
       "      <td>0</td>\n",
       "      <td>0</td>\n",
       "      <td>0</td>\n",
       "      <td>0</td>\n",
       "      <td>0</td>\n",
       "      <td>0</td>\n",
       "      <td>0</td>\n",
       "      <td>0</td>\n",
       "      <td>...</td>\n",
       "      <td>1</td>\n",
       "      <td>0.00</td>\n",
       "      <td>0.07</td>\n",
       "      <td>0.00</td>\n",
       "      <td>0.00</td>\n",
       "      <td>0.00</td>\n",
       "      <td>0.00</td>\n",
       "      <td>1.0</td>\n",
       "      <td>1.0</td>\n",
       "      <td>dos</td>\n",
       "    </tr>\n",
       "    <tr>\n",
       "      <th>2</th>\n",
       "      <td>0</td>\n",
       "      <td>25</td>\n",
       "      <td>167</td>\n",
       "      <td>9724</td>\n",
       "      <td>0</td>\n",
       "      <td>0</td>\n",
       "      <td>0</td>\n",
       "      <td>0</td>\n",
       "      <td>0</td>\n",
       "      <td>0</td>\n",
       "      <td>...</td>\n",
       "      <td>255</td>\n",
       "      <td>1.00</td>\n",
       "      <td>0.00</td>\n",
       "      <td>0.03</td>\n",
       "      <td>0.06</td>\n",
       "      <td>0.00</td>\n",
       "      <td>0.00</td>\n",
       "      <td>0.0</td>\n",
       "      <td>0.0</td>\n",
       "      <td>normal</td>\n",
       "    </tr>\n",
       "    <tr>\n",
       "      <th>3</th>\n",
       "      <td>0</td>\n",
       "      <td>20</td>\n",
       "      <td>1339</td>\n",
       "      <td>0</td>\n",
       "      <td>0</td>\n",
       "      <td>0</td>\n",
       "      <td>0</td>\n",
       "      <td>0</td>\n",
       "      <td>0</td>\n",
       "      <td>0</td>\n",
       "      <td>...</td>\n",
       "      <td>31</td>\n",
       "      <td>0.23</td>\n",
       "      <td>0.04</td>\n",
       "      <td>0.23</td>\n",
       "      <td>0.00</td>\n",
       "      <td>0.02</td>\n",
       "      <td>0.00</td>\n",
       "      <td>0.0</td>\n",
       "      <td>0.0</td>\n",
       "      <td>normal</td>\n",
       "    </tr>\n",
       "    <tr>\n",
       "      <th>4</th>\n",
       "      <td>0</td>\n",
       "      <td>37</td>\n",
       "      <td>0</td>\n",
       "      <td>0</td>\n",
       "      <td>0</td>\n",
       "      <td>0</td>\n",
       "      <td>0</td>\n",
       "      <td>0</td>\n",
       "      <td>0</td>\n",
       "      <td>0</td>\n",
       "      <td>...</td>\n",
       "      <td>25</td>\n",
       "      <td>0.10</td>\n",
       "      <td>0.05</td>\n",
       "      <td>0.00</td>\n",
       "      <td>0.00</td>\n",
       "      <td>1.00</td>\n",
       "      <td>1.00</td>\n",
       "      <td>0.0</td>\n",
       "      <td>0.0</td>\n",
       "      <td>dos</td>\n",
       "    </tr>\n",
       "  </tbody>\n",
       "</table>\n",
       "<p>5 rows × 30 columns</p>\n",
       "</div>"
      ],
      "text/plain": [
       "   duration  service  src_bytes  dst_bytes  hot  num_failed_logins  \\\n",
       "0         0       25        193        441    0                  0   \n",
       "1         0       38          0          0    0                  0   \n",
       "2         0       25        167       9724    0                  0   \n",
       "3         0       20       1339          0    0                  0   \n",
       "4         0       37          0          0    0                  0   \n",
       "\n",
       "   num_compromised  num_root  num_file_creations  num_access_files   ...     \\\n",
       "0                0         0                   0                 0   ...      \n",
       "1                0         0                   0                 0   ...      \n",
       "2                0         0                   0                 0   ...      \n",
       "3                0         0                   0                 0   ...      \n",
       "4                0         0                   0                 0   ...      \n",
       "\n",
       "   dst_host_srv_count  dst_host_same_srv_rate  dst_host_diff_srv_rate  \\\n",
       "0                 255                    1.00                    0.00   \n",
       "1                   1                    0.00                    0.07   \n",
       "2                 255                    1.00                    0.00   \n",
       "3                  31                    0.23                    0.04   \n",
       "4                  25                    0.10                    0.05   \n",
       "\n",
       "   dst_host_same_src_port_rate  dst_host_srv_diff_host_rate  \\\n",
       "0                         0.07                         0.04   \n",
       "1                         0.00                         0.00   \n",
       "2                         0.03                         0.06   \n",
       "3                         0.23                         0.00   \n",
       "4                         0.00                         0.00   \n",
       "\n",
       "   dst_host_serror_rate  dst_host_srv_serror_rate  dst_host_rerror_rate  \\\n",
       "0                  0.00                      0.04                   0.0   \n",
       "1                  0.00                      0.00                   1.0   \n",
       "2                  0.00                      0.00                   0.0   \n",
       "3                  0.02                      0.00                   0.0   \n",
       "4                  1.00                      1.00                   0.0   \n",
       "\n",
       "   dst_host_srv_rerror_rate  xAttack  \n",
       "0                       0.0   normal  \n",
       "1                       1.0      dos  \n",
       "2                       0.0   normal  \n",
       "3                       0.0   normal  \n",
       "4                       0.0      dos  \n",
       "\n",
       "[5 rows x 30 columns]"
      ]
     },
     "execution_count": 5,
     "metadata": {},
     "output_type": "execute_result"
    }
   ],
   "source": [
    "df.head()"
   ]
  },
  {
   "cell_type": "code",
   "execution_count": 6,
   "metadata": {},
   "outputs": [
    {
     "data": {
      "text/html": [
       "<div>\n",
       "<style scoped>\n",
       "    .dataframe tbody tr th:only-of-type {\n",
       "        vertical-align: middle;\n",
       "    }\n",
       "\n",
       "    .dataframe tbody tr th {\n",
       "        vertical-align: top;\n",
       "    }\n",
       "\n",
       "    .dataframe thead th {\n",
       "        text-align: right;\n",
       "    }\n",
       "</style>\n",
       "<table border=\"1\" class=\"dataframe\">\n",
       "  <thead>\n",
       "    <tr style=\"text-align: right;\">\n",
       "      <th></th>\n",
       "      <th>duration</th>\n",
       "      <th>service</th>\n",
       "      <th>src_bytes</th>\n",
       "      <th>dst_bytes</th>\n",
       "      <th>hot</th>\n",
       "      <th>num_failed_logins</th>\n",
       "      <th>num_compromised</th>\n",
       "      <th>num_root</th>\n",
       "      <th>num_file_creations</th>\n",
       "      <th>num_access_files</th>\n",
       "      <th>...</th>\n",
       "      <th>dst_host_count</th>\n",
       "      <th>dst_host_srv_count</th>\n",
       "      <th>dst_host_same_srv_rate</th>\n",
       "      <th>dst_host_diff_srv_rate</th>\n",
       "      <th>dst_host_same_src_port_rate</th>\n",
       "      <th>dst_host_srv_diff_host_rate</th>\n",
       "      <th>dst_host_serror_rate</th>\n",
       "      <th>dst_host_srv_serror_rate</th>\n",
       "      <th>dst_host_rerror_rate</th>\n",
       "      <th>dst_host_srv_rerror_rate</th>\n",
       "    </tr>\n",
       "  </thead>\n",
       "  <tbody>\n",
       "    <tr>\n",
       "      <th>count</th>\n",
       "      <td>24998.000000</td>\n",
       "      <td>24998.000000</td>\n",
       "      <td>2.499800e+04</td>\n",
       "      <td>2.499800e+04</td>\n",
       "      <td>24998.000000</td>\n",
       "      <td>24998.000000</td>\n",
       "      <td>24998.000000</td>\n",
       "      <td>24998.000000</td>\n",
       "      <td>24998.000000</td>\n",
       "      <td>24998.000000</td>\n",
       "      <td>...</td>\n",
       "      <td>24998.000000</td>\n",
       "      <td>24998.000000</td>\n",
       "      <td>24998.000000</td>\n",
       "      <td>24998.000000</td>\n",
       "      <td>24998.000000</td>\n",
       "      <td>24998.000000</td>\n",
       "      <td>24998.000000</td>\n",
       "      <td>24998.000000</td>\n",
       "      <td>24998.000000</td>\n",
       "      <td>24998.000000</td>\n",
       "    </tr>\n",
       "    <tr>\n",
       "      <th>mean</th>\n",
       "      <td>310.648452</td>\n",
       "      <td>32.024842</td>\n",
       "      <td>2.442409e+04</td>\n",
       "      <td>3.305597e+03</td>\n",
       "      <td>0.193535</td>\n",
       "      <td>0.001200</td>\n",
       "      <td>0.229418</td>\n",
       "      <td>0.251700</td>\n",
       "      <td>0.014841</td>\n",
       "      <td>0.004360</td>\n",
       "      <td>...</td>\n",
       "      <td>182.405832</td>\n",
       "      <td>115.254580</td>\n",
       "      <td>0.520648</td>\n",
       "      <td>0.083117</td>\n",
       "      <td>0.148392</td>\n",
       "      <td>0.032109</td>\n",
       "      <td>0.284272</td>\n",
       "      <td>0.278418</td>\n",
       "      <td>0.118272</td>\n",
       "      <td>0.119189</td>\n",
       "    </tr>\n",
       "    <tr>\n",
       "      <th>std</th>\n",
       "      <td>2712.235502</td>\n",
       "      <td>16.493033</td>\n",
       "      <td>2.420103e+06</td>\n",
       "      <td>8.301712e+04</td>\n",
       "      <td>2.127846</td>\n",
       "      <td>0.045594</td>\n",
       "      <td>10.457662</td>\n",
       "      <td>11.545358</td>\n",
       "      <td>0.531652</td>\n",
       "      <td>0.098905</td>\n",
       "      <td>...</td>\n",
       "      <td>99.046209</td>\n",
       "      <td>110.659088</td>\n",
       "      <td>0.449020</td>\n",
       "      <td>0.188442</td>\n",
       "      <td>0.309335</td>\n",
       "      <td>0.111102</td>\n",
       "      <td>0.444531</td>\n",
       "      <td>0.445374</td>\n",
       "      <td>0.306349</td>\n",
       "      <td>0.317858</td>\n",
       "    </tr>\n",
       "    <tr>\n",
       "      <th>min</th>\n",
       "      <td>0.000000</td>\n",
       "      <td>1.000000</td>\n",
       "      <td>0.000000e+00</td>\n",
       "      <td>0.000000e+00</td>\n",
       "      <td>0.000000</td>\n",
       "      <td>0.000000</td>\n",
       "      <td>0.000000</td>\n",
       "      <td>0.000000</td>\n",
       "      <td>0.000000</td>\n",
       "      <td>0.000000</td>\n",
       "      <td>...</td>\n",
       "      <td>0.000000</td>\n",
       "      <td>0.000000</td>\n",
       "      <td>0.000000</td>\n",
       "      <td>0.000000</td>\n",
       "      <td>0.000000</td>\n",
       "      <td>0.000000</td>\n",
       "      <td>0.000000</td>\n",
       "      <td>0.000000</td>\n",
       "      <td>0.000000</td>\n",
       "      <td>0.000000</td>\n",
       "    </tr>\n",
       "    <tr>\n",
       "      <th>25%</th>\n",
       "      <td>0.000000</td>\n",
       "      <td>20.000000</td>\n",
       "      <td>0.000000e+00</td>\n",
       "      <td>0.000000e+00</td>\n",
       "      <td>0.000000</td>\n",
       "      <td>0.000000</td>\n",
       "      <td>0.000000</td>\n",
       "      <td>0.000000</td>\n",
       "      <td>0.000000</td>\n",
       "      <td>0.000000</td>\n",
       "      <td>...</td>\n",
       "      <td>84.000000</td>\n",
       "      <td>10.000000</td>\n",
       "      <td>0.050000</td>\n",
       "      <td>0.000000</td>\n",
       "      <td>0.000000</td>\n",
       "      <td>0.000000</td>\n",
       "      <td>0.000000</td>\n",
       "      <td>0.000000</td>\n",
       "      <td>0.000000</td>\n",
       "      <td>0.000000</td>\n",
       "    </tr>\n",
       "    <tr>\n",
       "      <th>50%</th>\n",
       "      <td>0.000000</td>\n",
       "      <td>25.000000</td>\n",
       "      <td>4.400000e+01</td>\n",
       "      <td>0.000000e+00</td>\n",
       "      <td>0.000000</td>\n",
       "      <td>0.000000</td>\n",
       "      <td>0.000000</td>\n",
       "      <td>0.000000</td>\n",
       "      <td>0.000000</td>\n",
       "      <td>0.000000</td>\n",
       "      <td>...</td>\n",
       "      <td>255.000000</td>\n",
       "      <td>62.000000</td>\n",
       "      <td>0.510000</td>\n",
       "      <td>0.030000</td>\n",
       "      <td>0.000000</td>\n",
       "      <td>0.000000</td>\n",
       "      <td>0.000000</td>\n",
       "      <td>0.000000</td>\n",
       "      <td>0.000000</td>\n",
       "      <td>0.000000</td>\n",
       "    </tr>\n",
       "    <tr>\n",
       "      <th>75%</th>\n",
       "      <td>0.000000</td>\n",
       "      <td>50.000000</td>\n",
       "      <td>2.790000e+02</td>\n",
       "      <td>5.310000e+02</td>\n",
       "      <td>0.000000</td>\n",
       "      <td>0.000000</td>\n",
       "      <td>0.000000</td>\n",
       "      <td>0.000000</td>\n",
       "      <td>0.000000</td>\n",
       "      <td>0.000000</td>\n",
       "      <td>...</td>\n",
       "      <td>255.000000</td>\n",
       "      <td>255.000000</td>\n",
       "      <td>1.000000</td>\n",
       "      <td>0.070000</td>\n",
       "      <td>0.060000</td>\n",
       "      <td>0.020000</td>\n",
       "      <td>1.000000</td>\n",
       "      <td>1.000000</td>\n",
       "      <td>0.000000</td>\n",
       "      <td>0.000000</td>\n",
       "    </tr>\n",
       "    <tr>\n",
       "      <th>max</th>\n",
       "      <td>42862.000000</td>\n",
       "      <td>70.000000</td>\n",
       "      <td>3.817091e+08</td>\n",
       "      <td>5.150836e+06</td>\n",
       "      <td>77.000000</td>\n",
       "      <td>4.000000</td>\n",
       "      <td>884.000000</td>\n",
       "      <td>975.000000</td>\n",
       "      <td>40.000000</td>\n",
       "      <td>8.000000</td>\n",
       "      <td>...</td>\n",
       "      <td>255.000000</td>\n",
       "      <td>255.000000</td>\n",
       "      <td>1.000000</td>\n",
       "      <td>1.000000</td>\n",
       "      <td>1.000000</td>\n",
       "      <td>1.000000</td>\n",
       "      <td>1.000000</td>\n",
       "      <td>1.000000</td>\n",
       "      <td>1.000000</td>\n",
       "      <td>1.000000</td>\n",
       "    </tr>\n",
       "  </tbody>\n",
       "</table>\n",
       "<p>8 rows × 29 columns</p>\n",
       "</div>"
      ],
      "text/plain": [
       "           duration       service     src_bytes     dst_bytes           hot  \\\n",
       "count  24998.000000  24998.000000  2.499800e+04  2.499800e+04  24998.000000   \n",
       "mean     310.648452     32.024842  2.442409e+04  3.305597e+03      0.193535   \n",
       "std     2712.235502     16.493033  2.420103e+06  8.301712e+04      2.127846   \n",
       "min        0.000000      1.000000  0.000000e+00  0.000000e+00      0.000000   \n",
       "25%        0.000000     20.000000  0.000000e+00  0.000000e+00      0.000000   \n",
       "50%        0.000000     25.000000  4.400000e+01  0.000000e+00      0.000000   \n",
       "75%        0.000000     50.000000  2.790000e+02  5.310000e+02      0.000000   \n",
       "max    42862.000000     70.000000  3.817091e+08  5.150836e+06     77.000000   \n",
       "\n",
       "       num_failed_logins  num_compromised      num_root  num_file_creations  \\\n",
       "count       24998.000000     24998.000000  24998.000000        24998.000000   \n",
       "mean            0.001200         0.229418      0.251700            0.014841   \n",
       "std             0.045594        10.457662     11.545358            0.531652   \n",
       "min             0.000000         0.000000      0.000000            0.000000   \n",
       "25%             0.000000         0.000000      0.000000            0.000000   \n",
       "50%             0.000000         0.000000      0.000000            0.000000   \n",
       "75%             0.000000         0.000000      0.000000            0.000000   \n",
       "max             4.000000       884.000000    975.000000           40.000000   \n",
       "\n",
       "       num_access_files            ...             dst_host_count  \\\n",
       "count      24998.000000            ...               24998.000000   \n",
       "mean           0.004360            ...                 182.405832   \n",
       "std            0.098905            ...                  99.046209   \n",
       "min            0.000000            ...                   0.000000   \n",
       "25%            0.000000            ...                  84.000000   \n",
       "50%            0.000000            ...                 255.000000   \n",
       "75%            0.000000            ...                 255.000000   \n",
       "max            8.000000            ...                 255.000000   \n",
       "\n",
       "       dst_host_srv_count  dst_host_same_srv_rate  dst_host_diff_srv_rate  \\\n",
       "count        24998.000000            24998.000000            24998.000000   \n",
       "mean           115.254580                0.520648                0.083117   \n",
       "std            110.659088                0.449020                0.188442   \n",
       "min              0.000000                0.000000                0.000000   \n",
       "25%             10.000000                0.050000                0.000000   \n",
       "50%             62.000000                0.510000                0.030000   \n",
       "75%            255.000000                1.000000                0.070000   \n",
       "max            255.000000                1.000000                1.000000   \n",
       "\n",
       "       dst_host_same_src_port_rate  dst_host_srv_diff_host_rate  \\\n",
       "count                 24998.000000                 24998.000000   \n",
       "mean                      0.148392                     0.032109   \n",
       "std                       0.309335                     0.111102   \n",
       "min                       0.000000                     0.000000   \n",
       "25%                       0.000000                     0.000000   \n",
       "50%                       0.000000                     0.000000   \n",
       "75%                       0.060000                     0.020000   \n",
       "max                       1.000000                     1.000000   \n",
       "\n",
       "       dst_host_serror_rate  dst_host_srv_serror_rate  dst_host_rerror_rate  \\\n",
       "count          24998.000000              24998.000000          24998.000000   \n",
       "mean               0.284272                  0.278418              0.118272   \n",
       "std                0.444531                  0.445374              0.306349   \n",
       "min                0.000000                  0.000000              0.000000   \n",
       "25%                0.000000                  0.000000              0.000000   \n",
       "50%                0.000000                  0.000000              0.000000   \n",
       "75%                1.000000                  1.000000              0.000000   \n",
       "max                1.000000                  1.000000              1.000000   \n",
       "\n",
       "       dst_host_srv_rerror_rate  \n",
       "count              24998.000000  \n",
       "mean                   0.119189  \n",
       "std                    0.317858  \n",
       "min                    0.000000  \n",
       "25%                    0.000000  \n",
       "50%                    0.000000  \n",
       "75%                    0.000000  \n",
       "max                    1.000000  \n",
       "\n",
       "[8 rows x 29 columns]"
      ]
     },
     "execution_count": 6,
     "metadata": {},
     "output_type": "execute_result"
    }
   ],
   "source": [
    "df.describe()"
   ]
  },
  {
   "cell_type": "markdown",
   "metadata": {},
   "source": [
    "## Preprocessing data"
   ]
  },
  {
   "cell_type": "code",
   "execution_count": 7,
   "metadata": {},
   "outputs": [],
   "source": [
    "class preProcessor:\n",
    "    def __init__(self):\n",
    "        self.scalar = StandardScaler()\n",
    "    def fit(self, df, features):\n",
    "        # Separating out the features\n",
    "        x = df[features]\n",
    "        self.scalar = StandardScaler().fit(x)\n",
    "    def transform(self, df, features):\n",
    "        rest = [col for col in df.columns.values if col not in features]\n",
    "        res = pd.DataFrame(self.scalar.transform(df), columns=features)\n",
    "#         print(res)\n",
    "        res[rest] = df[rest]\n",
    "        return res"
   ]
  },
  {
   "cell_type": "code",
   "execution_count": 8,
   "metadata": {},
   "outputs": [
    {
     "data": {
      "text/plain": [
       "array(['duration', 'service', 'src_bytes', 'dst_bytes', 'hot',\n",
       "       'num_failed_logins', 'num_compromised', 'num_root',\n",
       "       'num_file_creations', 'num_access_files', 'count', 'srv_count',\n",
       "       'serror_rate', 'srv_serror_rate', 'rerror_rate', 'srv_rerror_rate',\n",
       "       'same_srv_rate', 'diff_srv_rate', 'srv_diff_host_rate',\n",
       "       'dst_host_count', 'dst_host_srv_count', 'dst_host_same_srv_rate',\n",
       "       'dst_host_diff_srv_rate', 'dst_host_same_src_port_rate',\n",
       "       'dst_host_srv_diff_host_rate', 'dst_host_serror_rate',\n",
       "       'dst_host_srv_serror_rate', 'dst_host_rerror_rate',\n",
       "       'dst_host_srv_rerror_rate'], dtype=object)"
      ]
     },
     "execution_count": 8,
     "metadata": {},
     "output_type": "execute_result"
    }
   ],
   "source": [
    "target = 'xAttack'\n",
    "features = df.columns.values[[df.columns.values != 'xAttack']]\n",
    "features"
   ]
  },
  {
   "cell_type": "code",
   "execution_count": 9,
   "metadata": {},
   "outputs": [],
   "source": [
    "# lb_make = LabelEncoder()\n",
    "# df[target] = lb_make.fit_transform(df[target])"
   ]
  },
  {
   "cell_type": "code",
   "execution_count": 10,
   "metadata": {},
   "outputs": [
    {
     "data": {
      "text/html": [
       "<div>\n",
       "<style scoped>\n",
       "    .dataframe tbody tr th:only-of-type {\n",
       "        vertical-align: middle;\n",
       "    }\n",
       "\n",
       "    .dataframe tbody tr th {\n",
       "        vertical-align: top;\n",
       "    }\n",
       "\n",
       "    .dataframe thead th {\n",
       "        text-align: right;\n",
       "    }\n",
       "</style>\n",
       "<table border=\"1\" class=\"dataframe\">\n",
       "  <thead>\n",
       "    <tr style=\"text-align: right;\">\n",
       "      <th></th>\n",
       "      <th>duration</th>\n",
       "      <th>service</th>\n",
       "      <th>src_bytes</th>\n",
       "      <th>dst_bytes</th>\n",
       "      <th>hot</th>\n",
       "      <th>num_failed_logins</th>\n",
       "      <th>num_compromised</th>\n",
       "      <th>num_root</th>\n",
       "      <th>num_file_creations</th>\n",
       "      <th>num_access_files</th>\n",
       "      <th>...</th>\n",
       "      <th>dst_host_srv_count</th>\n",
       "      <th>dst_host_same_srv_rate</th>\n",
       "      <th>dst_host_diff_srv_rate</th>\n",
       "      <th>dst_host_same_src_port_rate</th>\n",
       "      <th>dst_host_srv_diff_host_rate</th>\n",
       "      <th>dst_host_serror_rate</th>\n",
       "      <th>dst_host_srv_serror_rate</th>\n",
       "      <th>dst_host_rerror_rate</th>\n",
       "      <th>dst_host_srv_rerror_rate</th>\n",
       "      <th>xAttack</th>\n",
       "    </tr>\n",
       "  </thead>\n",
       "  <tbody>\n",
       "    <tr>\n",
       "      <th>0</th>\n",
       "      <td>0</td>\n",
       "      <td>25</td>\n",
       "      <td>193</td>\n",
       "      <td>441</td>\n",
       "      <td>0</td>\n",
       "      <td>0</td>\n",
       "      <td>0</td>\n",
       "      <td>0</td>\n",
       "      <td>0</td>\n",
       "      <td>0</td>\n",
       "      <td>...</td>\n",
       "      <td>255</td>\n",
       "      <td>1.00</td>\n",
       "      <td>0.00</td>\n",
       "      <td>0.07</td>\n",
       "      <td>0.04</td>\n",
       "      <td>0.00</td>\n",
       "      <td>0.04</td>\n",
       "      <td>0.0</td>\n",
       "      <td>0.0</td>\n",
       "      <td>normal</td>\n",
       "    </tr>\n",
       "    <tr>\n",
       "      <th>1</th>\n",
       "      <td>0</td>\n",
       "      <td>38</td>\n",
       "      <td>0</td>\n",
       "      <td>0</td>\n",
       "      <td>0</td>\n",
       "      <td>0</td>\n",
       "      <td>0</td>\n",
       "      <td>0</td>\n",
       "      <td>0</td>\n",
       "      <td>0</td>\n",
       "      <td>...</td>\n",
       "      <td>1</td>\n",
       "      <td>0.00</td>\n",
       "      <td>0.07</td>\n",
       "      <td>0.00</td>\n",
       "      <td>0.00</td>\n",
       "      <td>0.00</td>\n",
       "      <td>0.00</td>\n",
       "      <td>1.0</td>\n",
       "      <td>1.0</td>\n",
       "      <td>dos</td>\n",
       "    </tr>\n",
       "    <tr>\n",
       "      <th>2</th>\n",
       "      <td>0</td>\n",
       "      <td>25</td>\n",
       "      <td>167</td>\n",
       "      <td>9724</td>\n",
       "      <td>0</td>\n",
       "      <td>0</td>\n",
       "      <td>0</td>\n",
       "      <td>0</td>\n",
       "      <td>0</td>\n",
       "      <td>0</td>\n",
       "      <td>...</td>\n",
       "      <td>255</td>\n",
       "      <td>1.00</td>\n",
       "      <td>0.00</td>\n",
       "      <td>0.03</td>\n",
       "      <td>0.06</td>\n",
       "      <td>0.00</td>\n",
       "      <td>0.00</td>\n",
       "      <td>0.0</td>\n",
       "      <td>0.0</td>\n",
       "      <td>normal</td>\n",
       "    </tr>\n",
       "    <tr>\n",
       "      <th>3</th>\n",
       "      <td>0</td>\n",
       "      <td>20</td>\n",
       "      <td>1339</td>\n",
       "      <td>0</td>\n",
       "      <td>0</td>\n",
       "      <td>0</td>\n",
       "      <td>0</td>\n",
       "      <td>0</td>\n",
       "      <td>0</td>\n",
       "      <td>0</td>\n",
       "      <td>...</td>\n",
       "      <td>31</td>\n",
       "      <td>0.23</td>\n",
       "      <td>0.04</td>\n",
       "      <td>0.23</td>\n",
       "      <td>0.00</td>\n",
       "      <td>0.02</td>\n",
       "      <td>0.00</td>\n",
       "      <td>0.0</td>\n",
       "      <td>0.0</td>\n",
       "      <td>normal</td>\n",
       "    </tr>\n",
       "    <tr>\n",
       "      <th>4</th>\n",
       "      <td>0</td>\n",
       "      <td>37</td>\n",
       "      <td>0</td>\n",
       "      <td>0</td>\n",
       "      <td>0</td>\n",
       "      <td>0</td>\n",
       "      <td>0</td>\n",
       "      <td>0</td>\n",
       "      <td>0</td>\n",
       "      <td>0</td>\n",
       "      <td>...</td>\n",
       "      <td>25</td>\n",
       "      <td>0.10</td>\n",
       "      <td>0.05</td>\n",
       "      <td>0.00</td>\n",
       "      <td>0.00</td>\n",
       "      <td>1.00</td>\n",
       "      <td>1.00</td>\n",
       "      <td>0.0</td>\n",
       "      <td>0.0</td>\n",
       "      <td>dos</td>\n",
       "    </tr>\n",
       "  </tbody>\n",
       "</table>\n",
       "<p>5 rows × 30 columns</p>\n",
       "</div>"
      ],
      "text/plain": [
       "   duration  service  src_bytes  dst_bytes  hot  num_failed_logins  \\\n",
       "0         0       25        193        441    0                  0   \n",
       "1         0       38          0          0    0                  0   \n",
       "2         0       25        167       9724    0                  0   \n",
       "3         0       20       1339          0    0                  0   \n",
       "4         0       37          0          0    0                  0   \n",
       "\n",
       "   num_compromised  num_root  num_file_creations  num_access_files   ...     \\\n",
       "0                0         0                   0                 0   ...      \n",
       "1                0         0                   0                 0   ...      \n",
       "2                0         0                   0                 0   ...      \n",
       "3                0         0                   0                 0   ...      \n",
       "4                0         0                   0                 0   ...      \n",
       "\n",
       "   dst_host_srv_count  dst_host_same_srv_rate  dst_host_diff_srv_rate  \\\n",
       "0                 255                    1.00                    0.00   \n",
       "1                   1                    0.00                    0.07   \n",
       "2                 255                    1.00                    0.00   \n",
       "3                  31                    0.23                    0.04   \n",
       "4                  25                    0.10                    0.05   \n",
       "\n",
       "   dst_host_same_src_port_rate  dst_host_srv_diff_host_rate  \\\n",
       "0                         0.07                         0.04   \n",
       "1                         0.00                         0.00   \n",
       "2                         0.03                         0.06   \n",
       "3                         0.23                         0.00   \n",
       "4                         0.00                         0.00   \n",
       "\n",
       "   dst_host_serror_rate  dst_host_srv_serror_rate  dst_host_rerror_rate  \\\n",
       "0                  0.00                      0.04                   0.0   \n",
       "1                  0.00                      0.00                   1.0   \n",
       "2                  0.00                      0.00                   0.0   \n",
       "3                  0.02                      0.00                   0.0   \n",
       "4                  1.00                      1.00                   0.0   \n",
       "\n",
       "   dst_host_srv_rerror_rate  xAttack  \n",
       "0                       0.0   normal  \n",
       "1                       1.0      dos  \n",
       "2                       0.0   normal  \n",
       "3                       0.0   normal  \n",
       "4                       0.0      dos  \n",
       "\n",
       "[5 rows x 30 columns]"
      ]
     },
     "execution_count": 10,
     "metadata": {},
     "output_type": "execute_result"
    }
   ],
   "source": [
    "df.head()"
   ]
  },
  {
   "cell_type": "markdown",
   "metadata": {},
   "source": [
    "### Util Functions"
   ]
  },
  {
   "cell_type": "code",
   "execution_count": 11,
   "metadata": {},
   "outputs": [],
   "source": [
    "def linear(x):\n",
    "    '''\n",
    "    Activation function - Rectified Linear Unit\n",
    "    '''\n",
    "    return x\n",
    "\n",
    "def ReLU(x):\n",
    "    '''\n",
    "    Activation function - Rectified Linear Unit\n",
    "    '''\n",
    "    return np.maximum(x, 0)\n",
    "\n",
    "def sigmoid(x):\n",
    "    '''\n",
    "    Activation function - Sigmoid\n",
    "    '''\n",
    "    y = 1/(1+np.exp(-x))\n",
    "    return y\n",
    "\n",
    "def softmax(x):\n",
    "    '''\n",
    "    Activation function - softmax \n",
    "    '''\n",
    "    y = np.exp(x)\n",
    "    res = y / np.sum(y, axis=1, keepdims=True)\n",
    "    return np.nan_to_num(res)\n",
    "\n",
    "def crossEntropy(y, yhat):\n",
    "    '''\n",
    "    Loss Function - Cross Entropy\n",
    "    '''\n",
    "    e = np.multiply(y, np.log(1e-10+yhat)) + np.multiply(1-y, np.log(1e-10+1-yhat))\n",
    "    return -1/len(y)*np.mean(np.sum(e, axis=0))\n",
    "\n",
    "def MSE(y, yhat):\n",
    "    '''\n",
    "    Mean Squared Error\n",
    "    '''\n",
    "    return np.mean(np.sum((y-yhat)**2,axis=1),axis=0)/2\n",
    "\n",
    "def plotLossCurve(myNN):\n",
    "    '''\n",
    "    Function to plot the Loss vs Iteration Number\n",
    "    '''\n",
    "    ax = plt.subplot()\n",
    "    ax.plot(list(range(len(myNN.costs))), myNN.costs)\n",
    "    ax.set_title(\"Loss vs Iteration\")\n",
    "    ax.set_xlabel(\"Iteration Number\")\n",
    "    ax.set_ylabel(\"Loss\")\n",
    "    plt.show()\n",
    "\n",
    "def plotLossCurves(myNNs, acts):\n",
    "    '''\n",
    "    Function to plot the Loss vs Iteration Number for different activation functions\n",
    "    '''\n",
    "    ax = plt.subplot()\n",
    "    for myNN, act in zip(myNNs, acts):\n",
    "        ax.plot(list(range(len(myNN.costs))), myNN.costs, label = act)\n",
    "        ax.set_title(\"Loss vs Iteration\")\n",
    "        ax.set_xlabel(\"Iteration Number\")\n",
    "        ax.set_ylabel(\"Loss\")\n",
    "        ax.legend(loc = \"upper right\")\n",
    "    plt.show()\n",
    "\n",
    "def plotErrorCurve(myNN):\n",
    "    '''\n",
    "    Function to plot the Error vs Iteration Number\n",
    "    '''\n",
    "    ax = plt.subplot()\n",
    "    ax.plot(list(range(len(myNN.errors))), myNN.errors)\n",
    "    ax.set_title(\"Error vs Iteration\")\n",
    "    ax.set_xlabel(\"Iteration Number\")\n",
    "    ax.set_ylabel(\"Error\")\n",
    "    plt.show()"
   ]
  },
  {
   "cell_type": "markdown",
   "metadata": {},
   "source": [
    "## Question 1 : Doing dimentionality reduction using auto encoder"
   ]
  },
  {
   "cell_type": "markdown",
   "metadata": {},
   "source": [
    "### My AutoEncoder"
   ]
  },
  {
   "cell_type": "code",
   "execution_count": 12,
   "metadata": {},
   "outputs": [],
   "source": [
    "class AutoEncoder:\n",
    "    def __init__(self, input_layer, hidden_layers, output_layer, alpha, iterations, batch_size = 256,\n",
    "                 hidden_activation = 'linear', input_activation = 'linear', output_activation = 'linear',\n",
    "                 scale=True):\n",
    "        '''\n",
    "        Initializing the neural network parameters\n",
    "        '''\n",
    "        self.layers = [input_layer] + hidden_layers + [output_layer]\n",
    "        self.input_layer = input_layer\n",
    "        self.hidden_activation = hidden_activation\n",
    "        self.output_layer = output_layer\n",
    "        self.output_activation = output_activation\n",
    "        self.input_activation = input_activation\n",
    "        self.alpha = alpha\n",
    "        self.iterations = iterations\n",
    "        self.batch_size = batch_size\n",
    "        self.dz = []\n",
    "        self.da = []\n",
    "        self.dw = []\n",
    "        self.W = []\n",
    "        self.db = []\n",
    "        self.z = []\n",
    "        self.a = []\n",
    "        self.b = []\n",
    "        self.yhat = None\n",
    "        self.initialize_weights()\n",
    "        self.scalar = None\n",
    "        self.scale = scale\n",
    "        self.bottlenecklayer = int(len(hidden_layers)/2)+1\n",
    "        \n",
    "    def loadWeights(self, path = \"./weights/weights.pickle\"):\n",
    "        '''\n",
    "        Load weights/bias/standard scalar\n",
    "        '''\n",
    "        with open(path, 'rb') as handle:\n",
    "            weights = pickle.load(handle)\n",
    "        self.W = weights['w']\n",
    "        self.b = weights['b']\n",
    "        self.scalar = weights['scalar']\n",
    "\n",
    "    def saveWeights(self, path = \"./weights/weights.pickle\"):\n",
    "        '''\n",
    "        Save weights/bias/standard scalar\n",
    "        '''\n",
    "        weights = {}\n",
    "        weights['w'] = self.W\n",
    "        weights['b'] = self.b\n",
    "        weights['scalar'] = self.scalar\n",
    "        with open(path, 'wb') as handle:\n",
    "            pickle.dump(weights, handle, protocol=pickle.HIGHEST_PROTOCOL)\n",
    "        \n",
    "    def standardize(self, X_train):\n",
    "        '''\n",
    "        Standardize the input data \n",
    "        '''\n",
    "        if(self.scalar is None):\n",
    "            scalar = StandardScaler()\n",
    "            self.scalar = scalar.fit(X_train)\n",
    "        return self.scalar.transform(X_train)\n",
    "    \n",
    "    def initialize_weights(self):\n",
    "        '''\n",
    "        Initializing the weights and bias\n",
    "        '''\n",
    "        np.random.seed(20) ## Setting the seed\n",
    "        for i in range(len(self.layers)-1):\n",
    "            wt = np.random.randn(self.layers[i+1],self.layers[i])*np.sqrt(2/self.layers[i])\n",
    "            w = wt.T\n",
    "#             w = np.random.randn(self.layers[i],self.layers[i+1])*np.sqrt(2/self.layers[i])\n",
    "            self.W.append(w)\n",
    "            b = np.ones(self.layers[i+1]).reshape(1,-1)\n",
    "            self.b.append(b)\n",
    "        \n",
    "    def train(self, X_train):\n",
    "        '''\n",
    "        Training the neural network model\n",
    "        '''\n",
    "        X_train = X_train.copy()\n",
    "        if(len(X_train) == 1):\n",
    "            # Converting the 1-d array to 2-d\n",
    "            X_train = X_train.values.reshape(1,-1)\n",
    "        else:\n",
    "            X_train = X_train.values\n",
    "        if(self.scale):\n",
    "            X_train = self.standardize(X_train)\n",
    "        if(self.input_activation == \"linear\"):\n",
    "            X_train = linear(X_train)\n",
    "        elif(self.input_activation == \"sigmoid\"):\n",
    "            X_train = sigmoid(X_train)\n",
    "        elif(self.input_activation == \"tanh\"):\n",
    "            X_train = tanh(X_train)\n",
    "        encoded_y = X_train.copy()\n",
    "#         print(encoded_y)\n",
    "        self.costs = []\n",
    "        self.errors = []\n",
    "        for i in range(self.iterations):\n",
    "            '''\n",
    "            Running batch gradient descendent\n",
    "            '''\n",
    "            offset = 0\n",
    "            while(True):\n",
    "                start = offset\n",
    "                end = min(offset + self.batch_size, len(X_train))\n",
    "                self.forward_propagation(X_train[start:end, :])\n",
    "                self.backward_propagation(encoded_y[start:end, :], self.yhat[start:end], self.alpha)\n",
    "                offset += self.batch_size\n",
    "                if(offset >= len(X_train)):\n",
    "                    break\n",
    "            self.costs.append(MSE(encoded_y, self.yhat)) ## Append the epoch loss\n",
    "            self.yhat = None\n",
    "            \n",
    "    def forward_propagation(self, X_train):\n",
    "        '''\n",
    "        Forward propagation: called for each batch \n",
    "        '''\n",
    "        a = X_train\n",
    "        self.a.append(a)\n",
    "        for i in range(len(self.W)):\n",
    "            z = np.dot(a, self.W[i]) + self.b[i]\n",
    "            self.z.append(z)\n",
    "            if(i == len(self.W)-1):\n",
    "                '''\n",
    "                Output layer\n",
    "                '''\n",
    "                if(self.output_activation == \"linear\"):\n",
    "                    temp = linear(z)\n",
    "                elif(self.output_activation == \"sigmoid\"):\n",
    "                    temp = sigmoid(z)\n",
    "                elif(self.output_activation == \"tanh\"):\n",
    "                    temp = tanh(z)\n",
    "                elif(self.output_activation == \"sigmoid\"):\n",
    "                    temp = sigmoid(z)\n",
    "                if(self.yhat is None):\n",
    "                    self.yhat = temp\n",
    "                else:\n",
    "                    self.yhat = np.append(self.yhat, temp, axis=0)\n",
    "            else:\n",
    "                '''\n",
    "                Hidden layers\n",
    "                '''\n",
    "                if(self.hidden_activation == \"relu\"):\n",
    "                    a = ReLU(z)\n",
    "                elif(self.hidden_activation == \"sigmoid\"):\n",
    "                    a = sigmoid(z)\n",
    "                elif(self.hidden_activation == \"tanh\"):\n",
    "                    a = np.tanh(z)\n",
    "                elif(self.hidden_activation == \"linear\"):\n",
    "                    a = linear(z)\n",
    "                self.a.append(a)\n",
    "#         print(self.yhat)\n",
    "    \n",
    "    def reset_layer_metrics(self):\n",
    "        '''\n",
    "        Resetting the internal forward/backward data arrays\n",
    "        '''\n",
    "        self.dz = []\n",
    "        self.da = []\n",
    "        self.dw = []\n",
    "        self.db = []\n",
    "        self.z = []\n",
    "        self.a = []\n",
    "    \n",
    "    def backward_propagation(self, Y_train, yhat, alpha):\n",
    "        '''\n",
    "        backward propagation: called for each batch after call to forward propagation\n",
    "        '''\n",
    "        temp_W = self.W.copy()\n",
    "        m = len(Y_train)\n",
    "        for i in range(len(self.W)-1, -1, -1):\n",
    "            if(i == len(self.W)-1):\n",
    "                '''\n",
    "                Ouput layer\n",
    "                '''\n",
    "                if(self.output_activation == \"linear\"):\n",
    "                    dz_temp = (yhat - Y_train)/len(yhat)\n",
    "                elif(self.output_activation == \"sigmoid\"):\n",
    "                    dz_temp = yhat - Y_train\n",
    "                elif(self.output_activation == \"softmax\"):\n",
    "                    dz_temp = yhat - Y_train\n",
    "            else:\n",
    "                '''\n",
    "                Hidden layers\n",
    "                '''\n",
    "                if(self.hidden_activation == \"relu\"):\n",
    "                    dz_temp = np.multiply(np.dot(self.dz[-1], temp_W[i+1].T), (self.a[i+1] > 0).astype(int)) # For RELU\n",
    "                elif(self.hidden_activation == \"sigmoid\"):\n",
    "                    dz_temp = np.multiply(np.dot(self.dz[-1], temp_W[i+1].T), np.multiply(self.a[i+1], 1 - self.a[i+1])) # For Sigmoid\n",
    "                elif(self.hidden_activation == \"tanh\"):\n",
    "                    dz_temp = np.multiply(np.dot(self.dz[-1], temp_W[i+1].T), 1 - np.square(np.tanh(self.a[i+1]))) # For tanh\n",
    "                elif(self.hidden_activation == \"linear\"):\n",
    "                    dz_temp = np.dot(self.dz[-1], temp_W[i+1].T) # For linear\n",
    "            self.dz.append(dz_temp) ## delta\n",
    "            db_temp = (1/m)*np.sum(dz_temp, axis=0, keepdims=True) ## db\n",
    "            self.db.append(db_temp)\n",
    "            dw_temp = (1/m)*np.dot(self.a[i].T, dz_temp) ## dw\n",
    "            self.dw.append(dw_temp)\n",
    "            \n",
    "            ## Updating the weight and bais of the layer i\n",
    "            self.W[i] = self.W[i] - alpha*dw_temp\n",
    "            self.b[i] = self.b[i] - alpha*db_temp\n",
    "#         print(self.W)\n",
    "        self.reset_layer_metrics()\n",
    "    \n",
    "    def printWeights(self):\n",
    "        '''\n",
    "        print the current weights/bias\n",
    "        '''\n",
    "        print(self.W)\n",
    "        print(self.b)\n",
    "\n",
    "    def reduceDimensions(self, X_test):\n",
    "        '''\n",
    "        predict the output labels for the given test input\n",
    "        '''\n",
    "        X_test = X_test.copy()\n",
    "        self.yhat = None\n",
    "        self.reset_layer_metrics()\n",
    "        X_test = np.array(X_test)\n",
    "        X_test = self.standardize(X_test)\n",
    "        self.forward_propagation(X_test)\n",
    "        df = self.a[self.bottlenecklayer]\n",
    "        new_cols = ['dim_']*len(df[1])\n",
    "        for i in range(len(new_cols)):\n",
    "            new_cols[i] = new_cols[i] + str(i+1)\n",
    "        return pd.DataFrame(df,columns=new_cols)\n",
    "    \n",
    "    def Loss(self, X_test, y_test):\n",
    "        '''\n",
    "        Return the Loss of the test dataset\n",
    "        '''\n",
    "        self.yhat = None\n",
    "        self.reset_layer_metrics()\n",
    "        X_test = np.array(X_test)\n",
    "        X_test = self.standardize(X_test)\n",
    "        self.forward_propagation(X_test)\n",
    "        res = self.yhat.copy()\n",
    "        onehot_encoder = OneHotEncoder(n_values=10,sparse=False) ## One hot encode of the output labels\n",
    "        encoded_y = onehot_encoder.fit_transform(y_test)\n",
    "        return crossEntropy(encoded_y, res)"
   ]
  },
  {
   "cell_type": "markdown",
   "metadata": {},
   "source": [
    "### Implementation Details:\n",
    "1. Coded simple and deep autoencoder\n",
    "3. Played around with \"relu\", \"sigmoid\", \"tanh\" as the hidden layer activation functions"
   ]
  },
  {
   "cell_type": "code",
   "execution_count": 13,
   "metadata": {},
   "outputs": [],
   "source": [
    "X = df.iloc[:,df.columns != target]\n",
    "Y = df[target]"
   ]
  },
  {
   "cell_type": "markdown",
   "metadata": {},
   "source": [
    "### All Linear"
   ]
  },
  {
   "cell_type": "code",
   "execution_count": 14,
   "metadata": {},
   "outputs": [
    {
     "name": "stdout",
     "output_type": "stream",
     "text": [
      "Mean Squared Error\n"
     ]
    },
    {
     "data": {
      "text/plain": [
       "2.1517563275898266"
      ]
     },
     "execution_count": 14,
     "metadata": {},
     "output_type": "execute_result"
    }
   ],
   "source": [
    "myNN = AutoEncoder(input_layer=X.shape[1], hidden_layers=[14], output_layer=X.shape[1], alpha=0.1,\n",
    "                    iterations=200, batch_size = 256, hidden_activation = 'linear', output_activation = 'linear')\n",
    "myNN.train(X)\n",
    "print(\"Mean Squared Error\")\n",
    "myNN.costs[-1]"
   ]
  },
  {
   "cell_type": "code",
   "execution_count": 15,
   "metadata": {},
   "outputs": [
    {
     "data": {
      "image/png": "[encoded data removed]",
      "text/plain": [
       "<Figure size 432x288 with 1 Axes>"
      ]
     },
     "metadata": {},
     "output_type": "display_data"
    }
   ],
   "source": [
    "plotLossCurve(myNN)"
   ]
  },
  {
   "cell_type": "markdown",
   "metadata": {},
   "source": [
    "### Input/Output - Linear, Hidden - sigmoid"
   ]
  },
  {
   "cell_type": "code",
   "execution_count": 16,
   "metadata": {},
   "outputs": [
    {
     "name": "stdout",
     "output_type": "stream",
     "text": [
      "Mean Squared Error\n"
     ]
    },
    {
     "data": {
      "text/plain": [
       "0.014464234213423188"
      ]
     },
     "execution_count": 16,
     "metadata": {},
     "output_type": "execute_result"
    }
   ],
   "source": [
    "myNN1 = AutoEncoder(input_layer=X.shape[1], hidden_layers=[14], output_layer=X.shape[1], alpha=0.1,\n",
    "                    iterations=40, batch_size = 256, hidden_activation = 'linear', output_activation = 'sigmoid',\n",
    "                  input_activation='sigmoid')\n",
    "myNN1.train(X)\n",
    "print(\"Mean Squared Error\")\n",
    "myNN1.costs[-1]"
   ]
  },
  {
   "cell_type": "code",
   "execution_count": 17,
   "metadata": {},
   "outputs": [
    {
     "data": {
      "image/png": "[encoded data removed]",
      "text/plain": [
       "<Figure size 432x288 with 1 Axes>"
      ]
     },
     "metadata": {},
     "output_type": "display_data"
    }
   ],
   "source": [
    "plotLossCurve(myNN)"
   ]
  },
  {
   "cell_type": "markdown",
   "metadata": {},
   "source": [
    "### Input/Output - sigmoid, Hidden - sigmoid"
   ]
  },
  {
   "cell_type": "code",
   "execution_count": 18,
   "metadata": {},
   "outputs": [
    {
     "name": "stdout",
     "output_type": "stream",
     "text": [
      "Mean Squared Error\n"
     ]
    },
    {
     "data": {
      "text/plain": [
       "0.026190517056719122"
      ]
     },
     "execution_count": 18,
     "metadata": {},
     "output_type": "execute_result"
    }
   ],
   "source": [
    "myNN = AutoEncoder(input_layer=X.shape[1], hidden_layers=[14], output_layer=X.shape[1], alpha=0.1,\n",
    "                    iterations=80, batch_size = 256, hidden_activation = 'sigmoid', output_activation = 'sigmoid',\n",
    "                   input_activation='sigmoid')\n",
    "myNN.train(X)\n",
    "print(\"Mean Squared Error\")\n",
    "myNN.costs[-1]"
   ]
  },
  {
   "cell_type": "code",
   "execution_count": 19,
   "metadata": {},
   "outputs": [
    {
     "data": {
      "image/png": "[encoded data removed]",
      "text/plain": [
       "<Figure size 432x288 with 1 Axes>"
      ]
     },
     "metadata": {},
     "output_type": "display_data"
    }
   ],
   "source": [
    "plotLossCurve(myNN)"
   ]
  },
  {
   "cell_type": "markdown",
   "metadata": {},
   "source": [
    "### Deep Autoencoder Input/Output - sigmoid, Hidden - sigmoid"
   ]
  },
  {
   "cell_type": "code",
   "execution_count": 20,
   "metadata": {},
   "outputs": [
    {
     "name": "stdout",
     "output_type": "stream",
     "text": [
      "Mean Squared Error\n"
     ]
    },
    {
     "data": {
      "text/plain": [
       "0.06354977671105777"
      ]
     },
     "execution_count": 20,
     "metadata": {},
     "output_type": "execute_result"
    }
   ],
   "source": [
    "myNN = AutoEncoder(input_layer=X.shape[1], hidden_layers=[20,14,20], output_layer=X.shape[1], alpha=0.1,\n",
    "                    iterations=100, batch_size = 256, hidden_activation = 'sigmoid', output_activation = 'sigmoid',\n",
    "                   input_activation='sigmoid')\n",
    "myNN.train(X)\n",
    "print(\"Mean Squared Error\")\n",
    "myNN.costs[-1]"
   ]
  },
  {
   "cell_type": "code",
   "execution_count": 21,
   "metadata": {},
   "outputs": [
    {
     "data": {
      "image/png": "[encoded data removed]",
      "text/plain": [
       "<Figure size 432x288 with 1 Axes>"
      ]
     },
     "metadata": {},
     "output_type": "display_data"
    }
   ],
   "source": [
    "plotLossCurve(myNN)"
   ]
  },
  {
   "cell_type": "markdown",
   "metadata": {},
   "source": [
    "### Util Functions"
   ]
  },
  {
   "cell_type": "code",
   "execution_count": 22,
   "metadata": {},
   "outputs": [],
   "source": [
    "def calcPurity(n_clusters, y_pred , y):\n",
    "    labels_ = {}\n",
    "    y_pred = np.array(y_pred)\n",
    "    y = np.array(y)\n",
    "    for i in range(n_clusters):\n",
    "        lst = list(y[y_pred == i])\n",
    "        labels_[i]  = max(set(lst), key=lst.count)\n",
    "    purity = {}\n",
    "    for i in range(n_clusters):\n",
    "        temp = y_pred[y_pred == i]\n",
    "        temp = np.array([labels_[i] for i in temp])\n",
    "        y1 = y[y_pred == i]\n",
    "        purity[i] = len(temp[temp == y1])/len(temp)\n",
    "    return (labels_, purity)"
   ]
  },
  {
   "cell_type": "markdown",
   "metadata": {},
   "source": [
    "### My K-Means"
   ]
  },
  {
   "cell_type": "code",
   "execution_count": 23,
   "metadata": {},
   "outputs": [],
   "source": [
    "class MyKmeans():\n",
    "    '''\n",
    "    K-Means Class\n",
    "    '''\n",
    "    def __init__(self, n_clusters = 3, random_state = 0, max_iter=300, tol=0.0001):\n",
    "        self.n_clusters = n_clusters\n",
    "        self.random_state = random_state\n",
    "        self.max_iter = max_iter\n",
    "        self.tol = tol\n",
    "    \n",
    "    def fit(self, df, y):\n",
    "        np_df = df.values\n",
    "        y = y.values\n",
    "        self.cols = df.columns.values\n",
    "        self.centers = {}\n",
    "        temp = random.sample(range(df.shape[0]),self.n_clusters)\n",
    "        for i in range(len(temp)):\n",
    "            self.centers[i] = np_df[temp[i]]\n",
    "        for i in range(self.max_iter):\n",
    "            self.classes = {}\n",
    "            self.indexes = {}\n",
    "            prev_centers = dict(self.centers)\n",
    "            for t in range(self.n_clusters):\n",
    "                self.classes[t] = []\n",
    "                self.indexes[t] = []\n",
    "            start = 0\n",
    "            for row in np_df:\n",
    "                dists = [np.linalg.norm(row-self.centers[c]) for c in self.centers]\n",
    "                index = dists.index(min(dists))\n",
    "                self.classes[index].append(row)\n",
    "                self.indexes[index].append(start)\n",
    "                start += 1\n",
    "            for t in range(len(self.centers)):\n",
    "                self.centers[t] = np.average(self.classes[t], axis = 0)\n",
    "            flag = True\n",
    "            error = 0.00\n",
    "            for t in range(len(self.centers)):\n",
    "                e = np.linalg.norm(prev_centers[t]-self.centers[t])\n",
    "                error += e\n",
    "                if(e > self.tol):\n",
    "                    flag = False\n",
    "#             print(\"Iteration: {0}\".format(i))\n",
    "#             print(\"Error: {0}\".format(float(error)))\n",
    "            if(flag):\n",
    "                break\n",
    "        self.labels_ = {}\n",
    "        for t in range(self.n_clusters):\n",
    "            lst = list(y[self.indexes[t]])\n",
    "#             print(lst)\n",
    "            self.labels_[t] = max(set(lst), key=lst.count)\n",
    "        self.purity = {}\n",
    "        for t in range(self.n_clusters):\n",
    "            self.purity[t] = len(y[self.indexes[t]][y[self.indexes[t]] == self.labels_[t]])/len(self.classes[t])\n",
    "    \n",
    "    def predict_row(self, row):\n",
    "        dists = [np.linalg.norm(row-self.centers[c]) for c in self.centers]\n",
    "        index = dists.index(min(dists))\n",
    "        return index\n",
    "        \n",
    "    def predict(self, df):\n",
    "        res = []\n",
    "        for row in df.values:\n",
    "            res.append(self.predict_row(row))\n",
    "        return np.array(res)"
   ]
  },
  {
   "cell_type": "markdown",
   "metadata": {},
   "source": [
    "## All Linear activations"
   ]
  },
  {
   "cell_type": "code",
   "execution_count": 24,
   "metadata": {},
   "outputs": [
    {
     "name": "stdout",
     "output_type": "stream",
     "text": [
      "Mean Squared Error\n"
     ]
    },
    {
     "data": {
      "text/plain": [
       "3.049340516585485"
      ]
     },
     "execution_count": 24,
     "metadata": {},
     "output_type": "execute_result"
    }
   ],
   "source": [
    "myNN = AutoEncoder(input_layer=X.shape[1], hidden_layers=[14], output_layer=X.shape[1], alpha=0.1,\n",
    "                    iterations=80, batch_size = 256, hidden_activation = 'linear', output_activation = 'linear')\n",
    "myNN.train(X)\n",
    "print(\"Mean Squared Error\")\n",
    "myNN.costs[-1]"
   ]
  },
  {
   "cell_type": "code",
   "execution_count": 25,
   "metadata": {},
   "outputs": [
    {
     "data": {
      "image/png": "[encoded data removed]",
      "text/plain": [
       "<Figure size 432x288 with 1 Axes>"
      ]
     },
     "metadata": {},
     "output_type": "display_data"
    }
   ],
   "source": [
    "plotLossCurve(myNN)"
   ]
  },
  {
   "cell_type": "code",
   "execution_count": 26,
   "metadata": {},
   "outputs": [],
   "source": [
    "X_train = myNN.reduceDimensions(X)\n",
    "y_train = Y\n",
    "X_train, X_test, y_train, y_test = splitData(X_train, y_train)\n",
    "kmeans = MyKmeans(5, max_iter=20)\n",
    "kmeans.fit(X_train, y_train)\n",
    "kmeans_pred = kmeans.predict(X_train)"
   ]
  },
  {
   "cell_type": "markdown",
   "metadata": {},
   "source": [
    "### Part-2 K-Means"
   ]
  },
  {
   "cell_type": "code",
   "execution_count": 27,
   "metadata": {},
   "outputs": [
    {
     "name": "stdout",
     "output_type": "stream",
     "text": [
      "KMeans Purity:\n"
     ]
    },
    {
     "data": {
      "text/plain": [
       "({0: 'dos', 1: 'normal', 2: 'normal', 3: 'probe', 4: 'dos'},\n",
       " {0: 0.45755517826825126,\n",
       "  1: 0.8381753312945973,\n",
       "  2: 0.9295057138923309,\n",
       "  3: 0.7404580152671756,\n",
       "  4: 0.9835680751173709})"
      ]
     },
     "execution_count": 27,
     "metadata": {},
     "output_type": "execute_result"
    }
   ],
   "source": [
    "print(\"KMeans Purity:\")\n",
    "calcPurity(5, kmeans_pred, y_train)"
   ]
  },
  {
   "cell_type": "markdown",
   "metadata": {},
   "source": [
    "### Sklearn K means"
   ]
  },
  {
   "cell_type": "code",
   "execution_count": 28,
   "metadata": {},
   "outputs": [],
   "source": [
    "from sklearn.cluster import KMeans"
   ]
  },
  {
   "cell_type": "code",
   "execution_count": 29,
   "metadata": {},
   "outputs": [],
   "source": [
    "kmeans1 = KMeans(n_clusters=5, random_state=0).fit(X_train)"
   ]
  },
  {
   "cell_type": "code",
   "execution_count": 30,
   "metadata": {},
   "outputs": [],
   "source": [
    "sk_kmeans_pred = kmeans1.predict(X_train)"
   ]
  },
  {
   "cell_type": "code",
   "execution_count": 31,
   "metadata": {},
   "outputs": [
    {
     "data": {
      "text/plain": [
       "({0: 'dos', 1: 'dos', 2: 'normal', 3: 'normal', 4: 'normal'},\n",
       " {0: 0.43767762890783596,\n",
       "  1: 0.9830477908025248,\n",
       "  2: 0.9233541233541234,\n",
       "  3: 0.729236577181208,\n",
       "  4: 1.0})"
      ]
     },
     "execution_count": 31,
     "metadata": {},
     "output_type": "execute_result"
    }
   ],
   "source": [
    "calcPurity(5, sk_kmeans_pred, y_train)"
   ]
  },
  {
   "cell_type": "markdown",
   "metadata": {},
   "source": [
    "### Part-3 GMM"
   ]
  },
  {
   "cell_type": "code",
   "execution_count": 32,
   "metadata": {},
   "outputs": [],
   "source": [
    "from scipy.misc import imread, imshow\n",
    "from sklearn import mixture\n",
    "gmm = mixture.GaussianMixture(covariance_type='full', n_components=5)\n",
    "gmm.fit(X_train)\n",
    "gmm_pred = gmm.predict(X_train)"
   ]
  },
  {
   "cell_type": "code",
   "execution_count": 33,
   "metadata": {},
   "outputs": [
    {
     "name": "stdout",
     "output_type": "stream",
     "text": [
      "[1 2 2 ... 1 2 1]\n"
     ]
    }
   ],
   "source": [
    "print(gmm_pred)"
   ]
  },
  {
   "cell_type": "code",
   "execution_count": 34,
   "metadata": {},
   "outputs": [
    {
     "data": {
      "text/plain": [
       "({0: 'dos', 1: 'normal', 2: 'dos', 3: 'probe', 4: 'normal'},\n",
       " {0: 0.5873330034636318,\n",
       "  1: 0.9404499877720714,\n",
       "  2: 1.0,\n",
       "  3: 0.9915110356536503,\n",
       "  4: 0.5813510941960038})"
      ]
     },
     "execution_count": 34,
     "metadata": {},
     "output_type": "execute_result"
    }
   ],
   "source": [
    "calcPurity(5, gmm_pred, y_train)"
   ]
  },
  {
   "cell_type": "markdown",
   "metadata": {},
   "source": [
    "### Part-4 Hierarchical clustering with single-linkage and five clusters."
   ]
  },
  {
   "cell_type": "code",
   "execution_count": 35,
   "metadata": {},
   "outputs": [],
   "source": [
    "from sklearn.cluster import AgglomerativeClustering\n",
    "cluster = AgglomerativeClustering(n_clusters=5, affinity='euclidean', linkage='single')  \n",
    "hclust_pred = cluster.fit_predict(X_train)  "
   ]
  },
  {
   "cell_type": "code",
   "execution_count": 36,
   "metadata": {},
   "outputs": [
    {
     "data": {
      "text/plain": [
       "({0: 'normal', 1: 'normal', 2: 'normal', 3: 'probe', 4: 'r2l'},\n",
       " {0: 1.0, 1: 0.5350012509382036, 2: 1.0, 3: 1.0, 4: 0.6})"
      ]
     },
     "execution_count": 36,
     "metadata": {},
     "output_type": "execute_result"
    }
   ],
   "source": [
    "calcPurity(5, hclust_pred, y_train)"
   ]
  },
  {
   "cell_type": "markdown",
   "metadata": {},
   "source": [
    "### Part-5 Bar Charts"
   ]
  },
  {
   "cell_type": "code",
   "execution_count": 37,
   "metadata": {},
   "outputs": [],
   "source": [
    "cluster_types = {\"kmeans\" : kmeans_pred, \"gmm\" : gmm_pred, \"hclust\" : hclust_pred}"
   ]
  },
  {
   "cell_type": "code",
   "execution_count": 38,
   "metadata": {},
   "outputs": [
    {
     "data": {
      "image/png": "[encoded data removed]",
      "text/plain": [
       "<Figure size 1440x576 with 1 Axes>"
      ]
     },
     "metadata": {},
     "output_type": "display_data"
    },
    {
     "data": {
      "image/png": "[encoded data removed]",
      "text/plain": [
       "<Figure size 1440x576 with 1 Axes>"
      ]
     },
     "metadata": {},
     "output_type": "display_data"
    },
    {
     "data": {
      "image/png": "[encoded data removed]",
      "text/plain": [
       "<Figure size 1440x576 with 1 Axes>"
      ]
     },
     "metadata": {},
     "output_type": "display_data"
    }
   ],
   "source": [
    "plot_index = 0\n",
    "for cluster_type, y_pred in cluster_types.items():\n",
    "    labels, purity = calcPurity(5, y_pred, y_train)\n",
    "    labels = [\"cluster_\" + str(k) + \"_\" + val for k, val in labels.items()]\n",
    "    sizes = [val for k, val in purity.items()]\n",
    "    # print(sizes) # adds up to 1433, which is the total number of participants\n",
    "    ax1 = plt.subplot(2,2,plot_index+1)\n",
    "    ax1.figure.set_size_inches(20, 8)\n",
    "#     ax1.pie(sizes, labels=labels, autopct='%1.1f%%', shadow=True)\n",
    "    plt.bar(labels, sizes, align='center', alpha=0.5)\n",
    "    ax1.axis('equal')\n",
    "    ax1.set_title(\"Purity of \" + str(cluster_type) + \" clustering\")\n",
    "    plot_index += 1\n",
    "    plt.show()"
   ]
  },
  {
   "cell_type": "markdown",
   "metadata": {},
   "source": [
    "## Input/Output - Linear, Hidden - sigmoid"
   ]
  },
  {
   "cell_type": "code",
   "execution_count": 39,
   "metadata": {},
   "outputs": [
    {
     "name": "stdout",
     "output_type": "stream",
     "text": [
      "Mean Squared Error\n"
     ]
    },
    {
     "data": {
      "text/plain": [
       "0.014464234213423188"
      ]
     },
     "execution_count": 39,
     "metadata": {},
     "output_type": "execute_result"
    }
   ],
   "source": [
    "myNN = AutoEncoder(input_layer=X.shape[1], hidden_layers=[14], output_layer=X.shape[1], alpha=0.1,\n",
    "                    iterations=40, batch_size = 256, hidden_activation = 'linear', output_activation = 'sigmoid',\n",
    "                  input_activation='sigmoid')\n",
    "myNN.train(X)\n",
    "print(\"Mean Squared Error\")\n",
    "myNN.costs[-1]"
   ]
  },
  {
   "cell_type": "code",
   "execution_count": 40,
   "metadata": {},
   "outputs": [
    {
     "data": {
      "image/png": "[encoded data removed]",
      "text/plain": [
       "<Figure size 432x288 with 1 Axes>"
      ]
     },
     "metadata": {},
     "output_type": "display_data"
    }
   ],
   "source": [
    "plotLossCurve(myNN)"
   ]
  },
  {
   "cell_type": "code",
   "execution_count": 41,
   "metadata": {},
   "outputs": [],
   "source": [
    "X_train = myNN.reduceDimensions(X)\n",
    "y_train = Y\n",
    "X_train, X_test, y_train, y_test = splitData(X_train, y_train)\n",
    "kmeans = MyKmeans(5, max_iter=20)\n",
    "kmeans.fit(X_train, y_train)\n",
    "kmeans_pred = kmeans.predict(X_train)"
   ]
  },
  {
   "cell_type": "markdown",
   "metadata": {},
   "source": [
    "### Part-2 K-Means"
   ]
  },
  {
   "cell_type": "code",
   "execution_count": 42,
   "metadata": {},
   "outputs": [
    {
     "name": "stdout",
     "output_type": "stream",
     "text": [
      "KMeans Purity:\n"
     ]
    },
    {
     "data": {
      "text/plain": [
       "({0: 'normal', 1: 'dos', 2: 'dos', 3: 'dos', 4: 'probe'},\n",
       " {0: 0.8484440706476031,\n",
       "  1: 0.9777841892671668,\n",
       "  2: 0.6539162112932605,\n",
       "  3: 0.9889793962625779,\n",
       "  4: 0.8590308370044053})"
      ]
     },
     "execution_count": 42,
     "metadata": {},
     "output_type": "execute_result"
    }
   ],
   "source": [
    "print(\"KMeans Purity:\")\n",
    "calcPurity(5, kmeans_pred, y_train)"
   ]
  },
  {
   "cell_type": "markdown",
   "metadata": {},
   "source": [
    "### Sklearn K means"
   ]
  },
  {
   "cell_type": "code",
   "execution_count": 43,
   "metadata": {},
   "outputs": [],
   "source": [
    "from sklearn.cluster import KMeans"
   ]
  },
  {
   "cell_type": "code",
   "execution_count": 44,
   "metadata": {},
   "outputs": [],
   "source": [
    "kmeans1 = KMeans(n_clusters=5, random_state=0).fit(X_train)"
   ]
  },
  {
   "cell_type": "code",
   "execution_count": 45,
   "metadata": {},
   "outputs": [],
   "source": [
    "sk_kmeans_pred = kmeans1.predict(X_train)"
   ]
  },
  {
   "cell_type": "code",
   "execution_count": 46,
   "metadata": {},
   "outputs": [
    {
     "data": {
      "text/plain": [
       "({0: 'dos', 1: 'normal', 2: 'dos', 3: 'probe', 4: 'normal'},\n",
       " {0: 0.9867849384503983,\n",
       "  1: 0.8444830582102519,\n",
       "  2: 0.45986336464560207,\n",
       "  3: 0.7025641025641025,\n",
       "  4: 0.9258826583592938})"
      ]
     },
     "execution_count": 46,
     "metadata": {},
     "output_type": "execute_result"
    }
   ],
   "source": [
    "calcPurity(5, sk_kmeans_pred, y_train)"
   ]
  },
  {
   "cell_type": "markdown",
   "metadata": {},
   "source": [
    "### Part-3 GMM"
   ]
  },
  {
   "cell_type": "code",
   "execution_count": 47,
   "metadata": {},
   "outputs": [],
   "source": [
    "from scipy.misc import imread, imshow\n",
    "from sklearn import mixture\n",
    "gmm = mixture.GaussianMixture(covariance_type='full', n_components=5)\n",
    "gmm.fit(X_train)\n",
    "gmm_pred = gmm.predict(X_train)"
   ]
  },
  {
   "cell_type": "code",
   "execution_count": 48,
   "metadata": {},
   "outputs": [
    {
     "name": "stdout",
     "output_type": "stream",
     "text": [
      "[4 2 2 ... 4 2 4]\n"
     ]
    }
   ],
   "source": [
    "print(gmm_pred)"
   ]
  },
  {
   "cell_type": "code",
   "execution_count": 49,
   "metadata": {},
   "outputs": [
    {
     "data": {
      "text/plain": [
       "({0: 'dos', 1: 'normal', 2: 'dos', 3: 'probe', 4: 'normal'},\n",
       " {0: 0.5736392742796158,\n",
       "  1: 0.6844919786096256,\n",
       "  2: 1.0,\n",
       "  3: 0.5614973262032086,\n",
       "  4: 0.8822689511941848})"
      ]
     },
     "execution_count": 49,
     "metadata": {},
     "output_type": "execute_result"
    }
   ],
   "source": [
    "calcPurity(5, gmm_pred, y_train)"
   ]
  },
  {
   "cell_type": "markdown",
   "metadata": {},
   "source": [
    "### Part-4 Hierarchical clustering with single-linkage and five clusters."
   ]
  },
  {
   "cell_type": "code",
   "execution_count": 50,
   "metadata": {},
   "outputs": [],
   "source": [
    "from sklearn.cluster import AgglomerativeClustering\n",
    "cluster = AgglomerativeClustering(n_clusters=5, affinity='euclidean', linkage='single')  \n",
    "hclust_pred = cluster.fit_predict(X_train)  "
   ]
  },
  {
   "cell_type": "code",
   "execution_count": 51,
   "metadata": {},
   "outputs": [
    {
     "data": {
      "text/plain": [
       "({0: 'normal', 1: 'r2l', 2: 'normal', 3: 'probe', 4: 'normal'},\n",
       " {0: 0.5351175587793897, 1: 0.6, 2: 1.0, 3: 1.0, 4: 1.0})"
      ]
     },
     "execution_count": 51,
     "metadata": {},
     "output_type": "execute_result"
    }
   ],
   "source": [
    "calcPurity(5, hclust_pred, y_train)"
   ]
  },
  {
   "cell_type": "markdown",
   "metadata": {},
   "source": [
    "### Part-5 Bar Charts"
   ]
  },
  {
   "cell_type": "code",
   "execution_count": 52,
   "metadata": {},
   "outputs": [],
   "source": [
    "cluster_types = {\"kmeans\" : kmeans_pred, \"gmm\" : gmm_pred, \"hclust\" : hclust_pred}"
   ]
  },
  {
   "cell_type": "code",
   "execution_count": 53,
   "metadata": {},
   "outputs": [
    {
     "data": {
      "image/png": "[encoded data removed]",
      "text/plain": [
       "<Figure size 1440x576 with 1 Axes>"
      ]
     },
     "metadata": {},
     "output_type": "display_data"
    },
    {
     "data": {
      "image/png": "[encoded data removed]",
      "text/plain": [
       "<Figure size 1440x576 with 1 Axes>"
      ]
     },
     "metadata": {},
     "output_type": "display_data"
    },
    {
     "data": {
      "image/png": "[encoded data removed]",
      "text/plain": [
       "<Figure size 1440x576 with 1 Axes>"
      ]
     },
     "metadata": {},
     "output_type": "display_data"
    }
   ],
   "source": [
    "plot_index = 0\n",
    "for cluster_type, y_pred in cluster_types.items():\n",
    "    labels, purity = calcPurity(5, y_pred, y_train)\n",
    "    labels = [\"cluster_\" + str(k) + \"_\" + val for k, val in labels.items()]\n",
    "    sizes = [val for k, val in purity.items()]\n",
    "    # print(sizes) # adds up to 1433, which is the total number of participants\n",
    "    ax1 = plt.subplot(2,2,plot_index+1)\n",
    "    ax1.figure.set_size_inches(20, 8)\n",
    "#     ax1.pie(sizes, labels=labels, autopct='%1.1f%%', shadow=True)\n",
    "    plt.bar(labels, sizes, align='center', alpha=0.5)\n",
    "    ax1.axis('equal')\n",
    "    ax1.set_title(\"Purity of \" + str(cluster_type) + \" clustering\")\n",
    "    plot_index += 1\n",
    "    plt.show()"
   ]
  },
  {
   "cell_type": "markdown",
   "metadata": {},
   "source": [
    "## Input/Output - sigmoid, Hidden - sigmoid"
   ]
  },
  {
   "cell_type": "code",
   "execution_count": 54,
   "metadata": {},
   "outputs": [
    {
     "name": "stdout",
     "output_type": "stream",
     "text": [
      "Mean Squared Error\n"
     ]
    },
    {
     "data": {
      "text/plain": [
       "0.026190517056719122"
      ]
     },
     "execution_count": 54,
     "metadata": {},
     "output_type": "execute_result"
    }
   ],
   "source": [
    "myNN = AutoEncoder(input_layer=X.shape[1], hidden_layers=[14], output_layer=X.shape[1], alpha=0.1,\n",
    "                    iterations=80, batch_size = 256, hidden_activation = 'sigmoid', output_activation = 'sigmoid',\n",
    "                   input_activation='sigmoid')\n",
    "myNN.train(X)\n",
    "print(\"Mean Squared Error\")\n",
    "myNN.costs[-1]"
   ]
  },
  {
   "cell_type": "code",
   "execution_count": 55,
   "metadata": {},
   "outputs": [
    {
     "data": {
      "image/png": "[encoded data removed]",
      "text/plain": [
       "<Figure size 432x288 with 1 Axes>"
      ]
     },
     "metadata": {},
     "output_type": "display_data"
    }
   ],
   "source": [
    "plotLossCurve(myNN)"
   ]
  },
  {
   "cell_type": "code",
   "execution_count": 56,
   "metadata": {},
   "outputs": [],
   "source": [
    "X_train = myNN.reduceDimensions(X)\n",
    "y_train = Y\n",
    "X_train, X_test, y_train, y_test = splitData(X_train, y_train)\n",
    "kmeans = MyKmeans(5, max_iter=20)\n",
    "kmeans.fit(X_train, y_train)\n",
    "kmeans_pred = kmeans.predict(X_train)"
   ]
  },
  {
   "cell_type": "markdown",
   "metadata": {},
   "source": [
    "### Part-1 K-Means"
   ]
  },
  {
   "cell_type": "code",
   "execution_count": 57,
   "metadata": {},
   "outputs": [
    {
     "name": "stdout",
     "output_type": "stream",
     "text": [
      "KMeans Purity:\n"
     ]
    },
    {
     "data": {
      "text/plain": [
       "({0: 'normal', 1: 'probe', 2: 'normal', 3: 'dos', 4: 'dos'},\n",
       " {0: 0.9598187906243845,\n",
       "  1: 0.5287214329833231,\n",
       "  2: 0.8717668488160292,\n",
       "  3: 0.4742177170559718,\n",
       "  4: 0.9815984124120513})"
      ]
     },
     "execution_count": 57,
     "metadata": {},
     "output_type": "execute_result"
    }
   ],
   "source": [
    "print(\"KMeans Purity:\")\n",
    "calcPurity(5, kmeans_pred, y_train)"
   ]
  },
  {
   "cell_type": "markdown",
   "metadata": {},
   "source": [
    "### Sklearn K means"
   ]
  },
  {
   "cell_type": "code",
   "execution_count": 58,
   "metadata": {},
   "outputs": [],
   "source": [
    "from sklearn.cluster import KMeans"
   ]
  },
  {
   "cell_type": "code",
   "execution_count": 59,
   "metadata": {},
   "outputs": [],
   "source": [
    "kmeans1 = KMeans(n_clusters=5, random_state=0).fit(X_train)"
   ]
  },
  {
   "cell_type": "code",
   "execution_count": 60,
   "metadata": {},
   "outputs": [],
   "source": [
    "sk_kmeans_pred = kmeans1.predict(X_train)"
   ]
  },
  {
   "cell_type": "code",
   "execution_count": 61,
   "metadata": {},
   "outputs": [
    {
     "data": {
      "text/plain": [
       "({0: 'normal', 1: 'dos', 2: 'normal', 3: 'normal', 4: 'dos'},\n",
       " {0: 0.8216216216216217,\n",
       "  1: 0.9794705564559697,\n",
       "  2: 0.7237969676994067,\n",
       "  3: 0.9106685071977914,\n",
       "  4: 0.4664065886432596})"
      ]
     },
     "execution_count": 61,
     "metadata": {},
     "output_type": "execute_result"
    }
   ],
   "source": [
    "calcPurity(5, sk_kmeans_pred, y_train)"
   ]
  },
  {
   "cell_type": "markdown",
   "metadata": {},
   "source": [
    "### Part-3 GMM"
   ]
  },
  {
   "cell_type": "code",
   "execution_count": 62,
   "metadata": {},
   "outputs": [],
   "source": [
    "from scipy.misc import imread, imshow\n",
    "from sklearn import mixture\n",
    "gmm = mixture.GaussianMixture(covariance_type='full', n_components=5)\n",
    "gmm.fit(X_train)\n",
    "gmm_pred = gmm.predict(X_train)"
   ]
  },
  {
   "cell_type": "code",
   "execution_count": 63,
   "metadata": {},
   "outputs": [
    {
     "name": "stdout",
     "output_type": "stream",
     "text": [
      "[4 3 3 ... 4 2 4]\n"
     ]
    }
   ],
   "source": [
    "print(gmm_pred)"
   ]
  },
  {
   "cell_type": "code",
   "execution_count": 64,
   "metadata": {},
   "outputs": [
    {
     "data": {
      "text/plain": [
       "({0: 'dos', 1: 'normal', 2: 'normal', 3: 'dos', 4: 'normal'},\n",
       " {0: 0.6281287246722288,\n",
       "  1: 0.9346541536322558,\n",
       "  2: 0.5395904436860068,\n",
       "  3: 1.0,\n",
       "  4: 1.0})"
      ]
     },
     "execution_count": 64,
     "metadata": {},
     "output_type": "execute_result"
    }
   ],
   "source": [
    "calcPurity(5, gmm_pred, y_train)"
   ]
  },
  {
   "cell_type": "markdown",
   "metadata": {},
   "source": [
    "### Part-4 Hierarchical clustering with single-linkage and five clusters."
   ]
  },
  {
   "cell_type": "code",
   "execution_count": 65,
   "metadata": {},
   "outputs": [],
   "source": [
    "from sklearn.cluster import AgglomerativeClustering\n",
    "cluster = AgglomerativeClustering(n_clusters=5, affinity='euclidean', linkage='single')  \n",
    "hclust_pred = cluster.fit_predict(X_train)  "
   ]
  },
  {
   "cell_type": "code",
   "execution_count": 66,
   "metadata": {},
   "outputs": [
    {
     "data": {
      "text/plain": [
       "({0: 'normal', 1: 'normal', 2: 'normal', 3: 'probe', 4: 'probe'},\n",
       " {0: 0.5350640256102441, 1: 1.0, 2: 1.0, 3: 1.0, 4: 1.0})"
      ]
     },
     "execution_count": 66,
     "metadata": {},
     "output_type": "execute_result"
    }
   ],
   "source": [
    "calcPurity(5, hclust_pred, y_train)"
   ]
  },
  {
   "cell_type": "markdown",
   "metadata": {},
   "source": [
    "### Part-5 Bar Charts"
   ]
  },
  {
   "cell_type": "code",
   "execution_count": 67,
   "metadata": {},
   "outputs": [],
   "source": [
    "cluster_types = {\"kmeans\" : kmeans_pred, \"gmm\" : gmm_pred, \"hclust\" : hclust_pred}"
   ]
  },
  {
   "cell_type": "code",
   "execution_count": 68,
   "metadata": {},
   "outputs": [
    {
     "data": {
      "image/png": "[encoded data removed]",
      "text/plain": [
       "<Figure size 1440x576 with 1 Axes>"
      ]
     },
     "metadata": {},
     "output_type": "display_data"
    },
    {
     "data": {
      "image/png": "[encoded data removed]",
      "text/plain": [
       "<Figure size 1440x576 with 1 Axes>"
      ]
     },
     "metadata": {},
     "output_type": "display_data"
    },
    {
     "data": {
      "image/png": "[encoded data removed]",
      "text/plain": [
       "<Figure size 1440x576 with 1 Axes>"
      ]
     },
     "metadata": {},
     "output_type": "display_data"
    }
   ],
   "source": [
    "plot_index = 0\n",
    "for cluster_type, y_pred in cluster_types.items():\n",
    "    labels, purity = calcPurity(5, y_pred, y_train)\n",
    "    labels = [\"cluster_\" + str(k) + \"_\" + val for k, val in labels.items()]\n",
    "    sizes = [val for k, val in purity.items()]\n",
    "    # print(sizes) # adds up to 1433, which is the total number of participants\n",
    "    ax1 = plt.subplot(2,2,plot_index+1)\n",
    "    ax1.figure.set_size_inches(20, 8)\n",
    "#     ax1.pie(sizes, labels=labels, autopct='%1.1f%%', shadow=True)\n",
    "    plt.bar(labels, sizes, align='center', alpha=0.5)\n",
    "    ax1.axis('equal')\n",
    "    ax1.set_title(\"Purity of \" + str(cluster_type) + \" clustering\")\n",
    "    plot_index += 1\n",
    "    plt.show()"
   ]
  },
  {
   "cell_type": "markdown",
   "metadata": {},
   "source": [
    "## Deep Autoencoder Input/Output - sigmoid, Hidden - sigmoid"
   ]
  },
  {
   "cell_type": "code",
   "execution_count": 69,
   "metadata": {},
   "outputs": [
    {
     "name": "stdout",
     "output_type": "stream",
     "text": [
      "Mean Squared Error\n"
     ]
    },
    {
     "data": {
      "text/plain": [
       "0.06354977671105777"
      ]
     },
     "execution_count": 69,
     "metadata": {},
     "output_type": "execute_result"
    }
   ],
   "source": [
    "myNN = AutoEncoder(input_layer=X.shape[1], hidden_layers=[20,14,20], output_layer=X.shape[1], alpha=0.1,\n",
    "                    iterations=100, batch_size = 256, hidden_activation = 'sigmoid', output_activation = 'sigmoid',\n",
    "                   input_activation='sigmoid')\n",
    "myNN.train(X)\n",
    "print(\"Mean Squared Error\")\n",
    "myNN.costs[-1]"
   ]
  },
  {
   "cell_type": "code",
   "execution_count": 70,
   "metadata": {},
   "outputs": [
    {
     "data": {
      "image/png": "[encoded data removed]",
      "text/plain": [
       "<Figure size 432x288 with 1 Axes>"
      ]
     },
     "metadata": {},
     "output_type": "display_data"
    }
   ],
   "source": [
    "plotLossCurve(myNN)"
   ]
  },
  {
   "cell_type": "code",
   "execution_count": 71,
   "metadata": {},
   "outputs": [],
   "source": [
    "X_train = myNN.reduceDimensions(X)\n",
    "y_train = Y\n",
    "X_train, X_test, y_train, y_test = splitData(X_train, y_train)\n",
    "kmeans = MyKmeans(5, max_iter=20)\n",
    "kmeans.fit(X_train, y_train)\n",
    "kmeans_pred = kmeans.predict(X_train)"
   ]
  },
  {
   "cell_type": "markdown",
   "metadata": {},
   "source": [
    "### Part-2 K-Means"
   ]
  },
  {
   "cell_type": "code",
   "execution_count": 72,
   "metadata": {},
   "outputs": [
    {
     "name": "stdout",
     "output_type": "stream",
     "text": [
      "KMeans Purity:\n"
     ]
    },
    {
     "data": {
      "text/plain": [
       "({0: 'normal', 1: 'normal', 2: 'normal', 3: 'dos', 4: 'dos'},\n",
       " {0: 0.6326473859844272,\n",
       "  1: 0.9599480407014506,\n",
       "  2: 0.882755127880476,\n",
       "  3: 0.48189539561913275,\n",
       "  4: 0.9744505985349294})"
      ]
     },
     "execution_count": 72,
     "metadata": {},
     "output_type": "execute_result"
    }
   ],
   "source": [
    "print(\"KMeans Purity:\")\n",
    "calcPurity(5, kmeans_pred, y_train)"
   ]
  },
  {
   "cell_type": "markdown",
   "metadata": {},
   "source": [
    "### Sklearn K means"
   ]
  },
  {
   "cell_type": "code",
   "execution_count": 73,
   "metadata": {},
   "outputs": [],
   "source": [
    "from sklearn.cluster import KMeans"
   ]
  },
  {
   "cell_type": "code",
   "execution_count": 74,
   "metadata": {},
   "outputs": [],
   "source": [
    "kmeans1 = KMeans(n_clusters=5, random_state=0).fit(X_train)"
   ]
  },
  {
   "cell_type": "code",
   "execution_count": 75,
   "metadata": {},
   "outputs": [],
   "source": [
    "sk_kmeans_pred = kmeans1.predict(X_train)"
   ]
  },
  {
   "cell_type": "code",
   "execution_count": 76,
   "metadata": {},
   "outputs": [
    {
     "data": {
      "text/plain": [
       "({0: 'dos', 1: 'dos', 2: 'normal', 3: 'normal', 4: 'normal'},\n",
       " {0: 0.47197898423817863,\n",
       "  1: 0.973580863977151,\n",
       "  2: 0.7361887026691496,\n",
       "  3: 0.9678059200488252,\n",
       "  4: 0.6706359260197619})"
      ]
     },
     "execution_count": 76,
     "metadata": {},
     "output_type": "execute_result"
    }
   ],
   "source": [
    "calcPurity(5, sk_kmeans_pred, y_train)"
   ]
  },
  {
   "cell_type": "markdown",
   "metadata": {},
   "source": [
    "### Part-3 GMM"
   ]
  },
  {
   "cell_type": "code",
   "execution_count": 77,
   "metadata": {},
   "outputs": [],
   "source": [
    "from scipy.misc import imread, imshow\n",
    "from sklearn import mixture\n",
    "gmm = mixture.GaussianMixture(covariance_type='full', n_components=5)\n",
    "gmm.fit(X_train)\n",
    "gmm_pred = gmm.predict(X_train)"
   ]
  },
  {
   "cell_type": "code",
   "execution_count": 78,
   "metadata": {},
   "outputs": [
    {
     "name": "stdout",
     "output_type": "stream",
     "text": [
      "[2 1 1 ... 2 1 2]\n"
     ]
    }
   ],
   "source": [
    "print(gmm_pred)"
   ]
  },
  {
   "cell_type": "code",
   "execution_count": 79,
   "metadata": {},
   "outputs": [
    {
     "data": {
      "text/plain": [
       "({0: 'normal', 1: 'dos', 2: 'normal', 3: 'dos', 4: 'normal'},\n",
       " {0: 0.6945686900958467,\n",
       "  1: 1.0,\n",
       "  2: 0.9943741209563994,\n",
       "  3: 0.4857916102841678,\n",
       "  4: 0.7883556254917388})"
      ]
     },
     "execution_count": 79,
     "metadata": {},
     "output_type": "execute_result"
    }
   ],
   "source": [
    "calcPurity(5, gmm_pred, y_train)"
   ]
  },
  {
   "cell_type": "markdown",
   "metadata": {},
   "source": [
    "### Part-4 Hierarchical clustering with single-linkage and five clusters."
   ]
  },
  {
   "cell_type": "code",
   "execution_count": 80,
   "metadata": {},
   "outputs": [],
   "source": [
    "from sklearn.cluster import AgglomerativeClustering\n",
    "cluster = AgglomerativeClustering(n_clusters=5, affinity='euclidean', linkage='single')  \n",
    "hclust_pred = cluster.fit_predict(X_train)  "
   ]
  },
  {
   "cell_type": "code",
   "execution_count": 81,
   "metadata": {},
   "outputs": [
    {
     "data": {
      "text/plain": [
       "({0: 'normal', 1: 'normal', 2: 'probe', 3: 'normal', 4: 'normal'},\n",
       " {0: 0.534990745835626, 1: 1.0, 2: 1.0, 3: 1.0, 4: 1.0})"
      ]
     },
     "execution_count": 81,
     "metadata": {},
     "output_type": "execute_result"
    }
   ],
   "source": [
    "calcPurity(5, hclust_pred, y_train)"
   ]
  },
  {
   "cell_type": "markdown",
   "metadata": {},
   "source": [
    "### Part-5 Bar Charts"
   ]
  },
  {
   "cell_type": "code",
   "execution_count": 82,
   "metadata": {},
   "outputs": [],
   "source": [
    "cluster_types = {\"kmeans\" : kmeans_pred, \"gmm\" : gmm_pred, \"hclust\" : hclust_pred}"
   ]
  },
  {
   "cell_type": "code",
   "execution_count": 83,
   "metadata": {},
   "outputs": [
    {
     "data": {
      "image/png": "[encoded data removed]",
      "text/plain": [
       "<Figure size 1440x576 with 1 Axes>"
      ]
     },
     "metadata": {},
     "output_type": "display_data"
    },
    {
     "data": {
      "image/png": "[encoded data removed]",
      "text/plain": [
       "<Figure size 1440x576 with 1 Axes>"
      ]
     },
     "metadata": {},
     "output_type": "display_data"
    },
    {
     "data": {
      "image/png": "[encoded data removed]",
      "text/plain": [
       "<Figure size 1440x576 with 1 Axes>"
      ]
     },
     "metadata": {},
     "output_type": "display_data"
    }
   ],
   "source": [
    "plot_index = 0\n",
    "for cluster_type, y_pred in cluster_types.items():\n",
    "    labels, purity = calcPurity(5, y_pred, y_train)\n",
    "    labels = [\"cluster_\" + str(k) + \"_\" + val for k, val in labels.items()]\n",
    "    sizes = [val for k, val in purity.items()]\n",
    "    # print(sizes) # adds up to 1433, which is the total number of participants\n",
    "    ax1 = plt.subplot(2,2,plot_index+1)\n",
    "    ax1.figure.set_size_inches(20, 8)\n",
    "#     ax1.pie(sizes, labels=labels, autopct='%1.1f%%', shadow=True)\n",
    "    plt.bar(labels, sizes, align='center', alpha=0.5)\n",
    "    ax1.axis('equal')\n",
    "    ax1.set_title(\"Purity of \" + str(cluster_type) + \" clustering\")\n",
    "    plot_index += 1\n",
    "    plt.show()"
   ]
  },
  {
   "cell_type": "markdown",
   "metadata": {},
   "source": [
    "# Question-2"
   ]
  },
  {
   "cell_type": "code",
   "execution_count": 84,
   "metadata": {},
   "outputs": [],
   "source": [
    "from sklearn.datasets import load_digits\n",
    "from sklearn.neighbors.kde import KernelDensity\n",
    "from sklearn.decomposition import PCA\n",
    "from sklearn.model_selection import GridSearchCV\n",
    "digits = load_digits()\n",
    "X = digits.data\n",
    "y = digits.target"
   ]
  },
  {
   "cell_type": "code",
   "execution_count": 85,
   "metadata": {},
   "outputs": [],
   "source": [
    "def generateAndPrintData(model, pca):\n",
    "    '''\n",
    "    Function to generate data using the 'model' after reducing using 'pca'\n",
    "    '''\n",
    "    new_data = kde.sample(48)\n",
    "    new_data = pca.inverse_transform(new_data)\n",
    "\n",
    "    # turn data into a 4x11 grid\n",
    "    new_data = new_data.reshape((4, 12, -1))\n",
    "    real_data = digits.data[:48].reshape((4, 12, -1))\n",
    "\n",
    "    # plot real digits and resampled digits\n",
    "    fig, ax = plt.subplots(9, 12, subplot_kw=dict(xticks=[], yticks=[]))\n",
    "    for j in range(12):\n",
    "        ax[4, j].set_visible(False)\n",
    "        for i in range(4):\n",
    "            im = ax[i, j].imshow(real_data[i, j].reshape((8, 8)),\n",
    "                                 cmap=plt.cm.binary, interpolation='nearest')\n",
    "            im.set_clim(0, 16)\n",
    "            im = ax[i + 5, j].imshow(new_data[i, j].reshape((8, 8)),\n",
    "                                     cmap=plt.cm.binary, interpolation='nearest')\n",
    "            im.set_clim(0, 16)\n",
    "\n",
    "    ax[0, 5].set_title('Selection from the input data')\n",
    "    ax[5, 5].set_title('\"New\" digits drawn from the density model')\n",
    "    plt.show()"
   ]
  },
  {
   "cell_type": "markdown",
   "metadata": {},
   "source": [
    "## PART 1 - KDE"
   ]
  },
  {
   "cell_type": "code",
   "execution_count": 86,
   "metadata": {},
   "outputs": [
    {
     "name": "stdout",
     "output_type": "stream",
     "text": [
      "best bandwidth: 3.79269019073225\n"
     ]
    },
    {
     "data": {
      "image/png": "[encoded data removed]",
      "text/plain": [
       "<Figure size 432x288 with 108 Axes>"
      ]
     },
     "metadata": {},
     "output_type": "display_data"
    }
   ],
   "source": [
    "pca = PCA(n_components=15, whiten=False)\n",
    "data = pca.fit_transform(digits.data)\n",
    "\n",
    "# use grid search cross-validation to optimize the bandwidth\n",
    "params = {'bandwidth': np.logspace(-1, 1, 20)}\n",
    "grid = GridSearchCV(KernelDensity(), params, cv=5)\n",
    "grid.fit(data)\n",
    "\n",
    "print(\"best bandwidth: {0}\".format(grid.best_estimator_.bandwidth))\n",
    "\n",
    "# use the best estimator to compute the kernel density estimate\n",
    "kde = grid.best_estimator_\n",
    "\n",
    "generateAndPrintData(kde, pca)"
   ]
  },
  {
   "cell_type": "markdown",
   "metadata": {},
   "source": [
    "## PART -2 GMM Density Estimation"
   ]
  },
  {
   "cell_type": "code",
   "execution_count": 87,
   "metadata": {},
   "outputs": [],
   "source": [
    "import itertools\n",
    "from scipy import linalg\n",
    "import matplotlib.pyplot as plt\n",
    "import matplotlib as mpl\n",
    "from sklearn import mixture"
   ]
  },
  {
   "cell_type": "code",
   "execution_count": 88,
   "metadata": {},
   "outputs": [
    {
     "name": "stdout",
     "output_type": "stream",
     "text": [
      "No. of components for best GMM is 6\n",
      "Type of covariance_type for best GMM is diag\n"
     ]
    }
   ],
   "source": [
    "lowest_bic = np.infty\n",
    "bic = []\n",
    "best_n = None\n",
    "n_components_range = range(1, 7)\n",
    "best_cv_type = None\n",
    "cv_types = ['spherical', 'tied', 'diag', 'full']\n",
    "for cv_type in cv_types:\n",
    "    for n_components in n_components_range:\n",
    "        # Fit a Gaussian mixture with EM\n",
    "        gmm = mixture.GaussianMixture(n_components=n_components,\n",
    "                                      covariance_type=cv_type)\n",
    "        gmm.fit(X)\n",
    "        bic.append(gmm.bic(X))\n",
    "        if bic[-1] < lowest_bic:\n",
    "            lowest_bic = bic[-1]\n",
    "            best_gmm = gmm\n",
    "            best_n = n_components\n",
    "            best_cv_type = cv_type\n",
    "clf = best_gmm\n",
    "bic = np.array(bic)\n",
    "# print(\"BIC Scores for n_components in range(1,7)\")\n",
    "# print(bic)\n",
    "print(\"No. of components for best GMM is {0}\".format(best_n))\n",
    "print(\"Type of covariance_type for best GMM is {0}\".format(best_cv_type))"
   ]
  },
  {
   "cell_type": "code",
   "execution_count": 89,
   "metadata": {},
   "outputs": [
    {
     "data": {
      "image/png": "[encoded data removed]",
      "text/plain": [
       "<Figure size 432x288 with 108 Axes>"
      ]
     },
     "metadata": {},
     "output_type": "display_data"
    }
   ],
   "source": [
    "generateAndPrintData(clf,pca)"
   ]
  },
  {
   "cell_type": "markdown",
   "metadata": {},
   "source": [
    "## PART - 3 Drawing 48 images by varing no.of components in PCA with GMM and KDE"
   ]
  },
  {
   "cell_type": "code",
   "execution_count": 90,
   "metadata": {
    "scrolled": false
   },
   "outputs": [
    {
     "name": "stdout",
     "output_type": "stream",
     "text": [
      "Density estimates when PCA components is 15\n",
      "With Kernal Density Estimate\n",
      "best bandwidth: 3.79269019073225\n"
     ]
    },
    {
     "data": {
      "image/png": "[encoded data removed]",
      "text/plain": [
       "<Figure size 432x288 with 108 Axes>"
      ]
     },
     "metadata": {},
     "output_type": "display_data"
    },
    {
     "name": "stdout",
     "output_type": "stream",
     "text": [
      "With GMM Density Estimate\n",
      "No. of components for best GMM is 6\n",
      "Type of covariance_type for best GMM is diag\n"
     ]
    },
    {
     "data": {
      "image/png": "[encoded data removed]",
      "text/plain": [
       "<Figure size 432x288 with 108 Axes>"
      ]
     },
     "metadata": {},
     "output_type": "display_data"
    },
    {
     "name": "stdout",
     "output_type": "stream",
     "text": [
      "Density estimates when PCA components is 30\n",
      "With Kernal Density Estimate\n",
      "best bandwidth: 2.9763514416313175\n"
     ]
    },
    {
     "data": {
      "image/png": "[encoded data removed]",
      "text/plain": [
       "<Figure size 432x288 with 108 Axes>"
      ]
     },
     "metadata": {},
     "output_type": "display_data"
    },
    {
     "name": "stdout",
     "output_type": "stream",
     "text": [
      "With GMM Density Estimate\n",
      "No. of components for best GMM is 6\n",
      "Type of covariance_type for best GMM is diag\n"
     ]
    },
    {
     "data": {
      "image/png": "[encoded data removed]",
      "text/plain": [
       "<Figure size 432x288 with 108 Axes>"
      ]
     },
     "metadata": {},
     "output_type": "display_data"
    },
    {
     "name": "stdout",
     "output_type": "stream",
     "text": [
      "Density estimates when PCA components is 40\n",
      "With Kernal Density Estimate\n",
      "best bandwidth: 2.9763514416313175\n"
     ]
    },
    {
     "data": {
      "image/png": "[encoded data removed]",
      "text/plain": [
       "<Figure size 432x288 with 108 Axes>"
      ]
     },
     "metadata": {},
     "output_type": "display_data"
    },
    {
     "name": "stdout",
     "output_type": "stream",
     "text": [
      "With GMM Density Estimate\n",
      "No. of components for best GMM is 3\n",
      "Type of covariance_type for best GMM is full\n"
     ]
    },
    {
     "data": {
      "image/png": "[encoded data removed]",
      "text/plain": [
       "<Figure size 432x288 with 108 Axes>"
      ]
     },
     "metadata": {},
     "output_type": "display_data"
    }
   ],
   "source": [
    "for n_comps in [15,30,40]:\n",
    "    print(\"Density estimates when PCA components is {0}\".format(n_comps))\n",
    "    pca = PCA(n_components=n_comps, whiten=False)\n",
    "    data = pca.fit_transform(digits.data)\n",
    "    print(\"With Kernal Density Estimate\")\n",
    "    # use grid search cross-validation to optimize the bandwidth\n",
    "    params = {'bandwidth': np.logspace(-1, 1, 20)}\n",
    "    grid = GridSearchCV(KernelDensity(), params, cv=5)\n",
    "    grid.fit(data)\n",
    "\n",
    "    print(\"best bandwidth: {0}\".format(grid.best_estimator_.bandwidth))\n",
    "\n",
    "    # use the best estimator to compute the kernel density estimate\n",
    "    kde = grid.best_estimator_\n",
    "\n",
    "    generateAndPrintData(kde, pca)\n",
    "    \n",
    "    print(\"With GMM Density Estimate\")\n",
    "    lowest_bic = np.infty\n",
    "    bic = []\n",
    "    best_n = None\n",
    "    n_components_range = range(1, 7)\n",
    "    best_cv_type = None\n",
    "    cv_types = ['spherical', 'tied', 'diag', 'full']\n",
    "    for cv_type in cv_types:\n",
    "        for n_components in n_components_range:\n",
    "            # Fit a Gaussian mixture with EM\n",
    "            gmm = mixture.GaussianMixture(n_components=n_components,\n",
    "                                          covariance_type=cv_type)\n",
    "            gmm.fit(X)\n",
    "            bic.append(gmm.bic(X))\n",
    "            if bic[-1] < lowest_bic:\n",
    "                lowest_bic = bic[-1]\n",
    "                best_gmm = gmm\n",
    "                best_n = n_components\n",
    "                best_cv_type = cv_type\n",
    "    clf = best_gmm\n",
    "    bic = np.array(bic)\n",
    "    # print(\"BIC Scores for n_components in range(1,7)\")\n",
    "    # print(bic)\n",
    "    print(\"No. of components for best GMM is {0}\".format(best_n))\n",
    "    print(\"Type of covariance_type for best GMM is {0}\".format(best_cv_type))\n",
    "    generateAndPrintData(clf,pca)"
   ]
  },
  {
   "cell_type": "code",
   "execution_count": null,
   "metadata": {},
   "outputs": [],
   "source": []
  }
 ],
 "metadata": {
  "kernelspec": {
   "display_name": "Python 3",
   "language": "python",
   "name": "python3"
  },
  "language_info": {
   "codemirror_mode": {
    "name": "ipython",
    "version": 3
   },
   "file_extension": ".py",
   "mimetype": "text/x-python",
   "name": "python",
   "nbconvert_exporter": "python",
   "pygments_lexer": "ipython3",
   "version": "3.7.2"
  }
 },
 "nbformat": 4,
 "nbformat_minor": 2
}
