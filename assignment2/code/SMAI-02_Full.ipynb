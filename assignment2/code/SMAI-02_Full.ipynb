{
 "cells": [
  {
   "cell_type": "markdown",
   "metadata": {},
   "source": [
    "# Importing Libraries"
   ]
  },
  {
   "cell_type": "code",
   "execution_count": 2,
   "metadata": {},
   "outputs": [],
   "source": [
    "import pandas as pd\n",
    "import numpy as np\n",
    "import matplotlib\n",
    "import matplotlib.pyplot as plt\n",
    "import math\n",
    "from sklearn import metrics\n",
    "from collections import Counter\n",
    "from sklearn.model_selection import train_test_split\n",
    "from collections import defaultdict\n",
    "from sklearn.metrics import mean_squared_error\n",
    "from sklearn.preprocessing import MinMaxScaler\n",
    "import seaborn as sns\n",
    "from sklearn.preprocessing import OneHotEncoder\n",
    "import warnings\n",
    "warnings.filterwarnings('ignore')\n",
    "# get_ipython().run_line_magic('matplotlib', 'inline')"
   ]
  },
  {
   "cell_type": "markdown",
   "metadata": {},
   "source": [
    "# Reading Input files"
   ]
  },
  {
   "cell_type": "code",
   "execution_count": 3,
   "metadata": {},
   "outputs": [],
   "source": [
    "iris_df_orig = pd.read_csv(\"Iris.csv\", header=None)\n",
    "robot1_df_orig = pd.read_csv(\"Robot1\", header=None, delim_whitespace=True)\n",
    "robot2_df_orig = pd.read_csv(\"Robot2\", header=None, delim_whitespace=True)"
   ]
  },
  {
   "cell_type": "code",
   "execution_count": 4,
   "metadata": {},
   "outputs": [],
   "source": [
    "np.random.seed(10)"
   ]
  },
  {
   "cell_type": "code",
   "execution_count": 5,
   "metadata": {},
   "outputs": [
    {
     "data": {
      "text/html": [
       "<div>\n",
       "<style scoped>\n",
       "    .dataframe tbody tr th:only-of-type {\n",
       "        vertical-align: middle;\n",
       "    }\n",
       "\n",
       "    .dataframe tbody tr th {\n",
       "        vertical-align: top;\n",
       "    }\n",
       "\n",
       "    .dataframe thead th {\n",
       "        text-align: right;\n",
       "    }\n",
       "</style>\n",
       "<table border=\"1\" class=\"dataframe\">\n",
       "  <thead>\n",
       "    <tr style=\"text-align: right;\">\n",
       "      <th></th>\n",
       "      <th>0</th>\n",
       "      <th>1</th>\n",
       "      <th>2</th>\n",
       "      <th>3</th>\n",
       "      <th>4</th>\n",
       "    </tr>\n",
       "  </thead>\n",
       "  <tbody>\n",
       "    <tr>\n",
       "      <th>0</th>\n",
       "      <td>5.1</td>\n",
       "      <td>3.5</td>\n",
       "      <td>1.4</td>\n",
       "      <td>0.2</td>\n",
       "      <td>Iris-setosa</td>\n",
       "    </tr>\n",
       "    <tr>\n",
       "      <th>1</th>\n",
       "      <td>6.3</td>\n",
       "      <td>3.3</td>\n",
       "      <td>6.0</td>\n",
       "      <td>2.5</td>\n",
       "      <td>Iris-virginica</td>\n",
       "    </tr>\n",
       "    <tr>\n",
       "      <th>2</th>\n",
       "      <td>5.0</td>\n",
       "      <td>3.0</td>\n",
       "      <td>1.6</td>\n",
       "      <td>0.2</td>\n",
       "      <td>Iris-setosa</td>\n",
       "    </tr>\n",
       "    <tr>\n",
       "      <th>3</th>\n",
       "      <td>6.2</td>\n",
       "      <td>2.8</td>\n",
       "      <td>4.8</td>\n",
       "      <td>1.8</td>\n",
       "      <td>Iris-virginica</td>\n",
       "    </tr>\n",
       "    <tr>\n",
       "      <th>4</th>\n",
       "      <td>6.4</td>\n",
       "      <td>3.1</td>\n",
       "      <td>5.5</td>\n",
       "      <td>1.8</td>\n",
       "      <td>Iris-virginica</td>\n",
       "    </tr>\n",
       "  </tbody>\n",
       "</table>\n",
       "</div>"
      ],
      "text/plain": [
       "     0    1    2    3               4\n",
       "0  5.1  3.5  1.4  0.2     Iris-setosa\n",
       "1  6.3  3.3  6.0  2.5  Iris-virginica\n",
       "2  5.0  3.0  1.6  0.2     Iris-setosa\n",
       "3  6.2  2.8  4.8  1.8  Iris-virginica\n",
       "4  6.4  3.1  5.5  1.8  Iris-virginica"
      ]
     },
     "execution_count": 5,
     "metadata": {},
     "output_type": "execute_result"
    }
   ],
   "source": [
    "iris_df_orig.head()"
   ]
  },
  {
   "cell_type": "markdown",
   "metadata": {},
   "source": [
    "# Adding column headers"
   ]
  },
  {
   "cell_type": "code",
   "execution_count": 6,
   "metadata": {},
   "outputs": [
    {
     "data": {
      "text/html": [
       "<div>\n",
       "<style scoped>\n",
       "    .dataframe tbody tr th:only-of-type {\n",
       "        vertical-align: middle;\n",
       "    }\n",
       "\n",
       "    .dataframe tbody tr th {\n",
       "        vertical-align: top;\n",
       "    }\n",
       "\n",
       "    .dataframe thead th {\n",
       "        text-align: right;\n",
       "    }\n",
       "</style>\n",
       "<table border=\"1\" class=\"dataframe\">\n",
       "  <thead>\n",
       "    <tr style=\"text-align: right;\">\n",
       "      <th></th>\n",
       "      <th>sepal_length</th>\n",
       "      <th>sepal_width</th>\n",
       "      <th>petal_length</th>\n",
       "      <th>petal_width</th>\n",
       "      <th>class</th>\n",
       "    </tr>\n",
       "  </thead>\n",
       "  <tbody>\n",
       "    <tr>\n",
       "      <th>0</th>\n",
       "      <td>5.1</td>\n",
       "      <td>3.5</td>\n",
       "      <td>1.4</td>\n",
       "      <td>0.2</td>\n",
       "      <td>Iris-setosa</td>\n",
       "    </tr>\n",
       "    <tr>\n",
       "      <th>1</th>\n",
       "      <td>6.3</td>\n",
       "      <td>3.3</td>\n",
       "      <td>6.0</td>\n",
       "      <td>2.5</td>\n",
       "      <td>Iris-virginica</td>\n",
       "    </tr>\n",
       "    <tr>\n",
       "      <th>2</th>\n",
       "      <td>5.0</td>\n",
       "      <td>3.0</td>\n",
       "      <td>1.6</td>\n",
       "      <td>0.2</td>\n",
       "      <td>Iris-setosa</td>\n",
       "    </tr>\n",
       "    <tr>\n",
       "      <th>3</th>\n",
       "      <td>6.2</td>\n",
       "      <td>2.8</td>\n",
       "      <td>4.8</td>\n",
       "      <td>1.8</td>\n",
       "      <td>Iris-virginica</td>\n",
       "    </tr>\n",
       "    <tr>\n",
       "      <th>4</th>\n",
       "      <td>6.4</td>\n",
       "      <td>3.1</td>\n",
       "      <td>5.5</td>\n",
       "      <td>1.8</td>\n",
       "      <td>Iris-virginica</td>\n",
       "    </tr>\n",
       "  </tbody>\n",
       "</table>\n",
       "</div>"
      ],
      "text/plain": [
       "   sepal_length  sepal_width  petal_length  petal_width           class\n",
       "0           5.1          3.5           1.4          0.2     Iris-setosa\n",
       "1           6.3          3.3           6.0          2.5  Iris-virginica\n",
       "2           5.0          3.0           1.6          0.2     Iris-setosa\n",
       "3           6.2          2.8           4.8          1.8  Iris-virginica\n",
       "4           6.4          3.1           5.5          1.8  Iris-virginica"
      ]
     },
     "execution_count": 6,
     "metadata": {},
     "output_type": "execute_result"
    }
   ],
   "source": [
    "iris_cols = ['sepal_length', 'sepal_width', 'petal_length', 'petal_width', 'class']\n",
    "iris_df_orig.columns = iris_cols\n",
    "iris_df_orig.head()"
   ]
  },
  {
   "cell_type": "code",
   "execution_count": 7,
   "metadata": {},
   "outputs": [],
   "source": [
    "robot_cols = ['class', 'a1', 'a2', 'a3', 'a4', 'a5', 'a6', 'id']\n",
    "robot1_df_orig.columns = robot_cols\n",
    "robot2_df_orig.columns = robot_cols"
   ]
  },
  {
   "cell_type": "code",
   "execution_count": 8,
   "metadata": {
    "scrolled": true
   },
   "outputs": [
    {
     "data": {
      "text/html": [
       "<div>\n",
       "<style scoped>\n",
       "    .dataframe tbody tr th:only-of-type {\n",
       "        vertical-align: middle;\n",
       "    }\n",
       "\n",
       "    .dataframe tbody tr th {\n",
       "        vertical-align: top;\n",
       "    }\n",
       "\n",
       "    .dataframe thead th {\n",
       "        text-align: right;\n",
       "    }\n",
       "</style>\n",
       "<table border=\"1\" class=\"dataframe\">\n",
       "  <thead>\n",
       "    <tr style=\"text-align: right;\">\n",
       "      <th></th>\n",
       "      <th>class</th>\n",
       "      <th>a1</th>\n",
       "      <th>a2</th>\n",
       "      <th>a3</th>\n",
       "      <th>a4</th>\n",
       "      <th>a5</th>\n",
       "      <th>a6</th>\n",
       "      <th>id</th>\n",
       "    </tr>\n",
       "  </thead>\n",
       "  <tbody>\n",
       "    <tr>\n",
       "      <th>0</th>\n",
       "      <td>1</td>\n",
       "      <td>1</td>\n",
       "      <td>1</td>\n",
       "      <td>1</td>\n",
       "      <td>1</td>\n",
       "      <td>3</td>\n",
       "      <td>1</td>\n",
       "      <td>data_5</td>\n",
       "    </tr>\n",
       "    <tr>\n",
       "      <th>1</th>\n",
       "      <td>1</td>\n",
       "      <td>1</td>\n",
       "      <td>1</td>\n",
       "      <td>1</td>\n",
       "      <td>1</td>\n",
       "      <td>3</td>\n",
       "      <td>2</td>\n",
       "      <td>data_6</td>\n",
       "    </tr>\n",
       "    <tr>\n",
       "      <th>2</th>\n",
       "      <td>1</td>\n",
       "      <td>1</td>\n",
       "      <td>1</td>\n",
       "      <td>1</td>\n",
       "      <td>3</td>\n",
       "      <td>2</td>\n",
       "      <td>1</td>\n",
       "      <td>data_19</td>\n",
       "    </tr>\n",
       "    <tr>\n",
       "      <th>3</th>\n",
       "      <td>1</td>\n",
       "      <td>1</td>\n",
       "      <td>1</td>\n",
       "      <td>1</td>\n",
       "      <td>3</td>\n",
       "      <td>3</td>\n",
       "      <td>2</td>\n",
       "      <td>data_22</td>\n",
       "    </tr>\n",
       "    <tr>\n",
       "      <th>4</th>\n",
       "      <td>1</td>\n",
       "      <td>1</td>\n",
       "      <td>1</td>\n",
       "      <td>2</td>\n",
       "      <td>1</td>\n",
       "      <td>2</td>\n",
       "      <td>1</td>\n",
       "      <td>data_27</td>\n",
       "    </tr>\n",
       "  </tbody>\n",
       "</table>\n",
       "</div>"
      ],
      "text/plain": [
       "   class  a1  a2  a3  a4  a5  a6       id\n",
       "0      1   1   1   1   1   3   1   data_5\n",
       "1      1   1   1   1   1   3   2   data_6\n",
       "2      1   1   1   1   3   2   1  data_19\n",
       "3      1   1   1   1   3   3   2  data_22\n",
       "4      1   1   1   2   1   2   1  data_27"
      ]
     },
     "execution_count": 8,
     "metadata": {},
     "output_type": "execute_result"
    }
   ],
   "source": [
    "#robot1\n",
    "robot1_df_orig.head()"
   ]
  },
  {
   "cell_type": "markdown",
   "metadata": {},
   "source": [
    "### Dropping \"id\" column from robot dataset"
   ]
  },
  {
   "cell_type": "code",
   "execution_count": 9,
   "metadata": {},
   "outputs": [],
   "source": [
    "robot1_df = robot1_df_orig.drop(columns=['id'])\n",
    "robot2_df = robot2_df_orig.drop(columns=['id'])"
   ]
  },
  {
   "cell_type": "markdown",
   "metadata": {},
   "source": [
    "# Data exploration"
   ]
  },
  {
   "cell_type": "code",
   "execution_count": 10,
   "metadata": {},
   "outputs": [
    {
     "data": {
      "text/html": [
       "<div>\n",
       "<style scoped>\n",
       "    .dataframe tbody tr th:only-of-type {\n",
       "        vertical-align: middle;\n",
       "    }\n",
       "\n",
       "    .dataframe tbody tr th {\n",
       "        vertical-align: top;\n",
       "    }\n",
       "\n",
       "    .dataframe thead th {\n",
       "        text-align: right;\n",
       "    }\n",
       "</style>\n",
       "<table border=\"1\" class=\"dataframe\">\n",
       "  <thead>\n",
       "    <tr style=\"text-align: right;\">\n",
       "      <th></th>\n",
       "      <th>sepal_length</th>\n",
       "      <th>sepal_width</th>\n",
       "      <th>petal_length</th>\n",
       "      <th>petal_width</th>\n",
       "      <th>class</th>\n",
       "    </tr>\n",
       "  </thead>\n",
       "  <tbody>\n",
       "    <tr>\n",
       "      <th>0</th>\n",
       "      <td>5.1</td>\n",
       "      <td>3.5</td>\n",
       "      <td>1.4</td>\n",
       "      <td>0.2</td>\n",
       "      <td>Iris-setosa</td>\n",
       "    </tr>\n",
       "    <tr>\n",
       "      <th>1</th>\n",
       "      <td>6.3</td>\n",
       "      <td>3.3</td>\n",
       "      <td>6.0</td>\n",
       "      <td>2.5</td>\n",
       "      <td>Iris-virginica</td>\n",
       "    </tr>\n",
       "    <tr>\n",
       "      <th>2</th>\n",
       "      <td>5.0</td>\n",
       "      <td>3.0</td>\n",
       "      <td>1.6</td>\n",
       "      <td>0.2</td>\n",
       "      <td>Iris-setosa</td>\n",
       "    </tr>\n",
       "    <tr>\n",
       "      <th>3</th>\n",
       "      <td>6.2</td>\n",
       "      <td>2.8</td>\n",
       "      <td>4.8</td>\n",
       "      <td>1.8</td>\n",
       "      <td>Iris-virginica</td>\n",
       "    </tr>\n",
       "    <tr>\n",
       "      <th>4</th>\n",
       "      <td>6.4</td>\n",
       "      <td>3.1</td>\n",
       "      <td>5.5</td>\n",
       "      <td>1.8</td>\n",
       "      <td>Iris-virginica</td>\n",
       "    </tr>\n",
       "  </tbody>\n",
       "</table>\n",
       "</div>"
      ],
      "text/plain": [
       "   sepal_length  sepal_width  petal_length  petal_width           class\n",
       "0           5.1          3.5           1.4          0.2     Iris-setosa\n",
       "1           6.3          3.3           6.0          2.5  Iris-virginica\n",
       "2           5.0          3.0           1.6          0.2     Iris-setosa\n",
       "3           6.2          2.8           4.8          1.8  Iris-virginica\n",
       "4           6.4          3.1           5.5          1.8  Iris-virginica"
      ]
     },
     "execution_count": 10,
     "metadata": {},
     "output_type": "execute_result"
    }
   ],
   "source": [
    "iris_df_orig.head()"
   ]
  },
  {
   "cell_type": "code",
   "execution_count": 11,
   "metadata": {
    "scrolled": true
   },
   "outputs": [
    {
     "data": {
      "text/html": [
       "<div>\n",
       "<style scoped>\n",
       "    .dataframe tbody tr th:only-of-type {\n",
       "        vertical-align: middle;\n",
       "    }\n",
       "\n",
       "    .dataframe tbody tr th {\n",
       "        vertical-align: top;\n",
       "    }\n",
       "\n",
       "    .dataframe thead th {\n",
       "        text-align: right;\n",
       "    }\n",
       "</style>\n",
       "<table border=\"1\" class=\"dataframe\">\n",
       "  <thead>\n",
       "    <tr style=\"text-align: right;\">\n",
       "      <th></th>\n",
       "      <th>class</th>\n",
       "      <th>a1</th>\n",
       "      <th>a2</th>\n",
       "      <th>a3</th>\n",
       "      <th>a4</th>\n",
       "      <th>a5</th>\n",
       "      <th>a6</th>\n",
       "    </tr>\n",
       "  </thead>\n",
       "  <tbody>\n",
       "    <tr>\n",
       "      <th>count</th>\n",
       "      <td>124.000000</td>\n",
       "      <td>124.000000</td>\n",
       "      <td>124.000000</td>\n",
       "      <td>124.000000</td>\n",
       "      <td>124.000000</td>\n",
       "      <td>124.000000</td>\n",
       "      <td>124.000000</td>\n",
       "    </tr>\n",
       "    <tr>\n",
       "      <th>mean</th>\n",
       "      <td>0.500000</td>\n",
       "      <td>1.935484</td>\n",
       "      <td>2.096774</td>\n",
       "      <td>1.475806</td>\n",
       "      <td>2.008065</td>\n",
       "      <td>2.556452</td>\n",
       "      <td>1.548387</td>\n",
       "    </tr>\n",
       "    <tr>\n",
       "      <th>std</th>\n",
       "      <td>0.502028</td>\n",
       "      <td>0.813923</td>\n",
       "      <td>0.810694</td>\n",
       "      <td>0.501440</td>\n",
       "      <td>0.831259</td>\n",
       "      <td>1.128366</td>\n",
       "      <td>0.499672</td>\n",
       "    </tr>\n",
       "    <tr>\n",
       "      <th>min</th>\n",
       "      <td>0.000000</td>\n",
       "      <td>1.000000</td>\n",
       "      <td>1.000000</td>\n",
       "      <td>1.000000</td>\n",
       "      <td>1.000000</td>\n",
       "      <td>1.000000</td>\n",
       "      <td>1.000000</td>\n",
       "    </tr>\n",
       "    <tr>\n",
       "      <th>25%</th>\n",
       "      <td>0.000000</td>\n",
       "      <td>1.000000</td>\n",
       "      <td>1.000000</td>\n",
       "      <td>1.000000</td>\n",
       "      <td>1.000000</td>\n",
       "      <td>2.000000</td>\n",
       "      <td>1.000000</td>\n",
       "    </tr>\n",
       "    <tr>\n",
       "      <th>50%</th>\n",
       "      <td>0.500000</td>\n",
       "      <td>2.000000</td>\n",
       "      <td>2.000000</td>\n",
       "      <td>1.000000</td>\n",
       "      <td>2.000000</td>\n",
       "      <td>3.000000</td>\n",
       "      <td>2.000000</td>\n",
       "    </tr>\n",
       "    <tr>\n",
       "      <th>75%</th>\n",
       "      <td>1.000000</td>\n",
       "      <td>3.000000</td>\n",
       "      <td>3.000000</td>\n",
       "      <td>2.000000</td>\n",
       "      <td>3.000000</td>\n",
       "      <td>4.000000</td>\n",
       "      <td>2.000000</td>\n",
       "    </tr>\n",
       "    <tr>\n",
       "      <th>max</th>\n",
       "      <td>1.000000</td>\n",
       "      <td>3.000000</td>\n",
       "      <td>3.000000</td>\n",
       "      <td>2.000000</td>\n",
       "      <td>3.000000</td>\n",
       "      <td>4.000000</td>\n",
       "      <td>2.000000</td>\n",
       "    </tr>\n",
       "  </tbody>\n",
       "</table>\n",
       "</div>"
      ],
      "text/plain": [
       "            class          a1          a2          a3          a4          a5  \\\n",
       "count  124.000000  124.000000  124.000000  124.000000  124.000000  124.000000   \n",
       "mean     0.500000    1.935484    2.096774    1.475806    2.008065    2.556452   \n",
       "std      0.502028    0.813923    0.810694    0.501440    0.831259    1.128366   \n",
       "min      0.000000    1.000000    1.000000    1.000000    1.000000    1.000000   \n",
       "25%      0.000000    1.000000    1.000000    1.000000    1.000000    2.000000   \n",
       "50%      0.500000    2.000000    2.000000    1.000000    2.000000    3.000000   \n",
       "75%      1.000000    3.000000    3.000000    2.000000    3.000000    4.000000   \n",
       "max      1.000000    3.000000    3.000000    2.000000    3.000000    4.000000   \n",
       "\n",
       "               a6  \n",
       "count  124.000000  \n",
       "mean     1.548387  \n",
       "std      0.499672  \n",
       "min      1.000000  \n",
       "25%      1.000000  \n",
       "50%      2.000000  \n",
       "75%      2.000000  \n",
       "max      2.000000  "
      ]
     },
     "execution_count": 11,
     "metadata": {},
     "output_type": "execute_result"
    }
   ],
   "source": [
    "robot1_df.describe()"
   ]
  },
  {
   "cell_type": "code",
   "execution_count": 12,
   "metadata": {},
   "outputs": [
    {
     "data": {
      "text/plain": [
       "array([1, 2])"
      ]
     },
     "execution_count": 12,
     "metadata": {},
     "output_type": "execute_result"
    }
   ],
   "source": [
    "robot1_df['a6'].unique()"
   ]
  },
  {
   "cell_type": "code",
   "execution_count": 13,
   "metadata": {
    "scrolled": true
   },
   "outputs": [
    {
     "data": {
      "text/html": [
       "<div>\n",
       "<style scoped>\n",
       "    .dataframe tbody tr th:only-of-type {\n",
       "        vertical-align: middle;\n",
       "    }\n",
       "\n",
       "    .dataframe tbody tr th {\n",
       "        vertical-align: top;\n",
       "    }\n",
       "\n",
       "    .dataframe thead th {\n",
       "        text-align: right;\n",
       "    }\n",
       "</style>\n",
       "<table border=\"1\" class=\"dataframe\">\n",
       "  <thead>\n",
       "    <tr style=\"text-align: right;\">\n",
       "      <th></th>\n",
       "      <th>class</th>\n",
       "      <th>a1</th>\n",
       "      <th>a2</th>\n",
       "      <th>a3</th>\n",
       "      <th>a4</th>\n",
       "      <th>a5</th>\n",
       "      <th>a6</th>\n",
       "    </tr>\n",
       "  </thead>\n",
       "  <tbody>\n",
       "    <tr>\n",
       "      <th>count</th>\n",
       "      <td>122.000000</td>\n",
       "      <td>122.000000</td>\n",
       "      <td>122.000000</td>\n",
       "      <td>122.000000</td>\n",
       "      <td>122.000000</td>\n",
       "      <td>122.000000</td>\n",
       "      <td>122.000000</td>\n",
       "    </tr>\n",
       "    <tr>\n",
       "      <th>mean</th>\n",
       "      <td>0.491803</td>\n",
       "      <td>1.885246</td>\n",
       "      <td>2.016393</td>\n",
       "      <td>1.467213</td>\n",
       "      <td>2.032787</td>\n",
       "      <td>2.475410</td>\n",
       "      <td>1.516393</td>\n",
       "    </tr>\n",
       "    <tr>\n",
       "      <th>std</th>\n",
       "      <td>0.501994</td>\n",
       "      <td>0.815113</td>\n",
       "      <td>0.812949</td>\n",
       "      <td>0.500981</td>\n",
       "      <td>0.832545</td>\n",
       "      <td>1.137004</td>\n",
       "      <td>0.501792</td>\n",
       "    </tr>\n",
       "    <tr>\n",
       "      <th>min</th>\n",
       "      <td>0.000000</td>\n",
       "      <td>1.000000</td>\n",
       "      <td>1.000000</td>\n",
       "      <td>1.000000</td>\n",
       "      <td>1.000000</td>\n",
       "      <td>1.000000</td>\n",
       "      <td>1.000000</td>\n",
       "    </tr>\n",
       "    <tr>\n",
       "      <th>25%</th>\n",
       "      <td>0.000000</td>\n",
       "      <td>1.000000</td>\n",
       "      <td>1.000000</td>\n",
       "      <td>1.000000</td>\n",
       "      <td>1.000000</td>\n",
       "      <td>1.000000</td>\n",
       "      <td>1.000000</td>\n",
       "    </tr>\n",
       "    <tr>\n",
       "      <th>50%</th>\n",
       "      <td>0.000000</td>\n",
       "      <td>2.000000</td>\n",
       "      <td>2.000000</td>\n",
       "      <td>1.000000</td>\n",
       "      <td>2.000000</td>\n",
       "      <td>2.000000</td>\n",
       "      <td>2.000000</td>\n",
       "    </tr>\n",
       "    <tr>\n",
       "      <th>75%</th>\n",
       "      <td>1.000000</td>\n",
       "      <td>3.000000</td>\n",
       "      <td>3.000000</td>\n",
       "      <td>2.000000</td>\n",
       "      <td>3.000000</td>\n",
       "      <td>3.750000</td>\n",
       "      <td>2.000000</td>\n",
       "    </tr>\n",
       "    <tr>\n",
       "      <th>max</th>\n",
       "      <td>1.000000</td>\n",
       "      <td>3.000000</td>\n",
       "      <td>3.000000</td>\n",
       "      <td>2.000000</td>\n",
       "      <td>3.000000</td>\n",
       "      <td>4.000000</td>\n",
       "      <td>2.000000</td>\n",
       "    </tr>\n",
       "  </tbody>\n",
       "</table>\n",
       "</div>"
      ],
      "text/plain": [
       "            class          a1          a2          a3          a4          a5  \\\n",
       "count  122.000000  122.000000  122.000000  122.000000  122.000000  122.000000   \n",
       "mean     0.491803    1.885246    2.016393    1.467213    2.032787    2.475410   \n",
       "std      0.501994    0.815113    0.812949    0.500981    0.832545    1.137004   \n",
       "min      0.000000    1.000000    1.000000    1.000000    1.000000    1.000000   \n",
       "25%      0.000000    1.000000    1.000000    1.000000    1.000000    1.000000   \n",
       "50%      0.000000    2.000000    2.000000    1.000000    2.000000    2.000000   \n",
       "75%      1.000000    3.000000    3.000000    2.000000    3.000000    3.750000   \n",
       "max      1.000000    3.000000    3.000000    2.000000    3.000000    4.000000   \n",
       "\n",
       "               a6  \n",
       "count  122.000000  \n",
       "mean     1.516393  \n",
       "std      0.501792  \n",
       "min      1.000000  \n",
       "25%      1.000000  \n",
       "50%      2.000000  \n",
       "75%      2.000000  \n",
       "max      2.000000  "
      ]
     },
     "execution_count": 13,
     "metadata": {},
     "output_type": "execute_result"
    }
   ],
   "source": [
    "robot2_df.describe()"
   ]
  },
  {
   "cell_type": "markdown",
   "metadata": {},
   "source": [
    "## One Hot Encoding the categorical columns(all except the output label) in Robots Dataset"
   ]
  },
  {
   "cell_type": "code",
   "execution_count": 14,
   "metadata": {},
   "outputs": [],
   "source": [
    "# robot1_df_encoded = pd.get_dummies(robot1_df, columns=['a1', 'a2', 'a3', 'a4', 'a5', 'a6'])\n",
    "robot1_df_encoded = pd.get_dummies(robot1_df, columns=['a1', 'a2', 'a3', 'a4', 'a5', 'a6'])\n",
    "robot2_df_encoded = pd.get_dummies(robot2_df, columns=['a1', 'a2', 'a3', 'a4', 'a5', 'a6'])"
   ]
  },
  {
   "cell_type": "code",
   "execution_count": 15,
   "metadata": {
    "scrolled": true
   },
   "outputs": [
    {
     "data": {
      "text/html": [
       "<div>\n",
       "<style scoped>\n",
       "    .dataframe tbody tr th:only-of-type {\n",
       "        vertical-align: middle;\n",
       "    }\n",
       "\n",
       "    .dataframe tbody tr th {\n",
       "        vertical-align: top;\n",
       "    }\n",
       "\n",
       "    .dataframe thead th {\n",
       "        text-align: right;\n",
       "    }\n",
       "</style>\n",
       "<table border=\"1\" class=\"dataframe\">\n",
       "  <thead>\n",
       "    <tr style=\"text-align: right;\">\n",
       "      <th></th>\n",
       "      <th>class</th>\n",
       "      <th>a1_1</th>\n",
       "      <th>a1_2</th>\n",
       "      <th>a1_3</th>\n",
       "      <th>a2_1</th>\n",
       "      <th>a2_2</th>\n",
       "      <th>a2_3</th>\n",
       "      <th>a3_1</th>\n",
       "      <th>a3_2</th>\n",
       "      <th>a4_1</th>\n",
       "      <th>a4_2</th>\n",
       "      <th>a4_3</th>\n",
       "      <th>a5_1</th>\n",
       "      <th>a5_2</th>\n",
       "      <th>a5_3</th>\n",
       "      <th>a5_4</th>\n",
       "      <th>a6_1</th>\n",
       "      <th>a6_2</th>\n",
       "    </tr>\n",
       "  </thead>\n",
       "  <tbody>\n",
       "    <tr>\n",
       "      <th>0</th>\n",
       "      <td>1</td>\n",
       "      <td>1</td>\n",
       "      <td>0</td>\n",
       "      <td>0</td>\n",
       "      <td>1</td>\n",
       "      <td>0</td>\n",
       "      <td>0</td>\n",
       "      <td>1</td>\n",
       "      <td>0</td>\n",
       "      <td>1</td>\n",
       "      <td>0</td>\n",
       "      <td>0</td>\n",
       "      <td>0</td>\n",
       "      <td>0</td>\n",
       "      <td>1</td>\n",
       "      <td>0</td>\n",
       "      <td>1</td>\n",
       "      <td>0</td>\n",
       "    </tr>\n",
       "    <tr>\n",
       "      <th>1</th>\n",
       "      <td>1</td>\n",
       "      <td>1</td>\n",
       "      <td>0</td>\n",
       "      <td>0</td>\n",
       "      <td>1</td>\n",
       "      <td>0</td>\n",
       "      <td>0</td>\n",
       "      <td>1</td>\n",
       "      <td>0</td>\n",
       "      <td>1</td>\n",
       "      <td>0</td>\n",
       "      <td>0</td>\n",
       "      <td>0</td>\n",
       "      <td>0</td>\n",
       "      <td>1</td>\n",
       "      <td>0</td>\n",
       "      <td>0</td>\n",
       "      <td>1</td>\n",
       "    </tr>\n",
       "    <tr>\n",
       "      <th>2</th>\n",
       "      <td>1</td>\n",
       "      <td>1</td>\n",
       "      <td>0</td>\n",
       "      <td>0</td>\n",
       "      <td>1</td>\n",
       "      <td>0</td>\n",
       "      <td>0</td>\n",
       "      <td>1</td>\n",
       "      <td>0</td>\n",
       "      <td>0</td>\n",
       "      <td>0</td>\n",
       "      <td>1</td>\n",
       "      <td>0</td>\n",
       "      <td>1</td>\n",
       "      <td>0</td>\n",
       "      <td>0</td>\n",
       "      <td>1</td>\n",
       "      <td>0</td>\n",
       "    </tr>\n",
       "    <tr>\n",
       "      <th>3</th>\n",
       "      <td>1</td>\n",
       "      <td>1</td>\n",
       "      <td>0</td>\n",
       "      <td>0</td>\n",
       "      <td>1</td>\n",
       "      <td>0</td>\n",
       "      <td>0</td>\n",
       "      <td>1</td>\n",
       "      <td>0</td>\n",
       "      <td>0</td>\n",
       "      <td>0</td>\n",
       "      <td>1</td>\n",
       "      <td>0</td>\n",
       "      <td>0</td>\n",
       "      <td>1</td>\n",
       "      <td>0</td>\n",
       "      <td>0</td>\n",
       "      <td>1</td>\n",
       "    </tr>\n",
       "    <tr>\n",
       "      <th>4</th>\n",
       "      <td>1</td>\n",
       "      <td>1</td>\n",
       "      <td>0</td>\n",
       "      <td>0</td>\n",
       "      <td>1</td>\n",
       "      <td>0</td>\n",
       "      <td>0</td>\n",
       "      <td>0</td>\n",
       "      <td>1</td>\n",
       "      <td>1</td>\n",
       "      <td>0</td>\n",
       "      <td>0</td>\n",
       "      <td>0</td>\n",
       "      <td>1</td>\n",
       "      <td>0</td>\n",
       "      <td>0</td>\n",
       "      <td>1</td>\n",
       "      <td>0</td>\n",
       "    </tr>\n",
       "  </tbody>\n",
       "</table>\n",
       "</div>"
      ],
      "text/plain": [
       "   class  a1_1  a1_2  a1_3  a2_1  a2_2  a2_3  a3_1  a3_2  a4_1  a4_2  a4_3  \\\n",
       "0      1     1     0     0     1     0     0     1     0     1     0     0   \n",
       "1      1     1     0     0     1     0     0     1     0     1     0     0   \n",
       "2      1     1     0     0     1     0     0     1     0     0     0     1   \n",
       "3      1     1     0     0     1     0     0     1     0     0     0     1   \n",
       "4      1     1     0     0     1     0     0     0     1     1     0     0   \n",
       "\n",
       "   a5_1  a5_2  a5_3  a5_4  a6_1  a6_2  \n",
       "0     0     0     1     0     1     0  \n",
       "1     0     0     1     0     0     1  \n",
       "2     0     1     0     0     1     0  \n",
       "3     0     0     1     0     0     1  \n",
       "4     0     1     0     0     1     0  "
      ]
     },
     "execution_count": 15,
     "metadata": {},
     "output_type": "execute_result"
    }
   ],
   "source": [
    "robot1_df_encoded.head()"
   ]
  },
  {
   "cell_type": "code",
   "execution_count": 16,
   "metadata": {},
   "outputs": [
    {
     "data": {
      "text/plain": [
       "0    62\n",
       "1    60\n",
       "Name: class, dtype: int64"
      ]
     },
     "execution_count": 16,
     "metadata": {},
     "output_type": "execute_result"
    }
   ],
   "source": [
    "robot2_df['class'].value_counts()"
   ]
  },
  {
   "cell_type": "markdown",
   "metadata": {},
   "source": [
    "# Scaling columns "
   ]
  },
  {
   "cell_type": "code",
   "execution_count": 17,
   "metadata": {},
   "outputs": [],
   "source": [
    "iris_df_scaled = iris_df_orig"
   ]
  },
  {
   "cell_type": "code",
   "execution_count": 18,
   "metadata": {
    "scrolled": true
   },
   "outputs": [
    {
     "data": {
      "text/html": [
       "<div>\n",
       "<style scoped>\n",
       "    .dataframe tbody tr th:only-of-type {\n",
       "        vertical-align: middle;\n",
       "    }\n",
       "\n",
       "    .dataframe tbody tr th {\n",
       "        vertical-align: top;\n",
       "    }\n",
       "\n",
       "    .dataframe thead th {\n",
       "        text-align: right;\n",
       "    }\n",
       "</style>\n",
       "<table border=\"1\" class=\"dataframe\">\n",
       "  <thead>\n",
       "    <tr style=\"text-align: right;\">\n",
       "      <th></th>\n",
       "      <th>sepal_length</th>\n",
       "      <th>sepal_width</th>\n",
       "      <th>petal_length</th>\n",
       "      <th>petal_width</th>\n",
       "      <th>class</th>\n",
       "    </tr>\n",
       "  </thead>\n",
       "  <tbody>\n",
       "    <tr>\n",
       "      <th>0</th>\n",
       "      <td>5.1</td>\n",
       "      <td>3.5</td>\n",
       "      <td>1.4</td>\n",
       "      <td>0.2</td>\n",
       "      <td>Iris-setosa</td>\n",
       "    </tr>\n",
       "    <tr>\n",
       "      <th>1</th>\n",
       "      <td>6.3</td>\n",
       "      <td>3.3</td>\n",
       "      <td>6.0</td>\n",
       "      <td>2.5</td>\n",
       "      <td>Iris-virginica</td>\n",
       "    </tr>\n",
       "    <tr>\n",
       "      <th>2</th>\n",
       "      <td>5.0</td>\n",
       "      <td>3.0</td>\n",
       "      <td>1.6</td>\n",
       "      <td>0.2</td>\n",
       "      <td>Iris-setosa</td>\n",
       "    </tr>\n",
       "    <tr>\n",
       "      <th>3</th>\n",
       "      <td>6.2</td>\n",
       "      <td>2.8</td>\n",
       "      <td>4.8</td>\n",
       "      <td>1.8</td>\n",
       "      <td>Iris-virginica</td>\n",
       "    </tr>\n",
       "    <tr>\n",
       "      <th>4</th>\n",
       "      <td>6.4</td>\n",
       "      <td>3.1</td>\n",
       "      <td>5.5</td>\n",
       "      <td>1.8</td>\n",
       "      <td>Iris-virginica</td>\n",
       "    </tr>\n",
       "  </tbody>\n",
       "</table>\n",
       "</div>"
      ],
      "text/plain": [
       "   sepal_length  sepal_width  petal_length  petal_width           class\n",
       "0           5.1          3.5           1.4          0.2     Iris-setosa\n",
       "1           6.3          3.3           6.0          2.5  Iris-virginica\n",
       "2           5.0          3.0           1.6          0.2     Iris-setosa\n",
       "3           6.2          2.8           4.8          1.8  Iris-virginica\n",
       "4           6.4          3.1           5.5          1.8  Iris-virginica"
      ]
     },
     "execution_count": 18,
     "metadata": {},
     "output_type": "execute_result"
    }
   ],
   "source": [
    "iris_df_scaled.head()"
   ]
  },
  {
   "cell_type": "markdown",
   "metadata": {},
   "source": [
    "## Factorizing output labels for Iris Dataset"
   ]
  },
  {
   "cell_type": "code",
   "execution_count": 19,
   "metadata": {
    "scrolled": true
   },
   "outputs": [
    {
     "data": {
      "text/html": [
       "<div>\n",
       "<style scoped>\n",
       "    .dataframe tbody tr th:only-of-type {\n",
       "        vertical-align: middle;\n",
       "    }\n",
       "\n",
       "    .dataframe tbody tr th {\n",
       "        vertical-align: top;\n",
       "    }\n",
       "\n",
       "    .dataframe thead th {\n",
       "        text-align: right;\n",
       "    }\n",
       "</style>\n",
       "<table border=\"1\" class=\"dataframe\">\n",
       "  <thead>\n",
       "    <tr style=\"text-align: right;\">\n",
       "      <th></th>\n",
       "      <th>sepal_length</th>\n",
       "      <th>sepal_width</th>\n",
       "      <th>petal_length</th>\n",
       "      <th>petal_width</th>\n",
       "      <th>class</th>\n",
       "    </tr>\n",
       "  </thead>\n",
       "  <tbody>\n",
       "    <tr>\n",
       "      <th>0</th>\n",
       "      <td>5.1</td>\n",
       "      <td>3.5</td>\n",
       "      <td>1.4</td>\n",
       "      <td>0.2</td>\n",
       "      <td>0</td>\n",
       "    </tr>\n",
       "    <tr>\n",
       "      <th>1</th>\n",
       "      <td>6.3</td>\n",
       "      <td>3.3</td>\n",
       "      <td>6.0</td>\n",
       "      <td>2.5</td>\n",
       "      <td>1</td>\n",
       "    </tr>\n",
       "    <tr>\n",
       "      <th>2</th>\n",
       "      <td>5.0</td>\n",
       "      <td>3.0</td>\n",
       "      <td>1.6</td>\n",
       "      <td>0.2</td>\n",
       "      <td>0</td>\n",
       "    </tr>\n",
       "    <tr>\n",
       "      <th>3</th>\n",
       "      <td>6.2</td>\n",
       "      <td>2.8</td>\n",
       "      <td>4.8</td>\n",
       "      <td>1.8</td>\n",
       "      <td>1</td>\n",
       "    </tr>\n",
       "    <tr>\n",
       "      <th>4</th>\n",
       "      <td>6.4</td>\n",
       "      <td>3.1</td>\n",
       "      <td>5.5</td>\n",
       "      <td>1.8</td>\n",
       "      <td>1</td>\n",
       "    </tr>\n",
       "  </tbody>\n",
       "</table>\n",
       "</div>"
      ],
      "text/plain": [
       "   sepal_length  sepal_width  petal_length  petal_width  class\n",
       "0           5.1          3.5           1.4          0.2      0\n",
       "1           6.3          3.3           6.0          2.5      1\n",
       "2           5.0          3.0           1.6          0.2      0\n",
       "3           6.2          2.8           4.8          1.8      1\n",
       "4           6.4          3.1           5.5          1.8      1"
      ]
     },
     "execution_count": 19,
     "metadata": {},
     "output_type": "execute_result"
    }
   ],
   "source": [
    "labels, uniques = pd.factorize(iris_df_scaled['class'])\n",
    "iris_df_scaled['class'] = labels\n",
    "iris_df_scaled.head()"
   ]
  },
  {
   "cell_type": "code",
   "execution_count": 20,
   "metadata": {},
   "outputs": [
    {
     "data": {
      "text/plain": [
       "2    46\n",
       "1    45\n",
       "0    44\n",
       "Name: class, dtype: int64"
      ]
     },
     "execution_count": 20,
     "metadata": {},
     "output_type": "execute_result"
    }
   ],
   "source": [
    "iris_df_scaled['class'].value_counts()"
   ]
  },
  {
   "cell_type": "markdown",
   "metadata": {},
   "source": [
    "# Splitting data into train(80%) and validation(20%)"
   ]
  },
  {
   "cell_type": "code",
   "execution_count": 21,
   "metadata": {},
   "outputs": [],
   "source": [
    "def splitData(X ,Y, test_size, random_state = 10):\n",
    "    X_train, X_test, y_train, y_test = train_test_split(X, Y, test_size=0.2 ,random_state = random_state)\n",
    "    return (X_train, X_test, y_train, y_test)"
   ]
  },
  {
   "cell_type": "code",
   "execution_count": 22,
   "metadata": {},
   "outputs": [],
   "source": [
    "# iris_train_X, iris_val_X, iris_train_Y, iris_val_Y = split_test_train1(iris_df_scaled.iloc[:,iris_df_scaled.columns != 'class'], iris_df_scaled['class'])"
   ]
  },
  {
   "cell_type": "code",
   "execution_count": 23,
   "metadata": {},
   "outputs": [],
   "source": [
    "iris_train_X, iris_val_X, iris_train_Y, iris_val_Y = splitData(iris_df_scaled.iloc[:,iris_df_scaled.columns != 'class'], iris_df_scaled['class'], test_size=0.2)\n",
    "robot1_train_X, robot1_val_X, robot1_train_Y, robot1_val_Y = splitData(robot1_df_encoded.iloc[:,robot1_df_encoded.columns != 'class'], robot1_df_encoded['class'], test_size=0.2)\n",
    "robot2_train_X, robot2_val_X, robot2_train_Y, robot2_val_Y = splitData(robot2_df_encoded.iloc[:,robot2_df_encoded.columns != 'class'], robot2_df_encoded['class'], test_size=0.2)"
   ]
  },
  {
   "cell_type": "code",
   "execution_count": 24,
   "metadata": {},
   "outputs": [
    {
     "data": {
      "text/html": [
       "<div>\n",
       "<style scoped>\n",
       "    .dataframe tbody tr th:only-of-type {\n",
       "        vertical-align: middle;\n",
       "    }\n",
       "\n",
       "    .dataframe tbody tr th {\n",
       "        vertical-align: top;\n",
       "    }\n",
       "\n",
       "    .dataframe thead th {\n",
       "        text-align: right;\n",
       "    }\n",
       "</style>\n",
       "<table border=\"1\" class=\"dataframe\">\n",
       "  <thead>\n",
       "    <tr style=\"text-align: right;\">\n",
       "      <th></th>\n",
       "      <th>a1_1</th>\n",
       "      <th>a1_2</th>\n",
       "      <th>a1_3</th>\n",
       "      <th>a2_1</th>\n",
       "      <th>a2_2</th>\n",
       "      <th>a2_3</th>\n",
       "      <th>a3_1</th>\n",
       "      <th>a3_2</th>\n",
       "      <th>a4_1</th>\n",
       "      <th>a4_2</th>\n",
       "      <th>a4_3</th>\n",
       "      <th>a5_1</th>\n",
       "      <th>a5_2</th>\n",
       "      <th>a5_3</th>\n",
       "      <th>a5_4</th>\n",
       "      <th>a6_1</th>\n",
       "      <th>a6_2</th>\n",
       "    </tr>\n",
       "  </thead>\n",
       "  <tbody>\n",
       "    <tr>\n",
       "      <th>61</th>\n",
       "      <td>0</td>\n",
       "      <td>1</td>\n",
       "      <td>0</td>\n",
       "      <td>0</td>\n",
       "      <td>1</td>\n",
       "      <td>0</td>\n",
       "      <td>1</td>\n",
       "      <td>0</td>\n",
       "      <td>1</td>\n",
       "      <td>0</td>\n",
       "      <td>0</td>\n",
       "      <td>0</td>\n",
       "      <td>1</td>\n",
       "      <td>0</td>\n",
       "      <td>0</td>\n",
       "      <td>1</td>\n",
       "      <td>0</td>\n",
       "    </tr>\n",
       "    <tr>\n",
       "      <th>45</th>\n",
       "      <td>0</td>\n",
       "      <td>1</td>\n",
       "      <td>0</td>\n",
       "      <td>1</td>\n",
       "      <td>0</td>\n",
       "      <td>0</td>\n",
       "      <td>1</td>\n",
       "      <td>0</td>\n",
       "      <td>1</td>\n",
       "      <td>0</td>\n",
       "      <td>0</td>\n",
       "      <td>0</td>\n",
       "      <td>0</td>\n",
       "      <td>1</td>\n",
       "      <td>0</td>\n",
       "      <td>1</td>\n",
       "      <td>0</td>\n",
       "    </tr>\n",
       "    <tr>\n",
       "      <th>39</th>\n",
       "      <td>1</td>\n",
       "      <td>0</td>\n",
       "      <td>0</td>\n",
       "      <td>0</td>\n",
       "      <td>0</td>\n",
       "      <td>1</td>\n",
       "      <td>0</td>\n",
       "      <td>1</td>\n",
       "      <td>0</td>\n",
       "      <td>1</td>\n",
       "      <td>0</td>\n",
       "      <td>0</td>\n",
       "      <td>0</td>\n",
       "      <td>0</td>\n",
       "      <td>1</td>\n",
       "      <td>1</td>\n",
       "      <td>0</td>\n",
       "    </tr>\n",
       "    <tr>\n",
       "      <th>63</th>\n",
       "      <td>0</td>\n",
       "      <td>1</td>\n",
       "      <td>0</td>\n",
       "      <td>0</td>\n",
       "      <td>1</td>\n",
       "      <td>0</td>\n",
       "      <td>1</td>\n",
       "      <td>0</td>\n",
       "      <td>1</td>\n",
       "      <td>0</td>\n",
       "      <td>0</td>\n",
       "      <td>0</td>\n",
       "      <td>0</td>\n",
       "      <td>1</td>\n",
       "      <td>0</td>\n",
       "      <td>1</td>\n",
       "      <td>0</td>\n",
       "    </tr>\n",
       "    <tr>\n",
       "      <th>115</th>\n",
       "      <td>0</td>\n",
       "      <td>0</td>\n",
       "      <td>1</td>\n",
       "      <td>0</td>\n",
       "      <td>0</td>\n",
       "      <td>1</td>\n",
       "      <td>1</td>\n",
       "      <td>0</td>\n",
       "      <td>0</td>\n",
       "      <td>0</td>\n",
       "      <td>1</td>\n",
       "      <td>0</td>\n",
       "      <td>0</td>\n",
       "      <td>0</td>\n",
       "      <td>1</td>\n",
       "      <td>0</td>\n",
       "      <td>1</td>\n",
       "    </tr>\n",
       "  </tbody>\n",
       "</table>\n",
       "</div>"
      ],
      "text/plain": [
       "     a1_1  a1_2  a1_3  a2_1  a2_2  a2_3  a3_1  a3_2  a4_1  a4_2  a4_3  a5_1  \\\n",
       "61      0     1     0     0     1     0     1     0     1     0     0     0   \n",
       "45      0     1     0     1     0     0     1     0     1     0     0     0   \n",
       "39      1     0     0     0     0     1     0     1     0     1     0     0   \n",
       "63      0     1     0     0     1     0     1     0     1     0     0     0   \n",
       "115     0     0     1     0     0     1     1     0     0     0     1     0   \n",
       "\n",
       "     a5_2  a5_3  a5_4  a6_1  a6_2  \n",
       "61      1     0     0     1     0  \n",
       "45      0     1     0     1     0  \n",
       "39      0     0     1     1     0  \n",
       "63      0     1     0     1     0  \n",
       "115     0     0     1     0     1  "
      ]
     },
     "execution_count": 24,
     "metadata": {},
     "output_type": "execute_result"
    }
   ],
   "source": [
    "robot1_val_X.head()"
   ]
  },
  {
   "cell_type": "code",
   "execution_count": 25,
   "metadata": {
    "scrolled": true
   },
   "outputs": [
    {
     "data": {
      "text/html": [
       "<div>\n",
       "<style scoped>\n",
       "    .dataframe tbody tr th:only-of-type {\n",
       "        vertical-align: middle;\n",
       "    }\n",
       "\n",
       "    .dataframe tbody tr th {\n",
       "        vertical-align: top;\n",
       "    }\n",
       "\n",
       "    .dataframe thead th {\n",
       "        text-align: right;\n",
       "    }\n",
       "</style>\n",
       "<table border=\"1\" class=\"dataframe\">\n",
       "  <thead>\n",
       "    <tr style=\"text-align: right;\">\n",
       "      <th></th>\n",
       "      <th>sepal_length</th>\n",
       "      <th>sepal_width</th>\n",
       "      <th>petal_length</th>\n",
       "      <th>petal_width</th>\n",
       "    </tr>\n",
       "  </thead>\n",
       "  <tbody>\n",
       "    <tr>\n",
       "      <th>67</th>\n",
       "      <td>5.8</td>\n",
       "      <td>2.8</td>\n",
       "      <td>5.1</td>\n",
       "      <td>2.4</td>\n",
       "    </tr>\n",
       "    <tr>\n",
       "      <th>19</th>\n",
       "      <td>6.3</td>\n",
       "      <td>2.5</td>\n",
       "      <td>5.0</td>\n",
       "      <td>1.9</td>\n",
       "    </tr>\n",
       "    <tr>\n",
       "      <th>14</th>\n",
       "      <td>5.4</td>\n",
       "      <td>3.9</td>\n",
       "      <td>1.7</td>\n",
       "      <td>0.4</td>\n",
       "    </tr>\n",
       "    <tr>\n",
       "      <th>59</th>\n",
       "      <td>5.8</td>\n",
       "      <td>2.7</td>\n",
       "      <td>3.9</td>\n",
       "      <td>1.2</td>\n",
       "    </tr>\n",
       "    <tr>\n",
       "      <th>39</th>\n",
       "      <td>7.7</td>\n",
       "      <td>3.0</td>\n",
       "      <td>6.1</td>\n",
       "      <td>2.3</td>\n",
       "    </tr>\n",
       "  </tbody>\n",
       "</table>\n",
       "</div>"
      ],
      "text/plain": [
       "    sepal_length  sepal_width  petal_length  petal_width\n",
       "67           5.8          2.8           5.1          2.4\n",
       "19           6.3          2.5           5.0          1.9\n",
       "14           5.4          3.9           1.7          0.4\n",
       "59           5.8          2.7           3.9          1.2\n",
       "39           7.7          3.0           6.1          2.3"
      ]
     },
     "execution_count": 25,
     "metadata": {},
     "output_type": "execute_result"
    }
   ],
   "source": [
    "iris_train_X.head()"
   ]
  },
  {
   "cell_type": "code",
   "execution_count": 26,
   "metadata": {},
   "outputs": [
    {
     "data": {
      "text/plain": [
       "(array([0.2, 0.4, 1. , 1.1, 1.2, 1.3, 1.4, 1.5, 1.6, 1.8, 1.9, 2.1, 2.2,\n",
       "        2.3, 2.4, 2.5, 2.6, 2.7, 2.8, 2.9, 3. , 3.1, 3.2, 3.3, 3.4, 3.7,\n",
       "        3.8, 4.2, 4.4, 4.5, 4.6, 4.7, 4.8, 4.9, 5. , 5.1, 5.2, 5.4, 5.5,\n",
       "        5.6, 5.7, 5.8, 5.9, 6. , 6.1, 6.2, 6.3, 6.4, 6.7, 6.8, 6.9, 7.1]),\n",
       " array([6, 1, 1, 1, 1, 2, 4, 6, 5, 1, 2, 1, 1, 2, 2, 1, 1, 1, 1, 2, 7, 3,\n",
       "        3, 1, 5, 1, 1, 2, 1, 4, 1, 3, 4, 1, 3, 1, 1, 1, 2, 1, 1, 1, 3, 3,\n",
       "        4, 1, 1, 1, 2, 1, 1, 1]))"
      ]
     },
     "execution_count": 26,
     "metadata": {},
     "output_type": "execute_result"
    }
   ],
   "source": [
    "np.unique(iris_val_X, return_counts=True)"
   ]
  },
  {
   "cell_type": "markdown",
   "metadata": {},
   "source": [
    "# Util Functions"
   ]
  },
  {
   "cell_type": "markdown",
   "metadata": {},
   "source": [
    "#### Euclidean distance"
   ]
  },
  {
   "cell_type": "code",
   "execution_count": 27,
   "metadata": {},
   "outputs": [],
   "source": [
    "def euclidean(row1, row2):\n",
    "    if(len(row1) != len(row2)):\n",
    "        raise ValueError('row lengths do not match in euclidean dist calculation!')\n",
    "    return np.sqrt(np.sum([(x-y)**2 for x, y in zip(row1,row2)]))\n",
    "\n",
    "def chebyshev(row1, row2):\n",
    "    if(len(row1) != len(row2)):\n",
    "        raise ValueError('row lengths do not match in chebyshev dist calculation!')\n",
    "    return np.max([abs(x-y) for x, y in zip(row1,row2)])\n",
    "\n",
    "def manhattan(row1, row2):\n",
    "    if(len(row1) != len(row2)):\n",
    "        raise ValueError('row lengths do not match in manhattan dist calculation!')\n",
    "    return np.sum([abs(x-y) for x, y in zip(row1,row2)])\n",
    "\n",
    "def minkowski(row1, row2):\n",
    "    if(len(row1) != len(row2)):\n",
    "        raise ValueError('row lengths do not match in minkowski dist calculation!')\n",
    "    x = np.cbrt(np.sum([abs(x-y)**3 for x, y in zip(row1,row2)]))\n",
    "#     print(x)\n",
    "    return x"
   ]
  },
  {
   "cell_type": "code",
   "execution_count": 28,
   "metadata": {},
   "outputs": [],
   "source": [
    "def print_metrics(Y_predict, Y_test):\n",
    "    accuracy = metrics.accuracy_score(Y_test, Y_predict)\n",
    "    precision = metrics.precision_score(Y_test, Y_predict, pos_label=1, average='macro')\n",
    "    recall = metrics.recall_score(Y_test, Y_predict,pos_label=1, average='macro')\n",
    "    f1_score = metrics.f1_score(Y_test, Y_predict,pos_label=1, average='macro')\n",
    "    print(\"Accuracy : \" +str(accuracy))\n",
    "    print(\"Precision : \" +str(precision))\n",
    "    print(\"recall : \" +str(recall))\n",
    "    print(\"f1 Score : \" +str(f1_score))\n",
    "    print()"
   ]
  },
  {
   "cell_type": "code",
   "execution_count": 29,
   "metadata": {},
   "outputs": [],
   "source": [
    "def calc_metrics(Y_predict, Y_test):\n",
    "    accuracy = metrics.accuracy_score(Y_test, Y_predict)\n",
    "    precision = metrics.precision_score(Y_test, Y_predict, pos_label=1, average='macro')\n",
    "    recall = metrics.recall_score(Y_test, Y_predict,pos_label=1, average='macro')\n",
    "    f1_score = metrics.f1_score(Y_test, Y_predict,pos_label=1, average='macro')\n",
    "    return [accuracy, precision, recall, f1_score]"
   ]
  },
  {
   "cell_type": "markdown",
   "metadata": {},
   "source": [
    "# My KNN"
   ]
  },
  {
   "cell_type": "code",
   "execution_count": 30,
   "metadata": {},
   "outputs": [],
   "source": [
    "class KNN:\n",
    "    def __init__(self, n_neighbors=5, metric=euclidean):\n",
    "        self.n_neighbors = n_neighbors\n",
    "        self.metric = metric\n",
    "        \n",
    "    def fit(self, X, Y):\n",
    "        self.scaler = MinMaxScaler()\n",
    "        self.scaler = self.scaler.fit(X)\n",
    "        self.train_X = pd.DataFrame(self.scaler.transform(X), columns=X.columns)\n",
    "#         self.train_X = X\n",
    "        self.train_Y = Y\n",
    "\n",
    "    def scalerFit(self, df):\n",
    "        scaler = MinMaxScaler()\n",
    "        scaler.fit(df)\n",
    "        return scaler\n",
    "\n",
    "    def transform(self, scalar, df, cols):\n",
    "        df_scaled = pd.DataFrame(scaler.transform(df[cols]), columns=cols)\n",
    "        return df_scaled\n",
    "\n",
    "    def predict_row(self, row):\n",
    "        dists = []\n",
    "        index = 0\n",
    "        for i, train_row in self.train_X.iterrows():\n",
    "            dist = self.metric(row, train_row)\n",
    "            label = self.train_Y.iloc[index]\n",
    "            dists.append((dist,label))\n",
    "            index += 1\n",
    "        dists.sort()\n",
    "        dists = dists[:self.n_neighbors]\n",
    "        elem,count = np.unique([j for (i,j) in dists], return_counts=True)\n",
    "        return elem[np.argmax(count)]\n",
    "    \n",
    "    def predict(self, X):\n",
    "        X = pd.DataFrame(self.scaler.transform(X), columns=X.columns)\n",
    "        y = []\n",
    "        for index, row in X.iterrows():\n",
    "            y.append(self.predict_row(row))\n",
    "        return y"
   ]
  },
  {
   "cell_type": "markdown",
   "metadata": {},
   "source": [
    "### Model Fit"
   ]
  },
  {
   "cell_type": "code",
   "execution_count": 31,
   "metadata": {},
   "outputs": [],
   "source": [
    "iris_X_cols = ['sepal_length', 'sepal_width', 'petal_length', 'petal_width']\n",
    "iris_Y_cols = ['class']\n",
    "myKNN = KNN(n_neighbors=2, metric=euclidean)\n",
    "myKNN.fit(iris_train_X, iris_train_Y)"
   ]
  },
  {
   "cell_type": "markdown",
   "metadata": {},
   "source": [
    "### Model Predication"
   ]
  },
  {
   "cell_type": "code",
   "execution_count": 32,
   "metadata": {
    "scrolled": true
   },
   "outputs": [],
   "source": [
    "iris_pred_Y = myKNN.predict(iris_val_X)\n",
    "# iris_pred_Y"
   ]
  },
  {
   "cell_type": "markdown",
   "metadata": {},
   "source": [
    "### Printing Metrics"
   ]
  },
  {
   "cell_type": "code",
   "execution_count": 38,
   "metadata": {},
   "outputs": [
    {
     "name": "stdout",
     "output_type": "stream",
     "text": [
      "For Iris Dataset\n",
      "Accuracy : 0.9259259259259259\n",
      "Precision : 0.9267399267399267\n",
      "recall : 0.9267399267399267\n",
      "f1 Score : 0.9267399267399267\n",
      "\n"
     ]
    }
   ],
   "source": [
    "print(\"For Iris Dataset\")\n",
    "print_metrics(iris_pred_Y,iris_val_Y)"
   ]
  },
  {
   "cell_type": "code",
   "execution_count": 39,
   "metadata": {},
   "outputs": [
    {
     "name": "stdout",
     "output_type": "stream",
     "text": [
      "For Robot1 Dataset\n",
      "Accuracy : 0.76\n",
      "Precision : 0.8333333333333333\n",
      "recall : 0.7692307692307692\n",
      "f1 Score : 0.75\n",
      "\n"
     ]
    }
   ],
   "source": [
    "iris_X_cols = ['sepal_length', 'sepal_width', 'petal_length', 'petal_width']\n",
    "iris_Y_cols = ['class']\n",
    "myKNN = KNN(5, metric=euclidean)\n",
    "myKNN.fit(robot1_train_X, robot1_train_Y)\n",
    "robot1_pred_Y = myKNN.predict(robot1_val_X)\n",
    "print(\"For Robot1 Dataset\")\n",
    "print_metrics(robot1_pred_Y,robot1_val_Y)"
   ]
  },
  {
   "cell_type": "code",
   "execution_count": 40,
   "metadata": {},
   "outputs": [
    {
     "name": "stdout",
     "output_type": "stream",
     "text": [
      "For Robot2 Dataset\n",
      "Accuracy : 0.68\n",
      "Precision : 0.8260869565217391\n",
      "recall : 0.6\n",
      "f1 Score : 0.5614035087719298\n",
      "\n"
     ]
    }
   ],
   "source": [
    "iris_X_cols = ['sepal_length', 'sepal_width', 'petal_length', 'petal_width']\n",
    "iris_Y_cols = ['class']\n",
    "myKNN = KNN(5, metric=euclidean)\n",
    "myKNN.fit(robot2_train_X, robot2_train_Y)\n",
    "robot2_pred_Y = myKNN.predict(robot2_val_X)\n",
    "print(\"For Robot2 Dataset\")\n",
    "print_metrics(robot2_pred_Y,robot2_val_Y)"
   ]
  },
  {
   "cell_type": "markdown",
   "metadata": {},
   "source": [
    "## Evaluation for all 3 datasets"
   ]
  },
  {
   "cell_type": "code",
   "execution_count": 41,
   "metadata": {},
   "outputs": [],
   "source": [
    "### Creating single source for data\n",
    "datasets = ['iris', 'robot1', 'robot2']\n",
    "X_trains = [iris_train_X, robot1_train_X, robot2_train_X]\n",
    "Y_trains = [iris_train_Y, robot1_train_Y, robot2_train_Y]\n",
    "X_vals = [iris_val_X, robot1_val_X, robot2_val_X]\n",
    "Y_vals = [iris_val_Y, robot1_val_Y, robot2_val_Y]\n",
    "\n",
    "all_data = zip(datasets, X_trains, Y_trains, X_vals, Y_vals)"
   ]
  },
  {
   "cell_type": "code",
   "execution_count": 42,
   "metadata": {},
   "outputs": [],
   "source": [
    "all_data = list(all_data)"
   ]
  },
  {
   "cell_type": "code",
   "execution_count": 43,
   "metadata": {},
   "outputs": [],
   "source": [
    "## Creating a metric dataframe\n",
    "metric_cols = ['Metric', 'Accuracy', 'Precision', 'Recall', 'F1 Score']\n",
    "metric_df = pd.DataFrame(columns = metric_cols)"
   ]
  },
  {
   "cell_type": "code",
   "execution_count": 44,
   "metadata": {},
   "outputs": [],
   "source": [
    "# Calculating metrics for all datasets\n",
    "def evaluate_metric_dataframe(datasets1, model):\n",
    "    metric_cols = ['DataSet', 'Accuracy', 'Precision', 'Recall', 'F1 Score']\n",
    "    metric_df = pd.DataFrame(columns = metric_cols)\n",
    "    for data in datasets1:\n",
    "        model.fit(data[1], data[2])\n",
    "        pred_Y = model.predict(data[3])\n",
    "        scores = calc_metrics(pred_Y, data[4])\n",
    "        metric_df = metric_df.append(pd.DataFrame([[data[0]] + scores], columns=metric_cols),ignore_index=True)\n",
    "    return metric_df"
   ]
  },
  {
   "cell_type": "code",
   "execution_count": 45,
   "metadata": {},
   "outputs": [],
   "source": [
    "metric_df = evaluate_metric_dataframe(all_data, myKNN)"
   ]
  },
  {
   "cell_type": "code",
   "execution_count": 47,
   "metadata": {
    "scrolled": true
   },
   "outputs": [
    {
     "name": "stdout",
     "output_type": "stream",
     "text": [
      "For K = 5\n"
     ]
    },
    {
     "data": {
      "text/html": [
       "<div>\n",
       "<style scoped>\n",
       "    .dataframe tbody tr th:only-of-type {\n",
       "        vertical-align: middle;\n",
       "    }\n",
       "\n",
       "    .dataframe tbody tr th {\n",
       "        vertical-align: top;\n",
       "    }\n",
       "\n",
       "    .dataframe thead th {\n",
       "        text-align: right;\n",
       "    }\n",
       "</style>\n",
       "<table border=\"1\" class=\"dataframe\">\n",
       "  <thead>\n",
       "    <tr style=\"text-align: right;\">\n",
       "      <th></th>\n",
       "      <th>DataSet</th>\n",
       "      <th>Accuracy</th>\n",
       "      <th>Precision</th>\n",
       "      <th>Recall</th>\n",
       "      <th>F1 Score</th>\n",
       "    </tr>\n",
       "  </thead>\n",
       "  <tbody>\n",
       "    <tr>\n",
       "      <th>0</th>\n",
       "      <td>iris</td>\n",
       "      <td>1.00</td>\n",
       "      <td>1.000000</td>\n",
       "      <td>1.000000</td>\n",
       "      <td>1.000000</td>\n",
       "    </tr>\n",
       "    <tr>\n",
       "      <th>1</th>\n",
       "      <td>robot1</td>\n",
       "      <td>0.76</td>\n",
       "      <td>0.833333</td>\n",
       "      <td>0.769231</td>\n",
       "      <td>0.750000</td>\n",
       "    </tr>\n",
       "    <tr>\n",
       "      <th>2</th>\n",
       "      <td>robot2</td>\n",
       "      <td>0.68</td>\n",
       "      <td>0.826087</td>\n",
       "      <td>0.600000</td>\n",
       "      <td>0.561404</td>\n",
       "    </tr>\n",
       "  </tbody>\n",
       "</table>\n",
       "</div>"
      ],
      "text/plain": [
       "  DataSet  Accuracy  Precision    Recall  F1 Score\n",
       "0    iris      1.00   1.000000  1.000000  1.000000\n",
       "1  robot1      0.76   0.833333  0.769231  0.750000\n",
       "2  robot2      0.68   0.826087  0.600000  0.561404"
      ]
     },
     "execution_count": 47,
     "metadata": {},
     "output_type": "execute_result"
    }
   ],
   "source": [
    "print(\"For K = 5\")\n",
    "metric_df"
   ]
  },
  {
   "cell_type": "markdown",
   "metadata": {},
   "source": [
    "## Q1-1 Comparing metrics with sklearn"
   ]
  },
  {
   "cell_type": "code",
   "execution_count": 48,
   "metadata": {},
   "outputs": [],
   "source": [
    "from sklearn.neighbors import KNeighborsClassifier\n",
    "def compareSklearnWithK(data):\n",
    "    plt.figure(1, figsize=(14,10))\n",
    "    n_neighbour = [i for i in range(1, 12)]\n",
    "    metrics = []\n",
    "    sk_metrics = []\n",
    "    titles = ['Accuracy', 'Precision', 'Recall', 'F1 Score']\n",
    "    for i in range(1,12):\n",
    "        model = KNN(i)\n",
    "#         print(data[1], data[2])\n",
    "        model.fit(data[1], data[2])\n",
    "        pred_Y = model.predict(data[3])\n",
    "        metrics.append(calc_metrics(pred_Y,data[4]))\n",
    "\n",
    "        neigh = KNeighborsClassifier(n_neighbors=i, metric='euclidean')\n",
    "        neigh.fit(data[1], data[2]) \n",
    "        sklearn_pred = neigh.predict(data[3])\n",
    "        sk_metrics.append(calc_metrics(sklearn_pred, data[4]))\n",
    "    \n",
    "    temp = np.array(metrics).T\n",
    "    temp_sk = np.array(sk_metrics).T\n",
    "    for i in range(4):\n",
    "        ax = plt.subplot(2, 2, i + 1)\n",
    "        ax.plot(n_neighbour, temp[i], label=\"myKNN\")\n",
    "        ax.plot(n_neighbour, temp_sk[i], label=\"sklearn KNN\")\n",
    "        ax.set_ylim(ymin=0)\n",
    "        ax.legend(loc='best')\n",
    "        ax.set_xlabel(\"No. of neighbours\")\n",
    "        ax.set_ylabel(titles[i])\n",
    "#         ax.set_title(titles[i])\n",
    "    plt.show(ax)"
   ]
  },
  {
   "cell_type": "code",
   "execution_count": 49,
   "metadata": {},
   "outputs": [
    {
     "name": "stdout",
     "output_type": "stream",
     "text": [
      "For iris Dataset\n"
     ]
    },
    {
     "data": {
      "image/png": "[encoded data removed]",
      "text/plain": [
       "<Figure size 1008x720 with 4 Axes>"
      ]
     },
     "metadata": {},
     "output_type": "display_data"
    },
    {
     "name": "stdout",
     "output_type": "stream",
     "text": [
      "======================================================================================================\n",
      "For robot1 Dataset\n"
     ]
    },
    {
     "data": {
      "image/png": "[encoded data removed]",
      "text/plain": [
       "<Figure size 1008x720 with 4 Axes>"
      ]
     },
     "metadata": {},
     "output_type": "display_data"
    },
    {
     "name": "stdout",
     "output_type": "stream",
     "text": [
      "======================================================================================================\n",
      "For robot2 Dataset\n"
     ]
    },
    {
     "data": {
      "image/png": "[encoded data removed]",
      "text/plain": [
       "<Figure size 1008x720 with 4 Axes>"
      ]
     },
     "metadata": {},
     "output_type": "display_data"
    },
    {
     "name": "stdout",
     "output_type": "stream",
     "text": [
      "======================================================================================================\n"
     ]
    }
   ],
   "source": [
    "for i in range(len(all_data)):\n",
    "    print(\"For {0} Dataset\".format(all_data[i][0]))\n",
    "    compareSklearnWithK(all_data[i])\n",
    "    print(\"======================================================================================================\")"
   ]
  },
  {
   "cell_type": "markdown",
   "metadata": {},
   "source": [
    "## Q1-2 Plot graph to report accuracy with change in value of K."
   ]
  },
  {
   "cell_type": "code",
   "execution_count": 50,
   "metadata": {},
   "outputs": [],
   "source": [
    "def plotAccuracywithK(datasets, distance_metrics):\n",
    "    plt.figure(1, figsize=(14,10))\n",
    "    n_neighbour = [i for i in range(1, 12)]\n",
    "    titles = []\n",
    "    for metric in distance_metrics:\n",
    "        metric_acc = []\n",
    "        for data in datasets:\n",
    "            if(len(titles) < len(datasets)):\n",
    "                titles.append(data[0])\n",
    "            accuracy = []\n",
    "            for i in range(1,12):\n",
    "                model = KNN(i, metric=metric)\n",
    "                model.fit(data[1], data[2])\n",
    "                pred_Y = model.predict(data[3])\n",
    "                accuracy.append(metrics.accuracy_score(pred_Y,data[4]))\n",
    "            metric_acc.append(accuracy)\n",
    "        for i in range(len(metric_acc)):\n",
    "            ax = plt.subplot(2, 2, i + 1)\n",
    "            ax.plot(n_neighbour, metric_acc[i], label=metric.__name__)\n",
    "            ax.legend(loc='best')\n",
    "            ax.set_xlabel(\"No. of neighbours\")\n",
    "            ax.set_ylabel(\"Accuracy\")\n",
    "            ax.set_ylim(ymin=0)\n",
    "            ax.set_title(titles[i])\n",
    "    plt.show(ax)"
   ]
  },
  {
   "cell_type": "code",
   "execution_count": 51,
   "metadata": {},
   "outputs": [
    {
     "data": {
      "image/png": "[encoded data removed]",
      "text/plain": [
       "<Figure size 1008x720 with 3 Axes>"
      ]
     },
     "metadata": {},
     "output_type": "display_data"
    }
   ],
   "source": [
    "dist_metrics = [euclidean, chebyshev, manhattan, minkowski]\n",
    "plotAccuracywithK(all_data, dist_metrics)"
   ]
  },
  {
   "cell_type": "markdown",
   "metadata": {},
   "source": [
    "## Observations: \n",
    "1. As we increase K, the no. of the neighbours which vote increase which results in more smooth splitting of the boundary(rather than a zig zag manner), hence a possibility for a better prediction"
   ]
  },
  {
   "cell_type": "markdown",
   "metadata": {},
   "source": [
    "## Evaluation with Sklearn KNN"
   ]
  },
  {
   "cell_type": "markdown",
   "metadata": {},
   "source": [
    "### Model Fit"
   ]
  },
  {
   "cell_type": "code",
   "execution_count": 52,
   "metadata": {},
   "outputs": [
    {
     "data": {
      "text/plain": [
       "KNeighborsClassifier(algorithm='auto', leaf_size=30, metric='euclidean',\n",
       "           metric_params=None, n_jobs=None, n_neighbors=5, p=2,\n",
       "           weights='uniform')"
      ]
     },
     "execution_count": 52,
     "metadata": {},
     "output_type": "execute_result"
    }
   ],
   "source": [
    "from sklearn.neighbors import KNeighborsClassifier\n",
    "neigh = KNeighborsClassifier(n_neighbors=5, metric='euclidean')\n",
    "neigh.fit(iris_train_X, iris_train_Y) "
   ]
  },
  {
   "cell_type": "markdown",
   "metadata": {},
   "source": [
    "### Model Prediction"
   ]
  },
  {
   "cell_type": "code",
   "execution_count": 53,
   "metadata": {},
   "outputs": [],
   "source": [
    "sklearn_iris_pred = neigh.predict(iris_val_X)"
   ]
  },
  {
   "cell_type": "markdown",
   "metadata": {},
   "source": [
    "### Printing Metrics"
   ]
  },
  {
   "cell_type": "code",
   "execution_count": 54,
   "metadata": {
    "scrolled": true
   },
   "outputs": [
    {
     "name": "stdout",
     "output_type": "stream",
     "text": [
      "Accuracy : 1.0\n",
      "Precision : 1.0\n",
      "recall : 1.0\n",
      "f1 Score : 1.0\n",
      "\n"
     ]
    }
   ],
   "source": [
    "print_metrics(sklearn_iris_pred, iris_val_Y)"
   ]
  },
  {
   "cell_type": "code",
   "execution_count": 55,
   "metadata": {},
   "outputs": [
    {
     "name": "stdout",
     "output_type": "stream",
     "text": [
      "Accuracy : 0.76\n",
      "Precision : 0.7596153846153846\n",
      "recall : 0.7596153846153846\n",
      "f1 Score : 0.7596153846153846\n",
      "\n"
     ]
    }
   ],
   "source": [
    "from sklearn.neighbors import KNeighborsClassifier\n",
    "neigh = KNeighborsClassifier(n_neighbors=5)\n",
    "neigh.fit(robot1_train_X, robot1_train_Y) \n",
    "sklearn_robot1_pred = neigh.predict(robot1_val_X)\n",
    "print_metrics(sklearn_robot1_pred, robot1_val_Y)"
   ]
  },
  {
   "cell_type": "code",
   "execution_count": 56,
   "metadata": {},
   "outputs": [],
   "source": [
    "metric_df = evaluate_metric_dataframe(all_data, neigh)"
   ]
  },
  {
   "cell_type": "code",
   "execution_count": 57,
   "metadata": {},
   "outputs": [
    {
     "data": {
      "text/html": [
       "<div>\n",
       "<style scoped>\n",
       "    .dataframe tbody tr th:only-of-type {\n",
       "        vertical-align: middle;\n",
       "    }\n",
       "\n",
       "    .dataframe tbody tr th {\n",
       "        vertical-align: top;\n",
       "    }\n",
       "\n",
       "    .dataframe thead th {\n",
       "        text-align: right;\n",
       "    }\n",
       "</style>\n",
       "<table border=\"1\" class=\"dataframe\">\n",
       "  <thead>\n",
       "    <tr style=\"text-align: right;\">\n",
       "      <th></th>\n",
       "      <th>DataSet</th>\n",
       "      <th>Accuracy</th>\n",
       "      <th>Precision</th>\n",
       "      <th>Recall</th>\n",
       "      <th>F1 Score</th>\n",
       "    </tr>\n",
       "  </thead>\n",
       "  <tbody>\n",
       "    <tr>\n",
       "      <th>0</th>\n",
       "      <td>iris</td>\n",
       "      <td>1.00</td>\n",
       "      <td>1.000000</td>\n",
       "      <td>1.000000</td>\n",
       "      <td>1.000000</td>\n",
       "    </tr>\n",
       "    <tr>\n",
       "      <th>1</th>\n",
       "      <td>robot1</td>\n",
       "      <td>0.76</td>\n",
       "      <td>0.759615</td>\n",
       "      <td>0.759615</td>\n",
       "      <td>0.759615</td>\n",
       "    </tr>\n",
       "    <tr>\n",
       "      <th>2</th>\n",
       "      <td>robot2</td>\n",
       "      <td>0.68</td>\n",
       "      <td>0.665441</td>\n",
       "      <td>0.650000</td>\n",
       "      <td>0.652778</td>\n",
       "    </tr>\n",
       "  </tbody>\n",
       "</table>\n",
       "</div>"
      ],
      "text/plain": [
       "  DataSet  Accuracy  Precision    Recall  F1 Score\n",
       "0    iris      1.00   1.000000  1.000000  1.000000\n",
       "1  robot1      0.76   0.759615  0.759615  0.759615\n",
       "2  robot2      0.68   0.665441  0.650000  0.652778"
      ]
     },
     "execution_count": 57,
     "metadata": {},
     "output_type": "execute_result"
    }
   ],
   "source": [
    "metric_df"
   ]
  },
  {
   "cell_type": "markdown",
   "metadata": {},
   "source": [
    "# PART - 2 (Naive Bayes)"
   ]
  },
  {
   "cell_type": "markdown",
   "metadata": {},
   "source": [
    "## Reading Input"
   ]
  },
  {
   "cell_type": "code",
   "execution_count": 58,
   "metadata": {},
   "outputs": [],
   "source": [
    "loan_df = pd.read_csv(\"LoanDataset/data.csv\", header=None)"
   ]
  },
  {
   "cell_type": "code",
   "execution_count": 59,
   "metadata": {},
   "outputs": [
    {
     "data": {
      "text/html": [
       "<div>\n",
       "<style scoped>\n",
       "    .dataframe tbody tr th:only-of-type {\n",
       "        vertical-align: middle;\n",
       "    }\n",
       "\n",
       "    .dataframe tbody tr th {\n",
       "        vertical-align: top;\n",
       "    }\n",
       "\n",
       "    .dataframe thead th {\n",
       "        text-align: right;\n",
       "    }\n",
       "</style>\n",
       "<table border=\"1\" class=\"dataframe\">\n",
       "  <thead>\n",
       "    <tr style=\"text-align: right;\">\n",
       "      <th></th>\n",
       "      <th>0</th>\n",
       "      <th>1</th>\n",
       "      <th>2</th>\n",
       "      <th>3</th>\n",
       "      <th>4</th>\n",
       "      <th>5</th>\n",
       "      <th>6</th>\n",
       "      <th>7</th>\n",
       "      <th>8</th>\n",
       "      <th>9</th>\n",
       "      <th>10</th>\n",
       "      <th>11</th>\n",
       "      <th>12</th>\n",
       "      <th>13</th>\n",
       "    </tr>\n",
       "  </thead>\n",
       "  <tbody>\n",
       "    <tr>\n",
       "      <th>0</th>\n",
       "      <td>1</td>\n",
       "      <td>25</td>\n",
       "      <td>1.1</td>\n",
       "      <td>49</td>\n",
       "      <td>91107</td>\n",
       "      <td>4</td>\n",
       "      <td>1.6</td>\n",
       "      <td>1.2</td>\n",
       "      <td>0</td>\n",
       "      <td>0.1</td>\n",
       "      <td>1.3</td>\n",
       "      <td>0.2</td>\n",
       "      <td>0.3</td>\n",
       "      <td>0.4</td>\n",
       "    </tr>\n",
       "    <tr>\n",
       "      <th>1</th>\n",
       "      <td>2701</td>\n",
       "      <td>31</td>\n",
       "      <td>5.0</td>\n",
       "      <td>39</td>\n",
       "      <td>94590</td>\n",
       "      <td>4</td>\n",
       "      <td>2.2</td>\n",
       "      <td>2.0</td>\n",
       "      <td>0</td>\n",
       "      <td>0.0</td>\n",
       "      <td>0.0</td>\n",
       "      <td>0.0</td>\n",
       "      <td>1.0</td>\n",
       "      <td>1.0</td>\n",
       "    </tr>\n",
       "    <tr>\n",
       "      <th>2</th>\n",
       "      <td>2716</td>\n",
       "      <td>42</td>\n",
       "      <td>18.0</td>\n",
       "      <td>54</td>\n",
       "      <td>90089</td>\n",
       "      <td>1</td>\n",
       "      <td>1.8</td>\n",
       "      <td>1.0</td>\n",
       "      <td>0</td>\n",
       "      <td>0.0</td>\n",
       "      <td>0.0</td>\n",
       "      <td>0.0</td>\n",
       "      <td>1.0</td>\n",
       "      <td>0.0</td>\n",
       "    </tr>\n",
       "    <tr>\n",
       "      <th>3</th>\n",
       "      <td>3359</td>\n",
       "      <td>59</td>\n",
       "      <td>35.0</td>\n",
       "      <td>40</td>\n",
       "      <td>94536</td>\n",
       "      <td>4</td>\n",
       "      <td>0.4</td>\n",
       "      <td>1.0</td>\n",
       "      <td>0</td>\n",
       "      <td>0.0</td>\n",
       "      <td>0.0</td>\n",
       "      <td>0.0</td>\n",
       "      <td>0.0</td>\n",
       "      <td>0.0</td>\n",
       "    </tr>\n",
       "    <tr>\n",
       "      <th>4</th>\n",
       "      <td>2492</td>\n",
       "      <td>38</td>\n",
       "      <td>14.0</td>\n",
       "      <td>80</td>\n",
       "      <td>92868</td>\n",
       "      <td>2</td>\n",
       "      <td>2.7</td>\n",
       "      <td>1.0</td>\n",
       "      <td>0</td>\n",
       "      <td>0.0</td>\n",
       "      <td>0.0</td>\n",
       "      <td>0.0</td>\n",
       "      <td>1.0</td>\n",
       "      <td>0.0</td>\n",
       "    </tr>\n",
       "  </tbody>\n",
       "</table>\n",
       "</div>"
      ],
      "text/plain": [
       "     0   1     2   3      4   5    6    7   8    9    10   11   12   13\n",
       "0     1  25   1.1  49  91107   4  1.6  1.2   0  0.1  1.3  0.2  0.3  0.4\n",
       "1  2701  31   5.0  39  94590   4  2.2  2.0   0  0.0  0.0  0.0  1.0  1.0\n",
       "2  2716  42  18.0  54  90089   1  1.8  1.0   0  0.0  0.0  0.0  1.0  0.0\n",
       "3  3359  59  35.0  40  94536   4  0.4  1.0   0  0.0  0.0  0.0  0.0  0.0\n",
       "4  2492  38  14.0  80  92868   2  2.7  1.0   0  0.0  0.0  0.0  1.0  0.0"
      ]
     },
     "execution_count": 59,
     "metadata": {},
     "output_type": "execute_result"
    }
   ],
   "source": [
    "loan_df.head()"
   ]
  },
  {
   "cell_type": "code",
   "execution_count": 60,
   "metadata": {},
   "outputs": [],
   "source": [
    "loan_cols = ['ID', 'age', 'no_of_year_of_exp', 'annual_income', 'zip', 'family_size',\n",
    " 'average_spending', 'education_level', 'mortgage_value', 'class',\n",
    " 'security_account', 'certificate_of_deposit', 'internet_banking',\n",
    " 'credit_card']"
   ]
  },
  {
   "cell_type": "code",
   "execution_count": 61,
   "metadata": {},
   "outputs": [],
   "source": [
    "loan_df.columns = loan_cols"
   ]
  },
  {
   "cell_type": "code",
   "execution_count": 62,
   "metadata": {
    "scrolled": true
   },
   "outputs": [
    {
     "data": {
      "text/html": [
       "<div>\n",
       "<style scoped>\n",
       "    .dataframe tbody tr th:only-of-type {\n",
       "        vertical-align: middle;\n",
       "    }\n",
       "\n",
       "    .dataframe tbody tr th {\n",
       "        vertical-align: top;\n",
       "    }\n",
       "\n",
       "    .dataframe thead th {\n",
       "        text-align: right;\n",
       "    }\n",
       "</style>\n",
       "<table border=\"1\" class=\"dataframe\">\n",
       "  <thead>\n",
       "    <tr style=\"text-align: right;\">\n",
       "      <th></th>\n",
       "      <th>ID</th>\n",
       "      <th>age</th>\n",
       "      <th>no_of_year_of_exp</th>\n",
       "      <th>annual_income</th>\n",
       "      <th>zip</th>\n",
       "      <th>family_size</th>\n",
       "      <th>average_spending</th>\n",
       "      <th>education_level</th>\n",
       "      <th>mortgage_value</th>\n",
       "      <th>class</th>\n",
       "      <th>security_account</th>\n",
       "      <th>certificate_of_deposit</th>\n",
       "      <th>internet_banking</th>\n",
       "      <th>credit_card</th>\n",
       "    </tr>\n",
       "  </thead>\n",
       "  <tbody>\n",
       "    <tr>\n",
       "      <th>0</th>\n",
       "      <td>1</td>\n",
       "      <td>25</td>\n",
       "      <td>1.1</td>\n",
       "      <td>49</td>\n",
       "      <td>91107</td>\n",
       "      <td>4</td>\n",
       "      <td>1.6</td>\n",
       "      <td>1.2</td>\n",
       "      <td>0</td>\n",
       "      <td>0.1</td>\n",
       "      <td>1.3</td>\n",
       "      <td>0.2</td>\n",
       "      <td>0.3</td>\n",
       "      <td>0.4</td>\n",
       "    </tr>\n",
       "    <tr>\n",
       "      <th>1</th>\n",
       "      <td>2701</td>\n",
       "      <td>31</td>\n",
       "      <td>5.0</td>\n",
       "      <td>39</td>\n",
       "      <td>94590</td>\n",
       "      <td>4</td>\n",
       "      <td>2.2</td>\n",
       "      <td>2.0</td>\n",
       "      <td>0</td>\n",
       "      <td>0.0</td>\n",
       "      <td>0.0</td>\n",
       "      <td>0.0</td>\n",
       "      <td>1.0</td>\n",
       "      <td>1.0</td>\n",
       "    </tr>\n",
       "    <tr>\n",
       "      <th>2</th>\n",
       "      <td>2716</td>\n",
       "      <td>42</td>\n",
       "      <td>18.0</td>\n",
       "      <td>54</td>\n",
       "      <td>90089</td>\n",
       "      <td>1</td>\n",
       "      <td>1.8</td>\n",
       "      <td>1.0</td>\n",
       "      <td>0</td>\n",
       "      <td>0.0</td>\n",
       "      <td>0.0</td>\n",
       "      <td>0.0</td>\n",
       "      <td>1.0</td>\n",
       "      <td>0.0</td>\n",
       "    </tr>\n",
       "    <tr>\n",
       "      <th>3</th>\n",
       "      <td>3359</td>\n",
       "      <td>59</td>\n",
       "      <td>35.0</td>\n",
       "      <td>40</td>\n",
       "      <td>94536</td>\n",
       "      <td>4</td>\n",
       "      <td>0.4</td>\n",
       "      <td>1.0</td>\n",
       "      <td>0</td>\n",
       "      <td>0.0</td>\n",
       "      <td>0.0</td>\n",
       "      <td>0.0</td>\n",
       "      <td>0.0</td>\n",
       "      <td>0.0</td>\n",
       "    </tr>\n",
       "    <tr>\n",
       "      <th>4</th>\n",
       "      <td>2492</td>\n",
       "      <td>38</td>\n",
       "      <td>14.0</td>\n",
       "      <td>80</td>\n",
       "      <td>92868</td>\n",
       "      <td>2</td>\n",
       "      <td>2.7</td>\n",
       "      <td>1.0</td>\n",
       "      <td>0</td>\n",
       "      <td>0.0</td>\n",
       "      <td>0.0</td>\n",
       "      <td>0.0</td>\n",
       "      <td>1.0</td>\n",
       "      <td>0.0</td>\n",
       "    </tr>\n",
       "  </tbody>\n",
       "</table>\n",
       "</div>"
      ],
      "text/plain": [
       "     ID  age  no_of_year_of_exp  annual_income    zip  family_size  \\\n",
       "0     1   25                1.1             49  91107            4   \n",
       "1  2701   31                5.0             39  94590            4   \n",
       "2  2716   42               18.0             54  90089            1   \n",
       "3  3359   59               35.0             40  94536            4   \n",
       "4  2492   38               14.0             80  92868            2   \n",
       "\n",
       "   average_spending  education_level  mortgage_value  class  security_account  \\\n",
       "0               1.6              1.2               0    0.1               1.3   \n",
       "1               2.2              2.0               0    0.0               0.0   \n",
       "2               1.8              1.0               0    0.0               0.0   \n",
       "3               0.4              1.0               0    0.0               0.0   \n",
       "4               2.7              1.0               0    0.0               0.0   \n",
       "\n",
       "   certificate_of_deposit  internet_banking  credit_card  \n",
       "0                     0.2               0.3          0.4  \n",
       "1                     0.0               1.0          1.0  \n",
       "2                     0.0               1.0          0.0  \n",
       "3                     0.0               0.0          0.0  \n",
       "4                     0.0               1.0          0.0  "
      ]
     },
     "execution_count": 62,
     "metadata": {},
     "output_type": "execute_result"
    }
   ],
   "source": [
    "loan_df.head()"
   ]
  },
  {
   "cell_type": "markdown",
   "metadata": {},
   "source": [
    "## Data Exploration/Cleaning"
   ]
  },
  {
   "cell_type": "code",
   "execution_count": 63,
   "metadata": {
    "scrolled": true
   },
   "outputs": [
    {
     "data": {
      "text/html": [
       "<div>\n",
       "<style scoped>\n",
       "    .dataframe tbody tr th:only-of-type {\n",
       "        vertical-align: middle;\n",
       "    }\n",
       "\n",
       "    .dataframe tbody tr th {\n",
       "        vertical-align: top;\n",
       "    }\n",
       "\n",
       "    .dataframe thead th {\n",
       "        text-align: right;\n",
       "    }\n",
       "</style>\n",
       "<table border=\"1\" class=\"dataframe\">\n",
       "  <thead>\n",
       "    <tr style=\"text-align: right;\">\n",
       "      <th></th>\n",
       "      <th>ID</th>\n",
       "      <th>age</th>\n",
       "      <th>no_of_year_of_exp</th>\n",
       "      <th>annual_income</th>\n",
       "      <th>zip</th>\n",
       "      <th>family_size</th>\n",
       "      <th>average_spending</th>\n",
       "      <th>education_level</th>\n",
       "      <th>mortgage_value</th>\n",
       "      <th>class</th>\n",
       "      <th>security_account</th>\n",
       "      <th>certificate_of_deposit</th>\n",
       "      <th>internet_banking</th>\n",
       "      <th>credit_card</th>\n",
       "    </tr>\n",
       "  </thead>\n",
       "  <tbody>\n",
       "    <tr>\n",
       "      <th>count</th>\n",
       "      <td>4500.000000</td>\n",
       "      <td>4500.000000</td>\n",
       "      <td>4500.000000</td>\n",
       "      <td>4500.000000</td>\n",
       "      <td>4500.000000</td>\n",
       "      <td>4500.000000</td>\n",
       "      <td>4500.000000</td>\n",
       "      <td>4500.000000</td>\n",
       "      <td>4500.000000</td>\n",
       "      <td>4500.000000</td>\n",
       "      <td>4500.000000</td>\n",
       "      <td>4500.000000</td>\n",
       "      <td>4500.000000</td>\n",
       "      <td>4500.000000</td>\n",
       "    </tr>\n",
       "    <tr>\n",
       "      <th>mean</th>\n",
       "      <td>2495.644889</td>\n",
       "      <td>45.369333</td>\n",
       "      <td>20.134022</td>\n",
       "      <td>73.993111</td>\n",
       "      <td>93136.413778</td>\n",
       "      <td>2.397333</td>\n",
       "      <td>1.938638</td>\n",
       "      <td>1.882711</td>\n",
       "      <td>56.447556</td>\n",
       "      <td>0.096467</td>\n",
       "      <td>0.106511</td>\n",
       "      <td>0.060711</td>\n",
       "      <td>0.601844</td>\n",
       "      <td>0.292533</td>\n",
       "    </tr>\n",
       "    <tr>\n",
       "      <th>std</th>\n",
       "      <td>1442.159359</td>\n",
       "      <td>11.461700</td>\n",
       "      <td>11.462749</td>\n",
       "      <td>45.957649</td>\n",
       "      <td>2159.460855</td>\n",
       "      <td>1.145317</td>\n",
       "      <td>1.745781</td>\n",
       "      <td>0.840164</td>\n",
       "      <td>101.773302</td>\n",
       "      <td>0.295229</td>\n",
       "      <td>0.308665</td>\n",
       "      <td>0.238752</td>\n",
       "      <td>0.489525</td>\n",
       "      <td>0.454918</td>\n",
       "    </tr>\n",
       "    <tr>\n",
       "      <th>min</th>\n",
       "      <td>1.000000</td>\n",
       "      <td>23.000000</td>\n",
       "      <td>-3.000000</td>\n",
       "      <td>8.000000</td>\n",
       "      <td>9307.000000</td>\n",
       "      <td>1.000000</td>\n",
       "      <td>0.000000</td>\n",
       "      <td>1.000000</td>\n",
       "      <td>0.000000</td>\n",
       "      <td>0.000000</td>\n",
       "      <td>0.000000</td>\n",
       "      <td>0.000000</td>\n",
       "      <td>0.000000</td>\n",
       "      <td>0.000000</td>\n",
       "    </tr>\n",
       "    <tr>\n",
       "      <th>25%</th>\n",
       "      <td>1249.750000</td>\n",
       "      <td>35.000000</td>\n",
       "      <td>10.000000</td>\n",
       "      <td>39.000000</td>\n",
       "      <td>91902.000000</td>\n",
       "      <td>1.000000</td>\n",
       "      <td>0.700000</td>\n",
       "      <td>1.000000</td>\n",
       "      <td>0.000000</td>\n",
       "      <td>0.000000</td>\n",
       "      <td>0.000000</td>\n",
       "      <td>0.000000</td>\n",
       "      <td>0.000000</td>\n",
       "      <td>0.000000</td>\n",
       "    </tr>\n",
       "    <tr>\n",
       "      <th>50%</th>\n",
       "      <td>2494.500000</td>\n",
       "      <td>45.000000</td>\n",
       "      <td>20.000000</td>\n",
       "      <td>64.000000</td>\n",
       "      <td>93405.000000</td>\n",
       "      <td>2.000000</td>\n",
       "      <td>1.500000</td>\n",
       "      <td>2.000000</td>\n",
       "      <td>0.000000</td>\n",
       "      <td>0.000000</td>\n",
       "      <td>0.000000</td>\n",
       "      <td>0.000000</td>\n",
       "      <td>1.000000</td>\n",
       "      <td>0.000000</td>\n",
       "    </tr>\n",
       "    <tr>\n",
       "      <th>75%</th>\n",
       "      <td>3748.250000</td>\n",
       "      <td>55.000000</td>\n",
       "      <td>30.000000</td>\n",
       "      <td>98.000000</td>\n",
       "      <td>94608.000000</td>\n",
       "      <td>3.000000</td>\n",
       "      <td>2.600000</td>\n",
       "      <td>3.000000</td>\n",
       "      <td>101.000000</td>\n",
       "      <td>0.000000</td>\n",
       "      <td>0.000000</td>\n",
       "      <td>0.000000</td>\n",
       "      <td>1.000000</td>\n",
       "      <td>1.000000</td>\n",
       "    </tr>\n",
       "    <tr>\n",
       "      <th>max</th>\n",
       "      <td>5000.000000</td>\n",
       "      <td>67.000000</td>\n",
       "      <td>43.000000</td>\n",
       "      <td>224.000000</td>\n",
       "      <td>96651.000000</td>\n",
       "      <td>4.000000</td>\n",
       "      <td>10.000000</td>\n",
       "      <td>3.000000</td>\n",
       "      <td>635.000000</td>\n",
       "      <td>1.000000</td>\n",
       "      <td>1.300000</td>\n",
       "      <td>1.000000</td>\n",
       "      <td>1.000000</td>\n",
       "      <td>1.000000</td>\n",
       "    </tr>\n",
       "  </tbody>\n",
       "</table>\n",
       "</div>"
      ],
      "text/plain": [
       "                ID          age  no_of_year_of_exp  annual_income  \\\n",
       "count  4500.000000  4500.000000        4500.000000    4500.000000   \n",
       "mean   2495.644889    45.369333          20.134022      73.993111   \n",
       "std    1442.159359    11.461700          11.462749      45.957649   \n",
       "min       1.000000    23.000000          -3.000000       8.000000   \n",
       "25%    1249.750000    35.000000          10.000000      39.000000   \n",
       "50%    2494.500000    45.000000          20.000000      64.000000   \n",
       "75%    3748.250000    55.000000          30.000000      98.000000   \n",
       "max    5000.000000    67.000000          43.000000     224.000000   \n",
       "\n",
       "                zip  family_size  average_spending  education_level  \\\n",
       "count   4500.000000  4500.000000       4500.000000      4500.000000   \n",
       "mean   93136.413778     2.397333          1.938638         1.882711   \n",
       "std     2159.460855     1.145317          1.745781         0.840164   \n",
       "min     9307.000000     1.000000          0.000000         1.000000   \n",
       "25%    91902.000000     1.000000          0.700000         1.000000   \n",
       "50%    93405.000000     2.000000          1.500000         2.000000   \n",
       "75%    94608.000000     3.000000          2.600000         3.000000   \n",
       "max    96651.000000     4.000000         10.000000         3.000000   \n",
       "\n",
       "       mortgage_value        class  security_account  certificate_of_deposit  \\\n",
       "count     4500.000000  4500.000000       4500.000000             4500.000000   \n",
       "mean        56.447556     0.096467          0.106511                0.060711   \n",
       "std        101.773302     0.295229          0.308665                0.238752   \n",
       "min          0.000000     0.000000          0.000000                0.000000   \n",
       "25%          0.000000     0.000000          0.000000                0.000000   \n",
       "50%          0.000000     0.000000          0.000000                0.000000   \n",
       "75%        101.000000     0.000000          0.000000                0.000000   \n",
       "max        635.000000     1.000000          1.300000                1.000000   \n",
       "\n",
       "       internet_banking  credit_card  \n",
       "count       4500.000000  4500.000000  \n",
       "mean           0.601844     0.292533  \n",
       "std            0.489525     0.454918  \n",
       "min            0.000000     0.000000  \n",
       "25%            0.000000     0.000000  \n",
       "50%            1.000000     0.000000  \n",
       "75%            1.000000     1.000000  \n",
       "max            1.000000     1.000000  "
      ]
     },
     "execution_count": 63,
     "metadata": {},
     "output_type": "execute_result"
    }
   ],
   "source": [
    "loan_df.describe()"
   ]
  },
  {
   "cell_type": "markdown",
   "metadata": {},
   "source": [
    "### Checking if family size is float"
   ]
  },
  {
   "cell_type": "code",
   "execution_count": 64,
   "metadata": {},
   "outputs": [
    {
     "data": {
      "text/html": [
       "<div>\n",
       "<style scoped>\n",
       "    .dataframe tbody tr th:only-of-type {\n",
       "        vertical-align: middle;\n",
       "    }\n",
       "\n",
       "    .dataframe tbody tr th {\n",
       "        vertical-align: top;\n",
       "    }\n",
       "\n",
       "    .dataframe thead th {\n",
       "        text-align: right;\n",
       "    }\n",
       "</style>\n",
       "<table border=\"1\" class=\"dataframe\">\n",
       "  <thead>\n",
       "    <tr style=\"text-align: right;\">\n",
       "      <th></th>\n",
       "      <th>ID</th>\n",
       "      <th>age</th>\n",
       "      <th>no_of_year_of_exp</th>\n",
       "      <th>annual_income</th>\n",
       "      <th>zip</th>\n",
       "      <th>family_size</th>\n",
       "      <th>average_spending</th>\n",
       "      <th>education_level</th>\n",
       "      <th>mortgage_value</th>\n",
       "      <th>class</th>\n",
       "      <th>security_account</th>\n",
       "      <th>certificate_of_deposit</th>\n",
       "      <th>internet_banking</th>\n",
       "      <th>credit_card</th>\n",
       "    </tr>\n",
       "  </thead>\n",
       "  <tbody>\n",
       "  </tbody>\n",
       "</table>\n",
       "</div>"
      ],
      "text/plain": [
       "Empty DataFrame\n",
       "Columns: [ID, age, no_of_year_of_exp, annual_income, zip, family_size, average_spending, education_level, mortgage_value, class, security_account, certificate_of_deposit, internet_banking, credit_card]\n",
       "Index: []"
      ]
     },
     "execution_count": 64,
     "metadata": {},
     "output_type": "execute_result"
    }
   ],
   "source": [
    "loan_df.loc[loan_df['family_size'] != loan_df.family_size.astype(int)]"
   ]
  },
  {
   "cell_type": "markdown",
   "metadata": {},
   "source": [
    "### Checking if work exp < 0"
   ]
  },
  {
   "cell_type": "code",
   "execution_count": 65,
   "metadata": {},
   "outputs": [],
   "source": [
    "loan_df = loan_df.loc[loan_df['no_of_year_of_exp'] >= 0]"
   ]
  },
  {
   "cell_type": "markdown",
   "metadata": {},
   "source": [
    "### Checking if output label is other than 0 or 1"
   ]
  },
  {
   "cell_type": "code",
   "execution_count": 66,
   "metadata": {},
   "outputs": [],
   "source": [
    "loan_df = loan_df.loc[(loan_df['class'] == 0) | (loan_df['class'] == 1)]"
   ]
  },
  {
   "cell_type": "markdown",
   "metadata": {},
   "source": [
    "### Checking if education level is other than 1/2/3"
   ]
  },
  {
   "cell_type": "code",
   "execution_count": 67,
   "metadata": {},
   "outputs": [],
   "source": [
    "loan_df = loan_df.loc[(loan_df['education_level'] == 1) | (loan_df['education_level'] == 2) | (loan_df['education_level'] == 3)]"
   ]
  },
  {
   "cell_type": "markdown",
   "metadata": {},
   "source": [
    "### Checking if mortgage value is < 0"
   ]
  },
  {
   "cell_type": "code",
   "execution_count": 68,
   "metadata": {},
   "outputs": [],
   "source": [
    "loan_df = loan_df.loc[loan_df['mortgage_value'] >= 0]"
   ]
  },
  {
   "cell_type": "markdown",
   "metadata": {},
   "source": [
    "### Checking if categorical cols is other than 0 or 1"
   ]
  },
  {
   "cell_type": "code",
   "execution_count": 69,
   "metadata": {},
   "outputs": [],
   "source": [
    "loan_cat_cols = ['security_account', 'certificate_of_deposit', 'internet_banking', 'credit_card']\n",
    "for col in loan_cat_cols:\n",
    "    loan_df = loan_df.loc[(loan_df[col] == 0) | (loan_df[col] == 1)]"
   ]
  },
  {
   "cell_type": "code",
   "execution_count": 70,
   "metadata": {},
   "outputs": [
    {
     "data": {
      "text/html": [
       "<div>\n",
       "<style scoped>\n",
       "    .dataframe tbody tr th:only-of-type {\n",
       "        vertical-align: middle;\n",
       "    }\n",
       "\n",
       "    .dataframe tbody tr th {\n",
       "        vertical-align: top;\n",
       "    }\n",
       "\n",
       "    .dataframe thead th {\n",
       "        text-align: right;\n",
       "    }\n",
       "</style>\n",
       "<table border=\"1\" class=\"dataframe\">\n",
       "  <thead>\n",
       "    <tr style=\"text-align: right;\">\n",
       "      <th></th>\n",
       "      <th>ID</th>\n",
       "      <th>age</th>\n",
       "      <th>no_of_year_of_exp</th>\n",
       "      <th>annual_income</th>\n",
       "      <th>zip</th>\n",
       "      <th>family_size</th>\n",
       "      <th>average_spending</th>\n",
       "      <th>education_level</th>\n",
       "      <th>mortgage_value</th>\n",
       "      <th>class</th>\n",
       "      <th>security_account</th>\n",
       "      <th>certificate_of_deposit</th>\n",
       "      <th>internet_banking</th>\n",
       "      <th>credit_card</th>\n",
       "    </tr>\n",
       "  </thead>\n",
       "  <tbody>\n",
       "    <tr>\n",
       "      <th>count</th>\n",
       "      <td>4455.000000</td>\n",
       "      <td>4455.000000</td>\n",
       "      <td>4455.000000</td>\n",
       "      <td>4455.000000</td>\n",
       "      <td>4455.000000</td>\n",
       "      <td>4455.000000</td>\n",
       "      <td>4455.000000</td>\n",
       "      <td>4455.000000</td>\n",
       "      <td>4455.000000</td>\n",
       "      <td>4455.000000</td>\n",
       "      <td>4455.000000</td>\n",
       "      <td>4455.000000</td>\n",
       "      <td>4455.000000</td>\n",
       "      <td>4455.000000</td>\n",
       "    </tr>\n",
       "    <tr>\n",
       "      <th>mean</th>\n",
       "      <td>2494.431201</td>\n",
       "      <td>45.579349</td>\n",
       "      <td>20.351515</td>\n",
       "      <td>74.012570</td>\n",
       "      <td>93136.171717</td>\n",
       "      <td>2.392144</td>\n",
       "      <td>1.936575</td>\n",
       "      <td>1.880808</td>\n",
       "      <td>56.568575</td>\n",
       "      <td>0.097419</td>\n",
       "      <td>0.106173</td>\n",
       "      <td>0.061279</td>\n",
       "      <td>0.602469</td>\n",
       "      <td>0.292705</td>\n",
       "    </tr>\n",
       "    <tr>\n",
       "      <th>std</th>\n",
       "      <td>1441.997121</td>\n",
       "      <td>11.325289</td>\n",
       "      <td>11.313049</td>\n",
       "      <td>46.031854</td>\n",
       "      <td>2164.242858</td>\n",
       "      <td>1.145649</td>\n",
       "      <td>1.746668</td>\n",
       "      <td>0.839862</td>\n",
       "      <td>101.856491</td>\n",
       "      <td>0.296560</td>\n",
       "      <td>0.308093</td>\n",
       "      <td>0.239869</td>\n",
       "      <td>0.489442</td>\n",
       "      <td>0.455055</td>\n",
       "    </tr>\n",
       "    <tr>\n",
       "      <th>min</th>\n",
       "      <td>2.000000</td>\n",
       "      <td>24.000000</td>\n",
       "      <td>0.000000</td>\n",
       "      <td>8.000000</td>\n",
       "      <td>9307.000000</td>\n",
       "      <td>1.000000</td>\n",
       "      <td>0.000000</td>\n",
       "      <td>1.000000</td>\n",
       "      <td>0.000000</td>\n",
       "      <td>0.000000</td>\n",
       "      <td>0.000000</td>\n",
       "      <td>0.000000</td>\n",
       "      <td>0.000000</td>\n",
       "      <td>0.000000</td>\n",
       "    </tr>\n",
       "    <tr>\n",
       "      <th>25%</th>\n",
       "      <td>1251.500000</td>\n",
       "      <td>36.000000</td>\n",
       "      <td>11.000000</td>\n",
       "      <td>39.000000</td>\n",
       "      <td>91902.000000</td>\n",
       "      <td>1.000000</td>\n",
       "      <td>0.700000</td>\n",
       "      <td>1.000000</td>\n",
       "      <td>0.000000</td>\n",
       "      <td>0.000000</td>\n",
       "      <td>0.000000</td>\n",
       "      <td>0.000000</td>\n",
       "      <td>0.000000</td>\n",
       "      <td>0.000000</td>\n",
       "    </tr>\n",
       "    <tr>\n",
       "      <th>50%</th>\n",
       "      <td>2489.000000</td>\n",
       "      <td>46.000000</td>\n",
       "      <td>20.000000</td>\n",
       "      <td>64.000000</td>\n",
       "      <td>93407.000000</td>\n",
       "      <td>2.000000</td>\n",
       "      <td>1.500000</td>\n",
       "      <td>2.000000</td>\n",
       "      <td>0.000000</td>\n",
       "      <td>0.000000</td>\n",
       "      <td>0.000000</td>\n",
       "      <td>0.000000</td>\n",
       "      <td>1.000000</td>\n",
       "      <td>0.000000</td>\n",
       "    </tr>\n",
       "    <tr>\n",
       "      <th>75%</th>\n",
       "      <td>3744.000000</td>\n",
       "      <td>55.000000</td>\n",
       "      <td>30.000000</td>\n",
       "      <td>98.000000</td>\n",
       "      <td>94608.000000</td>\n",
       "      <td>3.000000</td>\n",
       "      <td>2.600000</td>\n",
       "      <td>3.000000</td>\n",
       "      <td>101.000000</td>\n",
       "      <td>0.000000</td>\n",
       "      <td>0.000000</td>\n",
       "      <td>0.000000</td>\n",
       "      <td>1.000000</td>\n",
       "      <td>1.000000</td>\n",
       "    </tr>\n",
       "    <tr>\n",
       "      <th>max</th>\n",
       "      <td>5000.000000</td>\n",
       "      <td>67.000000</td>\n",
       "      <td>43.000000</td>\n",
       "      <td>224.000000</td>\n",
       "      <td>96651.000000</td>\n",
       "      <td>4.000000</td>\n",
       "      <td>10.000000</td>\n",
       "      <td>3.000000</td>\n",
       "      <td>635.000000</td>\n",
       "      <td>1.000000</td>\n",
       "      <td>1.000000</td>\n",
       "      <td>1.000000</td>\n",
       "      <td>1.000000</td>\n",
       "      <td>1.000000</td>\n",
       "    </tr>\n",
       "  </tbody>\n",
       "</table>\n",
       "</div>"
      ],
      "text/plain": [
       "                ID          age  no_of_year_of_exp  annual_income  \\\n",
       "count  4455.000000  4455.000000        4455.000000    4455.000000   \n",
       "mean   2494.431201    45.579349          20.351515      74.012570   \n",
       "std    1441.997121    11.325289          11.313049      46.031854   \n",
       "min       2.000000    24.000000           0.000000       8.000000   \n",
       "25%    1251.500000    36.000000          11.000000      39.000000   \n",
       "50%    2489.000000    46.000000          20.000000      64.000000   \n",
       "75%    3744.000000    55.000000          30.000000      98.000000   \n",
       "max    5000.000000    67.000000          43.000000     224.000000   \n",
       "\n",
       "                zip  family_size  average_spending  education_level  \\\n",
       "count   4455.000000  4455.000000       4455.000000      4455.000000   \n",
       "mean   93136.171717     2.392144          1.936575         1.880808   \n",
       "std     2164.242858     1.145649          1.746668         0.839862   \n",
       "min     9307.000000     1.000000          0.000000         1.000000   \n",
       "25%    91902.000000     1.000000          0.700000         1.000000   \n",
       "50%    93407.000000     2.000000          1.500000         2.000000   \n",
       "75%    94608.000000     3.000000          2.600000         3.000000   \n",
       "max    96651.000000     4.000000         10.000000         3.000000   \n",
       "\n",
       "       mortgage_value        class  security_account  certificate_of_deposit  \\\n",
       "count     4455.000000  4455.000000       4455.000000             4455.000000   \n",
       "mean        56.568575     0.097419          0.106173                0.061279   \n",
       "std        101.856491     0.296560          0.308093                0.239869   \n",
       "min          0.000000     0.000000          0.000000                0.000000   \n",
       "25%          0.000000     0.000000          0.000000                0.000000   \n",
       "50%          0.000000     0.000000          0.000000                0.000000   \n",
       "75%        101.000000     0.000000          0.000000                0.000000   \n",
       "max        635.000000     1.000000          1.000000                1.000000   \n",
       "\n",
       "       internet_banking  credit_card  \n",
       "count       4455.000000  4455.000000  \n",
       "mean           0.602469     0.292705  \n",
       "std            0.489442     0.455055  \n",
       "min            0.000000     0.000000  \n",
       "25%            0.000000     0.000000  \n",
       "50%            1.000000     0.000000  \n",
       "75%            1.000000     1.000000  \n",
       "max            1.000000     1.000000  "
      ]
     },
     "execution_count": 70,
     "metadata": {},
     "output_type": "execute_result"
    }
   ],
   "source": [
    "loan_df.describe()"
   ]
  },
  {
   "cell_type": "code",
   "execution_count": 71,
   "metadata": {
    "scrolled": false
   },
   "outputs": [
    {
     "data": {
      "text/html": [
       "<div>\n",
       "<style scoped>\n",
       "    .dataframe tbody tr th:only-of-type {\n",
       "        vertical-align: middle;\n",
       "    }\n",
       "\n",
       "    .dataframe tbody tr th {\n",
       "        vertical-align: top;\n",
       "    }\n",
       "\n",
       "    .dataframe thead th {\n",
       "        text-align: right;\n",
       "    }\n",
       "</style>\n",
       "<table border=\"1\" class=\"dataframe\">\n",
       "  <thead>\n",
       "    <tr style=\"text-align: right;\">\n",
       "      <th></th>\n",
       "      <th>ID</th>\n",
       "      <th>age</th>\n",
       "      <th>no_of_year_of_exp</th>\n",
       "      <th>annual_income</th>\n",
       "      <th>zip</th>\n",
       "      <th>family_size</th>\n",
       "      <th>average_spending</th>\n",
       "      <th>education_level</th>\n",
       "      <th>mortgage_value</th>\n",
       "      <th>class</th>\n",
       "      <th>security_account</th>\n",
       "      <th>certificate_of_deposit</th>\n",
       "      <th>internet_banking</th>\n",
       "      <th>credit_card</th>\n",
       "    </tr>\n",
       "  </thead>\n",
       "  <tbody>\n",
       "    <tr>\n",
       "      <th>1</th>\n",
       "      <td>2701</td>\n",
       "      <td>31</td>\n",
       "      <td>5.0</td>\n",
       "      <td>39</td>\n",
       "      <td>94590</td>\n",
       "      <td>4</td>\n",
       "      <td>2.2</td>\n",
       "      <td>2.0</td>\n",
       "      <td>0</td>\n",
       "      <td>0.0</td>\n",
       "      <td>0.0</td>\n",
       "      <td>0.0</td>\n",
       "      <td>1.0</td>\n",
       "      <td>1.0</td>\n",
       "    </tr>\n",
       "    <tr>\n",
       "      <th>2</th>\n",
       "      <td>2716</td>\n",
       "      <td>42</td>\n",
       "      <td>18.0</td>\n",
       "      <td>54</td>\n",
       "      <td>90089</td>\n",
       "      <td>1</td>\n",
       "      <td>1.8</td>\n",
       "      <td>1.0</td>\n",
       "      <td>0</td>\n",
       "      <td>0.0</td>\n",
       "      <td>0.0</td>\n",
       "      <td>0.0</td>\n",
       "      <td>1.0</td>\n",
       "      <td>0.0</td>\n",
       "    </tr>\n",
       "    <tr>\n",
       "      <th>3</th>\n",
       "      <td>3359</td>\n",
       "      <td>59</td>\n",
       "      <td>35.0</td>\n",
       "      <td>40</td>\n",
       "      <td>94536</td>\n",
       "      <td>4</td>\n",
       "      <td>0.4</td>\n",
       "      <td>1.0</td>\n",
       "      <td>0</td>\n",
       "      <td>0.0</td>\n",
       "      <td>0.0</td>\n",
       "      <td>0.0</td>\n",
       "      <td>0.0</td>\n",
       "      <td>0.0</td>\n",
       "    </tr>\n",
       "    <tr>\n",
       "      <th>4</th>\n",
       "      <td>2492</td>\n",
       "      <td>38</td>\n",
       "      <td>14.0</td>\n",
       "      <td>80</td>\n",
       "      <td>92868</td>\n",
       "      <td>2</td>\n",
       "      <td>2.7</td>\n",
       "      <td>1.0</td>\n",
       "      <td>0</td>\n",
       "      <td>0.0</td>\n",
       "      <td>0.0</td>\n",
       "      <td>0.0</td>\n",
       "      <td>1.0</td>\n",
       "      <td>0.0</td>\n",
       "    </tr>\n",
       "    <tr>\n",
       "      <th>5</th>\n",
       "      <td>937</td>\n",
       "      <td>62</td>\n",
       "      <td>32.0</td>\n",
       "      <td>19</td>\n",
       "      <td>92109</td>\n",
       "      <td>1</td>\n",
       "      <td>1.5</td>\n",
       "      <td>3.0</td>\n",
       "      <td>0</td>\n",
       "      <td>0.0</td>\n",
       "      <td>1.0</td>\n",
       "      <td>0.0</td>\n",
       "      <td>0.0</td>\n",
       "      <td>0.0</td>\n",
       "    </tr>\n",
       "  </tbody>\n",
       "</table>\n",
       "</div>"
      ],
      "text/plain": [
       "     ID  age  no_of_year_of_exp  annual_income    zip  family_size  \\\n",
       "1  2701   31                5.0             39  94590            4   \n",
       "2  2716   42               18.0             54  90089            1   \n",
       "3  3359   59               35.0             40  94536            4   \n",
       "4  2492   38               14.0             80  92868            2   \n",
       "5   937   62               32.0             19  92109            1   \n",
       "\n",
       "   average_spending  education_level  mortgage_value  class  security_account  \\\n",
       "1               2.2              2.0               0    0.0               0.0   \n",
       "2               1.8              1.0               0    0.0               0.0   \n",
       "3               0.4              1.0               0    0.0               0.0   \n",
       "4               2.7              1.0               0    0.0               0.0   \n",
       "5               1.5              3.0               0    0.0               1.0   \n",
       "\n",
       "   certificate_of_deposit  internet_banking  credit_card  \n",
       "1                     0.0               1.0          1.0  \n",
       "2                     0.0               1.0          0.0  \n",
       "3                     0.0               0.0          0.0  \n",
       "4                     0.0               1.0          0.0  \n",
       "5                     0.0               0.0          0.0  "
      ]
     },
     "execution_count": 71,
     "metadata": {},
     "output_type": "execute_result"
    }
   ],
   "source": [
    "loan_df.head()"
   ]
  },
  {
   "cell_type": "code",
   "execution_count": 72,
   "metadata": {},
   "outputs": [
    {
     "data": {
      "text/plain": [
       "0.0    4021\n",
       "1.0     434\n",
       "Name: class, dtype: int64"
      ]
     },
     "execution_count": 72,
     "metadata": {},
     "output_type": "execute_result"
    }
   ],
   "source": [
    "loan_df['class'].value_counts()"
   ]
  },
  {
   "cell_type": "markdown",
   "metadata": {},
   "source": [
    "### Dropping ID and ZIP columns"
   ]
  },
  {
   "cell_type": "code",
   "execution_count": 73,
   "metadata": {},
   "outputs": [],
   "source": [
    "loan_df.index = loan_df['ID']\n",
    "loan_df = loan_df.drop(columns=['ID', 'zip'])"
   ]
  },
  {
   "cell_type": "markdown",
   "metadata": {},
   "source": [
    "### Oversampling as the class counts are skewed up"
   ]
  },
  {
   "cell_type": "code",
   "execution_count": 74,
   "metadata": {},
   "outputs": [],
   "source": [
    "from imblearn.over_sampling import SMOTE, ADASYN\n",
    "loan_X_resampled, loan_y_resampled = SMOTE().fit_resample(loan_df.iloc[:,loan_df.columns != 'class'], loan_df['class'])"
   ]
  },
  {
   "cell_type": "code",
   "execution_count": 75,
   "metadata": {},
   "outputs": [
    {
     "data": {
      "text/html": [
       "<div>\n",
       "<style scoped>\n",
       "    .dataframe tbody tr th:only-of-type {\n",
       "        vertical-align: middle;\n",
       "    }\n",
       "\n",
       "    .dataframe tbody tr th {\n",
       "        vertical-align: top;\n",
       "    }\n",
       "\n",
       "    .dataframe thead th {\n",
       "        text-align: right;\n",
       "    }\n",
       "</style>\n",
       "<table border=\"1\" class=\"dataframe\">\n",
       "  <thead>\n",
       "    <tr style=\"text-align: right;\">\n",
       "      <th></th>\n",
       "      <th>age</th>\n",
       "      <th>no_of_year_of_exp</th>\n",
       "      <th>annual_income</th>\n",
       "      <th>family_size</th>\n",
       "      <th>average_spending</th>\n",
       "      <th>education_level</th>\n",
       "      <th>mortgage_value</th>\n",
       "      <th>security_account</th>\n",
       "      <th>certificate_of_deposit</th>\n",
       "      <th>internet_banking</th>\n",
       "      <th>credit_card</th>\n",
       "      <th>class</th>\n",
       "    </tr>\n",
       "  </thead>\n",
       "  <tbody>\n",
       "    <tr>\n",
       "      <th>0</th>\n",
       "      <td>31.0</td>\n",
       "      <td>5.0</td>\n",
       "      <td>39.0</td>\n",
       "      <td>4.0</td>\n",
       "      <td>2.2</td>\n",
       "      <td>2.0</td>\n",
       "      <td>0.0</td>\n",
       "      <td>0.0</td>\n",
       "      <td>0.0</td>\n",
       "      <td>1.0</td>\n",
       "      <td>1.0</td>\n",
       "      <td>0.0</td>\n",
       "    </tr>\n",
       "    <tr>\n",
       "      <th>1</th>\n",
       "      <td>42.0</td>\n",
       "      <td>18.0</td>\n",
       "      <td>54.0</td>\n",
       "      <td>1.0</td>\n",
       "      <td>1.8</td>\n",
       "      <td>1.0</td>\n",
       "      <td>0.0</td>\n",
       "      <td>0.0</td>\n",
       "      <td>0.0</td>\n",
       "      <td>1.0</td>\n",
       "      <td>0.0</td>\n",
       "      <td>0.0</td>\n",
       "    </tr>\n",
       "    <tr>\n",
       "      <th>2</th>\n",
       "      <td>59.0</td>\n",
       "      <td>35.0</td>\n",
       "      <td>40.0</td>\n",
       "      <td>4.0</td>\n",
       "      <td>0.4</td>\n",
       "      <td>1.0</td>\n",
       "      <td>0.0</td>\n",
       "      <td>0.0</td>\n",
       "      <td>0.0</td>\n",
       "      <td>0.0</td>\n",
       "      <td>0.0</td>\n",
       "      <td>0.0</td>\n",
       "    </tr>\n",
       "    <tr>\n",
       "      <th>3</th>\n",
       "      <td>38.0</td>\n",
       "      <td>14.0</td>\n",
       "      <td>80.0</td>\n",
       "      <td>2.0</td>\n",
       "      <td>2.7</td>\n",
       "      <td>1.0</td>\n",
       "      <td>0.0</td>\n",
       "      <td>0.0</td>\n",
       "      <td>0.0</td>\n",
       "      <td>1.0</td>\n",
       "      <td>0.0</td>\n",
       "      <td>0.0</td>\n",
       "    </tr>\n",
       "    <tr>\n",
       "      <th>4</th>\n",
       "      <td>62.0</td>\n",
       "      <td>32.0</td>\n",
       "      <td>19.0</td>\n",
       "      <td>1.0</td>\n",
       "      <td>1.5</td>\n",
       "      <td>3.0</td>\n",
       "      <td>0.0</td>\n",
       "      <td>1.0</td>\n",
       "      <td>0.0</td>\n",
       "      <td>0.0</td>\n",
       "      <td>0.0</td>\n",
       "      <td>0.0</td>\n",
       "    </tr>\n",
       "  </tbody>\n",
       "</table>\n",
       "</div>"
      ],
      "text/plain": [
       "    age  no_of_year_of_exp  annual_income  family_size  average_spending  \\\n",
       "0  31.0                5.0           39.0          4.0               2.2   \n",
       "1  42.0               18.0           54.0          1.0               1.8   \n",
       "2  59.0               35.0           40.0          4.0               0.4   \n",
       "3  38.0               14.0           80.0          2.0               2.7   \n",
       "4  62.0               32.0           19.0          1.0               1.5   \n",
       "\n",
       "   education_level  mortgage_value  security_account  certificate_of_deposit  \\\n",
       "0              2.0             0.0               0.0                     0.0   \n",
       "1              1.0             0.0               0.0                     0.0   \n",
       "2              1.0             0.0               0.0                     0.0   \n",
       "3              1.0             0.0               0.0                     0.0   \n",
       "4              3.0             0.0               1.0                     0.0   \n",
       "\n",
       "   internet_banking  credit_card  class  \n",
       "0               1.0          1.0    0.0  \n",
       "1               1.0          0.0    0.0  \n",
       "2               0.0          0.0    0.0  \n",
       "3               1.0          0.0    0.0  \n",
       "4               0.0          0.0    0.0  "
      ]
     },
     "execution_count": 75,
     "metadata": {},
     "output_type": "execute_result"
    }
   ],
   "source": [
    "temp_df_X = pd.DataFrame(data=loan_X_resampled, columns=['age', 'no_of_year_of_exp', 'annual_income', 'family_size','average_spending', 'education_level', 'mortgage_value', 'security_account', 'certificate_of_deposit', 'internet_banking','credit_card'])\n",
    "temp_df_Y = pd.Series(loan_y_resampled, name='class')\n",
    "temp_df_Y.index = temp_df_X.index\n",
    "temp_df_X['class'] = temp_df_Y.values\n",
    "temp_df_X.head()"
   ]
  },
  {
   "cell_type": "markdown",
   "metadata": {},
   "source": [
    "### Splitting data into train(80%) and validation(20%)"
   ]
  },
  {
   "cell_type": "code",
   "execution_count": 76,
   "metadata": {},
   "outputs": [],
   "source": [
    "X_columns=['age', 'no_of_year_of_exp', 'annual_income', 'family_size','average_spending', 'education_level', 'mortgage_value', 'security_account', 'certificate_of_deposit', 'internet_banking','credit_card']\n",
    "Y_columns=['class']\n",
    "loan_train_X, loan_val_X, loan_train_Y, loan_val_Y = splitData(temp_df_X.iloc[:,temp_df_X.columns != 'class'], temp_df_X['class'], test_size=0.2)\n",
    "# loan_train_X, loan_val_X, loan_train_Y, loan_val_Y = splitData(loan_df.iloc[:,loan_df.columns != 'class'], loan_df['class'], test_size=0.2)"
   ]
  },
  {
   "cell_type": "code",
   "execution_count": 77,
   "metadata": {},
   "outputs": [
    {
     "data": {
      "text/plain": [
       "3223    0.0\n",
       "4514    1.0\n",
       "6673    1.0\n",
       "5331    1.0\n",
       "6005    1.0\n",
       "Name: class, dtype: float64"
      ]
     },
     "execution_count": 77,
     "metadata": {},
     "output_type": "execute_result"
    }
   ],
   "source": [
    "loan_val_Y.head()"
   ]
  },
  {
   "cell_type": "markdown",
   "metadata": {},
   "source": [
    "## Helper Functions"
   ]
  },
  {
   "cell_type": "code",
   "execution_count": 78,
   "metadata": {},
   "outputs": [],
   "source": [
    "def evalColProbs(X):\n",
    "    out_probs = defaultdict(float)\n",
    "    for key in X:\n",
    "        out_probs[key] += 1\n",
    "    Y_probs_tot = sum(out_probs.values())\n",
    "    for k, v in out_probs.items():\n",
    "        out_probs[k] = v/Y_probs_tot\n",
    "    return out_probs\n",
    "\n",
    "def evalNumericXYProbs(x, mean_col, var_col):\n",
    "    x = pow(math.e,-((x-mean_col)**2)/(var_col**2))/np.sqrt(2*math.pi*var_col)\n",
    "    return x"
   ]
  },
  {
   "cell_type": "markdown",
   "metadata": {},
   "source": [
    "## My Naive Bayes Classifier"
   ]
  },
  {
   "cell_type": "code",
   "execution_count": 79,
   "metadata": {},
   "outputs": [],
   "source": [
    "class MyNaiveBayes:\n",
    "    def __init__(self):\n",
    "        pass\n",
    "    \n",
    "    def fit(self, X, Y, numerical_cols, categorical_cols):\n",
    "        self.numerical_cols = numerical_cols\n",
    "        self.categorical_cols = categorical_cols\n",
    "        data = X.join(Y)\n",
    "        self.mean_df = data.mean()\n",
    "        self.var_df = data.var()\n",
    "        self.Y_probs = defaultdict(float)\n",
    "        for key in Y:\n",
    "            self.Y_probs[key] += 1\n",
    "        Y_probs_tot = sum(self.Y_probs.values())\n",
    "        for k, v in self.Y_probs.items():\n",
    "            self.Y_probs[k] = v/Y_probs_tot\n",
    "        self.X_probs = {}\n",
    "        for col in categorical_cols:\n",
    "            self.X_probs[col] = evalColProbs(X[col])\n",
    "        self.X_Y_probs = {}\n",
    "        for val, temp_df in data.groupby(Y.name):\n",
    "            self.X_Y_probs[val] = {}\n",
    "            for col in categorical_cols:\n",
    "                self.X_Y_probs[val][col] = evalColProbs(temp_df[col])\n",
    "        \n",
    "    def predict(self, X):\n",
    "        pred = []\n",
    "        for index, row in X.iterrows():\n",
    "            res = {}\n",
    "            for Y_val in self.Y_probs:\n",
    "                prob = 1\n",
    "                for col in self.categorical_cols:\n",
    "                    prob *= self.X_Y_probs[Y_val][col][row[col]]\n",
    "                for col in self.numerical_cols:\n",
    "                    prob *= evalNumericXYProbs(row[col], self.mean_df[col], self.var_df[col])#/self.X_probs[col][row[col]]\n",
    "                prob *= self.Y_probs[Y_val]\n",
    "                res[Y_val] = prob\n",
    "            pred.append(max(res.keys(), key=(lambda k: res[k])))\n",
    "        return pred"
   ]
  },
  {
   "cell_type": "code",
   "execution_count": 80,
   "metadata": {},
   "outputs": [],
   "source": [
    "nb = MyNaiveBayes()"
   ]
  },
  {
   "cell_type": "code",
   "execution_count": 81,
   "metadata": {},
   "outputs": [],
   "source": [
    "loan_cat_cols =  ['education_level', 'security_account', 'certificate_of_deposit', 'internet_banking','credit_card']\n",
    "loan_numeric_cols = ['age', 'no_of_year_of_exp', 'annual_income', 'family_size', 'average_spending',  'mortgage_value']\n",
    "\n",
    "nb.fit(loan_train_X, loan_train_Y, loan_numeric_cols, loan_cat_cols)"
   ]
  },
  {
   "cell_type": "code",
   "execution_count": 82,
   "metadata": {},
   "outputs": [],
   "source": [
    "y_pred = nb.predict(loan_val_X)"
   ]
  },
  {
   "cell_type": "markdown",
   "metadata": {},
   "source": [
    "# Q2 Report your observations and accuracy of the Naive Bayes model"
   ]
  },
  {
   "cell_type": "code",
   "execution_count": 83,
   "metadata": {},
   "outputs": [
    {
     "name": "stdout",
     "output_type": "stream",
     "text": [
      "Accuracy : 0.9129894344313239\n",
      "Precision : 0.9276859504132231\n",
      "recall : 0.910371318822023\n",
      "f1 Score : 0.9117980572549094\n",
      "\n"
     ]
    }
   ],
   "source": [
    "print_metrics(y_pred, loan_val_Y)"
   ]
  },
  {
   "cell_type": "markdown",
   "metadata": {},
   "source": [
    "### Observations:\n",
    "1. Since the number of 1s are very less compared to the no. of 0s in the output label in the Bank Dataset, oversampling, using SMOTE method was done to create a balanced dataset\n",
    "2. After oversampling recall, precision, f1 improved significantly on the validation dataset (from ~60% to ~90%)\n",
    "3. Cleaning of data was done to remove illogical data. Ex: class not in (0,1), work exp < 0, mortgage val < 0, etc (comments added above wherever done)\n",
    "4. Columns ID and ZIP were dropped as they could not be used for prediction, although ZIP if converted to latitude and longitude can be used to get a valuable feature\n",
    "\n",
    "### Accuracy metrics on validation dataset:\n",
    "1. Accuracy : 0.9055313859540087\n",
    "2. Precision : 0.9194061505832449\n",
    "3. recall : 0.9070904645476773\n",
    "4. f1 Score : 0.9049577655701571"
   ]
  },
  {
   "cell_type": "markdown",
   "metadata": {},
   "source": [
    "# PART 3 - Linear Regression"
   ]
  },
  {
   "cell_type": "markdown",
   "metadata": {},
   "source": [
    "## Reading Input"
   ]
  },
  {
   "cell_type": "code",
   "execution_count": 84,
   "metadata": {},
   "outputs": [],
   "source": [
    "admission_orig_df = pd.read_csv(\"AdmissionDataset/data.csv\")"
   ]
  },
  {
   "cell_type": "code",
   "execution_count": 85,
   "metadata": {},
   "outputs": [
    {
     "data": {
      "text/html": [
       "<div>\n",
       "<style scoped>\n",
       "    .dataframe tbody tr th:only-of-type {\n",
       "        vertical-align: middle;\n",
       "    }\n",
       "\n",
       "    .dataframe tbody tr th {\n",
       "        vertical-align: top;\n",
       "    }\n",
       "\n",
       "    .dataframe thead th {\n",
       "        text-align: right;\n",
       "    }\n",
       "</style>\n",
       "<table border=\"1\" class=\"dataframe\">\n",
       "  <thead>\n",
       "    <tr style=\"text-align: right;\">\n",
       "      <th></th>\n",
       "      <th>Serial No.</th>\n",
       "      <th>GRE Score</th>\n",
       "      <th>TOEFL Score</th>\n",
       "      <th>University Rating</th>\n",
       "      <th>SOP</th>\n",
       "      <th>LOR</th>\n",
       "      <th>CGPA</th>\n",
       "      <th>Research</th>\n",
       "      <th>Chance of Admit</th>\n",
       "    </tr>\n",
       "  </thead>\n",
       "  <tbody>\n",
       "    <tr>\n",
       "      <th>0</th>\n",
       "      <td>242</td>\n",
       "      <td>317</td>\n",
       "      <td>103</td>\n",
       "      <td>2</td>\n",
       "      <td>2.5</td>\n",
       "      <td>2.0</td>\n",
       "      <td>8.15</td>\n",
       "      <td>0</td>\n",
       "      <td>0.65</td>\n",
       "    </tr>\n",
       "    <tr>\n",
       "      <th>1</th>\n",
       "      <td>334</td>\n",
       "      <td>319</td>\n",
       "      <td>108</td>\n",
       "      <td>3</td>\n",
       "      <td>3.0</td>\n",
       "      <td>3.5</td>\n",
       "      <td>8.54</td>\n",
       "      <td>1</td>\n",
       "      <td>0.71</td>\n",
       "    </tr>\n",
       "    <tr>\n",
       "      <th>2</th>\n",
       "      <td>4</td>\n",
       "      <td>322</td>\n",
       "      <td>110</td>\n",
       "      <td>3</td>\n",
       "      <td>3.5</td>\n",
       "      <td>2.5</td>\n",
       "      <td>8.67</td>\n",
       "      <td>1</td>\n",
       "      <td>0.80</td>\n",
       "    </tr>\n",
       "    <tr>\n",
       "      <th>3</th>\n",
       "      <td>45</td>\n",
       "      <td>326</td>\n",
       "      <td>113</td>\n",
       "      <td>5</td>\n",
       "      <td>4.5</td>\n",
       "      <td>4.0</td>\n",
       "      <td>9.40</td>\n",
       "      <td>1</td>\n",
       "      <td>0.91</td>\n",
       "    </tr>\n",
       "    <tr>\n",
       "      <th>4</th>\n",
       "      <td>232</td>\n",
       "      <td>319</td>\n",
       "      <td>106</td>\n",
       "      <td>3</td>\n",
       "      <td>3.5</td>\n",
       "      <td>2.5</td>\n",
       "      <td>8.33</td>\n",
       "      <td>1</td>\n",
       "      <td>0.74</td>\n",
       "    </tr>\n",
       "  </tbody>\n",
       "</table>\n",
       "</div>"
      ],
      "text/plain": [
       "   Serial No.  GRE Score  TOEFL Score  University Rating  SOP  LOR   CGPA  \\\n",
       "0         242        317          103                  2  2.5   2.0  8.15   \n",
       "1         334        319          108                  3  3.0   3.5  8.54   \n",
       "2           4        322          110                  3  3.5   2.5  8.67   \n",
       "3          45        326          113                  5  4.5   4.0  9.40   \n",
       "4         232        319          106                  3  3.5   2.5  8.33   \n",
       "\n",
       "   Research  Chance of Admit   \n",
       "0         0              0.65  \n",
       "1         1              0.71  \n",
       "2         1              0.80  \n",
       "3         1              0.91  \n",
       "4         1              0.74  "
      ]
     },
     "execution_count": 85,
     "metadata": {},
     "output_type": "execute_result"
    }
   ],
   "source": [
    "admission_orig_df.head()"
   ]
  },
  {
   "cell_type": "code",
   "execution_count": 86,
   "metadata": {},
   "outputs": [
    {
     "data": {
      "text/html": [
       "<div>\n",
       "<style scoped>\n",
       "    .dataframe tbody tr th:only-of-type {\n",
       "        vertical-align: middle;\n",
       "    }\n",
       "\n",
       "    .dataframe tbody tr th {\n",
       "        vertical-align: top;\n",
       "    }\n",
       "\n",
       "    .dataframe thead th {\n",
       "        text-align: right;\n",
       "    }\n",
       "</style>\n",
       "<table border=\"1\" class=\"dataframe\">\n",
       "  <thead>\n",
       "    <tr style=\"text-align: right;\">\n",
       "      <th></th>\n",
       "      <th>Serial No.</th>\n",
       "      <th>GRE Score</th>\n",
       "      <th>TOEFL Score</th>\n",
       "      <th>University Rating</th>\n",
       "      <th>SOP</th>\n",
       "      <th>LOR</th>\n",
       "      <th>CGPA</th>\n",
       "      <th>Research</th>\n",
       "      <th>Chance of Admit</th>\n",
       "    </tr>\n",
       "  </thead>\n",
       "  <tbody>\n",
       "    <tr>\n",
       "      <th>count</th>\n",
       "      <td>450.000000</td>\n",
       "      <td>450.000000</td>\n",
       "      <td>450.000000</td>\n",
       "      <td>450.000000</td>\n",
       "      <td>450.000000</td>\n",
       "      <td>450.000000</td>\n",
       "      <td>450.000000</td>\n",
       "      <td>450.000000</td>\n",
       "      <td>450.000000</td>\n",
       "    </tr>\n",
       "    <tr>\n",
       "      <th>mean</th>\n",
       "      <td>247.726667</td>\n",
       "      <td>316.542222</td>\n",
       "      <td>107.162222</td>\n",
       "      <td>3.126667</td>\n",
       "      <td>3.361111</td>\n",
       "      <td>3.468889</td>\n",
       "      <td>8.577600</td>\n",
       "      <td>0.553333</td>\n",
       "      <td>0.720889</td>\n",
       "    </tr>\n",
       "    <tr>\n",
       "      <th>std</th>\n",
       "      <td>144.927656</td>\n",
       "      <td>11.335705</td>\n",
       "      <td>6.023554</td>\n",
       "      <td>1.140254</td>\n",
       "      <td>0.993374</td>\n",
       "      <td>0.919432</td>\n",
       "      <td>0.599454</td>\n",
       "      <td>0.497701</td>\n",
       "      <td>0.141398</td>\n",
       "    </tr>\n",
       "    <tr>\n",
       "      <th>min</th>\n",
       "      <td>1.000000</td>\n",
       "      <td>290.000000</td>\n",
       "      <td>92.000000</td>\n",
       "      <td>1.000000</td>\n",
       "      <td>1.000000</td>\n",
       "      <td>1.000000</td>\n",
       "      <td>7.200000</td>\n",
       "      <td>0.000000</td>\n",
       "      <td>0.340000</td>\n",
       "    </tr>\n",
       "    <tr>\n",
       "      <th>25%</th>\n",
       "      <td>124.250000</td>\n",
       "      <td>308.250000</td>\n",
       "      <td>103.000000</td>\n",
       "      <td>2.000000</td>\n",
       "      <td>2.500000</td>\n",
       "      <td>3.000000</td>\n",
       "      <td>8.122500</td>\n",
       "      <td>0.000000</td>\n",
       "      <td>0.630000</td>\n",
       "    </tr>\n",
       "    <tr>\n",
       "      <th>50%</th>\n",
       "      <td>246.500000</td>\n",
       "      <td>317.000000</td>\n",
       "      <td>107.000000</td>\n",
       "      <td>3.000000</td>\n",
       "      <td>3.500000</td>\n",
       "      <td>3.500000</td>\n",
       "      <td>8.560000</td>\n",
       "      <td>1.000000</td>\n",
       "      <td>0.720000</td>\n",
       "    </tr>\n",
       "    <tr>\n",
       "      <th>75%</th>\n",
       "      <td>373.750000</td>\n",
       "      <td>325.000000</td>\n",
       "      <td>112.000000</td>\n",
       "      <td>4.000000</td>\n",
       "      <td>4.000000</td>\n",
       "      <td>4.000000</td>\n",
       "      <td>9.040000</td>\n",
       "      <td>1.000000</td>\n",
       "      <td>0.820000</td>\n",
       "    </tr>\n",
       "    <tr>\n",
       "      <th>max</th>\n",
       "      <td>500.000000</td>\n",
       "      <td>340.000000</td>\n",
       "      <td>120.000000</td>\n",
       "      <td>5.000000</td>\n",
       "      <td>5.000000</td>\n",
       "      <td>5.000000</td>\n",
       "      <td>9.920000</td>\n",
       "      <td>1.000000</td>\n",
       "      <td>0.970000</td>\n",
       "    </tr>\n",
       "  </tbody>\n",
       "</table>\n",
       "</div>"
      ],
      "text/plain": [
       "       Serial No.   GRE Score  TOEFL Score  University Rating         SOP  \\\n",
       "count  450.000000  450.000000   450.000000         450.000000  450.000000   \n",
       "mean   247.726667  316.542222   107.162222           3.126667    3.361111   \n",
       "std    144.927656   11.335705     6.023554           1.140254    0.993374   \n",
       "min      1.000000  290.000000    92.000000           1.000000    1.000000   \n",
       "25%    124.250000  308.250000   103.000000           2.000000    2.500000   \n",
       "50%    246.500000  317.000000   107.000000           3.000000    3.500000   \n",
       "75%    373.750000  325.000000   112.000000           4.000000    4.000000   \n",
       "max    500.000000  340.000000   120.000000           5.000000    5.000000   \n",
       "\n",
       "             LOR         CGPA    Research  Chance of Admit   \n",
       "count  450.000000  450.000000  450.000000        450.000000  \n",
       "mean     3.468889    8.577600    0.553333          0.720889  \n",
       "std      0.919432    0.599454    0.497701          0.141398  \n",
       "min      1.000000    7.200000    0.000000          0.340000  \n",
       "25%      3.000000    8.122500    0.000000          0.630000  \n",
       "50%      3.500000    8.560000    1.000000          0.720000  \n",
       "75%      4.000000    9.040000    1.000000          0.820000  \n",
       "max      5.000000    9.920000    1.000000          0.970000  "
      ]
     },
     "execution_count": 86,
     "metadata": {},
     "output_type": "execute_result"
    }
   ],
   "source": [
    "admission_orig_df.describe()"
   ]
  },
  {
   "cell_type": "code",
   "execution_count": 87,
   "metadata": {},
   "outputs": [],
   "source": [
    "admission_orig_cols = ['Serial_No', 'GRE_Score', 'TOEFL_Score', 'University_Rating', 'SOP', 'LOR', 'CGPA', 'Research', 'Chance_of_Admit']\n",
    "admission_orig_df.columns = admission_orig_cols"
   ]
  },
  {
   "cell_type": "markdown",
   "metadata": {},
   "source": [
    "## Data Exploration"
   ]
  },
  {
   "cell_type": "code",
   "execution_count": 88,
   "metadata": {},
   "outputs": [
    {
     "data": {
      "text/html": [
       "<div>\n",
       "<style scoped>\n",
       "    .dataframe tbody tr th:only-of-type {\n",
       "        vertical-align: middle;\n",
       "    }\n",
       "\n",
       "    .dataframe tbody tr th {\n",
       "        vertical-align: top;\n",
       "    }\n",
       "\n",
       "    .dataframe thead th {\n",
       "        text-align: right;\n",
       "    }\n",
       "</style>\n",
       "<table border=\"1\" class=\"dataframe\">\n",
       "  <thead>\n",
       "    <tr style=\"text-align: right;\">\n",
       "      <th></th>\n",
       "      <th>Serial_No</th>\n",
       "      <th>GRE_Score</th>\n",
       "      <th>TOEFL_Score</th>\n",
       "      <th>University_Rating</th>\n",
       "      <th>SOP</th>\n",
       "      <th>LOR</th>\n",
       "      <th>CGPA</th>\n",
       "      <th>Research</th>\n",
       "      <th>Chance_of_Admit</th>\n",
       "    </tr>\n",
       "  </thead>\n",
       "  <tbody>\n",
       "    <tr>\n",
       "      <th>0</th>\n",
       "      <td>242</td>\n",
       "      <td>317</td>\n",
       "      <td>103</td>\n",
       "      <td>2</td>\n",
       "      <td>2.5</td>\n",
       "      <td>2.0</td>\n",
       "      <td>8.15</td>\n",
       "      <td>0</td>\n",
       "      <td>0.65</td>\n",
       "    </tr>\n",
       "    <tr>\n",
       "      <th>1</th>\n",
       "      <td>334</td>\n",
       "      <td>319</td>\n",
       "      <td>108</td>\n",
       "      <td>3</td>\n",
       "      <td>3.0</td>\n",
       "      <td>3.5</td>\n",
       "      <td>8.54</td>\n",
       "      <td>1</td>\n",
       "      <td>0.71</td>\n",
       "    </tr>\n",
       "    <tr>\n",
       "      <th>2</th>\n",
       "      <td>4</td>\n",
       "      <td>322</td>\n",
       "      <td>110</td>\n",
       "      <td>3</td>\n",
       "      <td>3.5</td>\n",
       "      <td>2.5</td>\n",
       "      <td>8.67</td>\n",
       "      <td>1</td>\n",
       "      <td>0.80</td>\n",
       "    </tr>\n",
       "    <tr>\n",
       "      <th>3</th>\n",
       "      <td>45</td>\n",
       "      <td>326</td>\n",
       "      <td>113</td>\n",
       "      <td>5</td>\n",
       "      <td>4.5</td>\n",
       "      <td>4.0</td>\n",
       "      <td>9.40</td>\n",
       "      <td>1</td>\n",
       "      <td>0.91</td>\n",
       "    </tr>\n",
       "    <tr>\n",
       "      <th>4</th>\n",
       "      <td>232</td>\n",
       "      <td>319</td>\n",
       "      <td>106</td>\n",
       "      <td>3</td>\n",
       "      <td>3.5</td>\n",
       "      <td>2.5</td>\n",
       "      <td>8.33</td>\n",
       "      <td>1</td>\n",
       "      <td>0.74</td>\n",
       "    </tr>\n",
       "  </tbody>\n",
       "</table>\n",
       "</div>"
      ],
      "text/plain": [
       "   Serial_No  GRE_Score  TOEFL_Score  University_Rating  SOP  LOR  CGPA  \\\n",
       "0        242        317          103                  2  2.5  2.0  8.15   \n",
       "1        334        319          108                  3  3.0  3.5  8.54   \n",
       "2          4        322          110                  3  3.5  2.5  8.67   \n",
       "3         45        326          113                  5  4.5  4.0  9.40   \n",
       "4        232        319          106                  3  3.5  2.5  8.33   \n",
       "\n",
       "   Research  Chance_of_Admit  \n",
       "0         0             0.65  \n",
       "1         1             0.71  \n",
       "2         1             0.80  \n",
       "3         1             0.91  \n",
       "4         1             0.74  "
      ]
     },
     "execution_count": 88,
     "metadata": {},
     "output_type": "execute_result"
    }
   ],
   "source": [
    "admission_orig_df.head()"
   ]
  },
  {
   "cell_type": "code",
   "execution_count": 89,
   "metadata": {},
   "outputs": [
    {
     "data": {
      "text/html": [
       "<div>\n",
       "<style scoped>\n",
       "    .dataframe tbody tr th:only-of-type {\n",
       "        vertical-align: middle;\n",
       "    }\n",
       "\n",
       "    .dataframe tbody tr th {\n",
       "        vertical-align: top;\n",
       "    }\n",
       "\n",
       "    .dataframe thead th {\n",
       "        text-align: right;\n",
       "    }\n",
       "</style>\n",
       "<table border=\"1\" class=\"dataframe\">\n",
       "  <thead>\n",
       "    <tr style=\"text-align: right;\">\n",
       "      <th></th>\n",
       "      <th>Serial_No</th>\n",
       "      <th>GRE_Score</th>\n",
       "      <th>TOEFL_Score</th>\n",
       "      <th>University_Rating</th>\n",
       "      <th>SOP</th>\n",
       "      <th>LOR</th>\n",
       "      <th>CGPA</th>\n",
       "      <th>Research</th>\n",
       "      <th>Chance_of_Admit</th>\n",
       "    </tr>\n",
       "  </thead>\n",
       "  <tbody>\n",
       "  </tbody>\n",
       "</table>\n",
       "</div>"
      ],
      "text/plain": [
       "Empty DataFrame\n",
       "Columns: [Serial_No, GRE_Score, TOEFL_Score, University_Rating, SOP, LOR, CGPA, Research, Chance_of_Admit]\n",
       "Index: []"
      ]
     },
     "execution_count": 89,
     "metadata": {},
     "output_type": "execute_result"
    }
   ],
   "source": [
    "admission_orig_df[admission_orig_df['GRE_Score'] != admission_orig_df.GRE_Score.astype(int)]"
   ]
  },
  {
   "cell_type": "code",
   "execution_count": 90,
   "metadata": {},
   "outputs": [
    {
     "data": {
      "text/html": [
       "<div>\n",
       "<style scoped>\n",
       "    .dataframe tbody tr th:only-of-type {\n",
       "        vertical-align: middle;\n",
       "    }\n",
       "\n",
       "    .dataframe tbody tr th {\n",
       "        vertical-align: top;\n",
       "    }\n",
       "\n",
       "    .dataframe thead th {\n",
       "        text-align: right;\n",
       "    }\n",
       "</style>\n",
       "<table border=\"1\" class=\"dataframe\">\n",
       "  <thead>\n",
       "    <tr style=\"text-align: right;\">\n",
       "      <th></th>\n",
       "      <th>Serial_No</th>\n",
       "      <th>GRE_Score</th>\n",
       "      <th>TOEFL_Score</th>\n",
       "      <th>University_Rating</th>\n",
       "      <th>SOP</th>\n",
       "      <th>LOR</th>\n",
       "      <th>CGPA</th>\n",
       "      <th>Research</th>\n",
       "      <th>Chance_of_Admit</th>\n",
       "    </tr>\n",
       "  </thead>\n",
       "  <tbody>\n",
       "    <tr>\n",
       "      <th>Serial_No</th>\n",
       "      <td>1.000000</td>\n",
       "      <td>-0.080196</td>\n",
       "      <td>-0.115323</td>\n",
       "      <td>-0.027499</td>\n",
       "      <td>-0.108152</td>\n",
       "      <td>0.010717</td>\n",
       "      <td>-0.061309</td>\n",
       "      <td>0.010068</td>\n",
       "      <td>0.023551</td>\n",
       "    </tr>\n",
       "    <tr>\n",
       "      <th>GRE_Score</th>\n",
       "      <td>-0.080196</td>\n",
       "      <td>1.000000</td>\n",
       "      <td>0.821423</td>\n",
       "      <td>0.631178</td>\n",
       "      <td>0.616670</td>\n",
       "      <td>0.535315</td>\n",
       "      <td>0.826544</td>\n",
       "      <td>0.562533</td>\n",
       "      <td>0.810894</td>\n",
       "    </tr>\n",
       "    <tr>\n",
       "      <th>TOEFL_Score</th>\n",
       "      <td>-0.115323</td>\n",
       "      <td>0.821423</td>\n",
       "      <td>1.000000</td>\n",
       "      <td>0.642612</td>\n",
       "      <td>0.648256</td>\n",
       "      <td>0.544411</td>\n",
       "      <td>0.810381</td>\n",
       "      <td>0.471452</td>\n",
       "      <td>0.790005</td>\n",
       "    </tr>\n",
       "    <tr>\n",
       "      <th>University_Rating</th>\n",
       "      <td>-0.027499</td>\n",
       "      <td>0.631178</td>\n",
       "      <td>0.642612</td>\n",
       "      <td>1.000000</td>\n",
       "      <td>0.722434</td>\n",
       "      <td>0.614527</td>\n",
       "      <td>0.696721</td>\n",
       "      <td>0.437424</td>\n",
       "      <td>0.685563</td>\n",
       "    </tr>\n",
       "    <tr>\n",
       "      <th>SOP</th>\n",
       "      <td>-0.108152</td>\n",
       "      <td>0.616670</td>\n",
       "      <td>0.648256</td>\n",
       "      <td>0.722434</td>\n",
       "      <td>1.000000</td>\n",
       "      <td>0.664015</td>\n",
       "      <td>0.713633</td>\n",
       "      <td>0.403552</td>\n",
       "      <td>0.681585</td>\n",
       "    </tr>\n",
       "    <tr>\n",
       "      <th>LOR</th>\n",
       "      <td>0.010717</td>\n",
       "      <td>0.535315</td>\n",
       "      <td>0.544411</td>\n",
       "      <td>0.614527</td>\n",
       "      <td>0.664015</td>\n",
       "      <td>1.000000</td>\n",
       "      <td>0.640347</td>\n",
       "      <td>0.392998</td>\n",
       "      <td>0.644693</td>\n",
       "    </tr>\n",
       "    <tr>\n",
       "      <th>CGPA</th>\n",
       "      <td>-0.061309</td>\n",
       "      <td>0.826544</td>\n",
       "      <td>0.810381</td>\n",
       "      <td>0.696721</td>\n",
       "      <td>0.713633</td>\n",
       "      <td>0.640347</td>\n",
       "      <td>1.000000</td>\n",
       "      <td>0.507005</td>\n",
       "      <td>0.877802</td>\n",
       "    </tr>\n",
       "    <tr>\n",
       "      <th>Research</th>\n",
       "      <td>0.010068</td>\n",
       "      <td>0.562533</td>\n",
       "      <td>0.471452</td>\n",
       "      <td>0.437424</td>\n",
       "      <td>0.403552</td>\n",
       "      <td>0.392998</td>\n",
       "      <td>0.507005</td>\n",
       "      <td>1.000000</td>\n",
       "      <td>0.557906</td>\n",
       "    </tr>\n",
       "    <tr>\n",
       "      <th>Chance_of_Admit</th>\n",
       "      <td>0.023551</td>\n",
       "      <td>0.810894</td>\n",
       "      <td>0.790005</td>\n",
       "      <td>0.685563</td>\n",
       "      <td>0.681585</td>\n",
       "      <td>0.644693</td>\n",
       "      <td>0.877802</td>\n",
       "      <td>0.557906</td>\n",
       "      <td>1.000000</td>\n",
       "    </tr>\n",
       "  </tbody>\n",
       "</table>\n",
       "</div>"
      ],
      "text/plain": [
       "                   Serial_No  GRE_Score  TOEFL_Score  University_Rating  \\\n",
       "Serial_No           1.000000  -0.080196    -0.115323          -0.027499   \n",
       "GRE_Score          -0.080196   1.000000     0.821423           0.631178   \n",
       "TOEFL_Score        -0.115323   0.821423     1.000000           0.642612   \n",
       "University_Rating  -0.027499   0.631178     0.642612           1.000000   \n",
       "SOP                -0.108152   0.616670     0.648256           0.722434   \n",
       "LOR                 0.010717   0.535315     0.544411           0.614527   \n",
       "CGPA               -0.061309   0.826544     0.810381           0.696721   \n",
       "Research            0.010068   0.562533     0.471452           0.437424   \n",
       "Chance_of_Admit     0.023551   0.810894     0.790005           0.685563   \n",
       "\n",
       "                        SOP       LOR      CGPA  Research  Chance_of_Admit  \n",
       "Serial_No         -0.108152  0.010717 -0.061309  0.010068         0.023551  \n",
       "GRE_Score          0.616670  0.535315  0.826544  0.562533         0.810894  \n",
       "TOEFL_Score        0.648256  0.544411  0.810381  0.471452         0.790005  \n",
       "University_Rating  0.722434  0.614527  0.696721  0.437424         0.685563  \n",
       "SOP                1.000000  0.664015  0.713633  0.403552         0.681585  \n",
       "LOR                0.664015  1.000000  0.640347  0.392998         0.644693  \n",
       "CGPA               0.713633  0.640347  1.000000  0.507005         0.877802  \n",
       "Research           0.403552  0.392998  0.507005  1.000000         0.557906  \n",
       "Chance_of_Admit    0.681585  0.644693  0.877802  0.557906         1.000000  "
      ]
     },
     "execution_count": 90,
     "metadata": {},
     "output_type": "execute_result"
    }
   ],
   "source": [
    "corr = admission_orig_df.corr()\n",
    "corr"
   ]
  },
  {
   "cell_type": "code",
   "execution_count": 91,
   "metadata": {},
   "outputs": [],
   "source": [
    "# Dropping Serial Number\n",
    "admission_df = admission_orig_df.drop(columns=['Serial_No'])"
   ]
  },
  {
   "cell_type": "code",
   "execution_count": 92,
   "metadata": {},
   "outputs": [
    {
     "data": {
      "text/html": [
       "<div>\n",
       "<style scoped>\n",
       "    .dataframe tbody tr th:only-of-type {\n",
       "        vertical-align: middle;\n",
       "    }\n",
       "\n",
       "    .dataframe tbody tr th {\n",
       "        vertical-align: top;\n",
       "    }\n",
       "\n",
       "    .dataframe thead th {\n",
       "        text-align: right;\n",
       "    }\n",
       "</style>\n",
       "<table border=\"1\" class=\"dataframe\">\n",
       "  <thead>\n",
       "    <tr style=\"text-align: right;\">\n",
       "      <th></th>\n",
       "      <th>GRE_Score</th>\n",
       "      <th>TOEFL_Score</th>\n",
       "      <th>University_Rating</th>\n",
       "      <th>SOP</th>\n",
       "      <th>LOR</th>\n",
       "      <th>CGPA</th>\n",
       "      <th>Research</th>\n",
       "      <th>Chance_of_Admit</th>\n",
       "    </tr>\n",
       "  </thead>\n",
       "  <tbody>\n",
       "    <tr>\n",
       "      <th>GRE_Score</th>\n",
       "      <td>1.000000</td>\n",
       "      <td>0.821423</td>\n",
       "      <td>0.631178</td>\n",
       "      <td>0.616670</td>\n",
       "      <td>0.535315</td>\n",
       "      <td>0.826544</td>\n",
       "      <td>0.562533</td>\n",
       "      <td>0.810894</td>\n",
       "    </tr>\n",
       "    <tr>\n",
       "      <th>TOEFL_Score</th>\n",
       "      <td>0.821423</td>\n",
       "      <td>1.000000</td>\n",
       "      <td>0.642612</td>\n",
       "      <td>0.648256</td>\n",
       "      <td>0.544411</td>\n",
       "      <td>0.810381</td>\n",
       "      <td>0.471452</td>\n",
       "      <td>0.790005</td>\n",
       "    </tr>\n",
       "    <tr>\n",
       "      <th>University_Rating</th>\n",
       "      <td>0.631178</td>\n",
       "      <td>0.642612</td>\n",
       "      <td>1.000000</td>\n",
       "      <td>0.722434</td>\n",
       "      <td>0.614527</td>\n",
       "      <td>0.696721</td>\n",
       "      <td>0.437424</td>\n",
       "      <td>0.685563</td>\n",
       "    </tr>\n",
       "    <tr>\n",
       "      <th>SOP</th>\n",
       "      <td>0.616670</td>\n",
       "      <td>0.648256</td>\n",
       "      <td>0.722434</td>\n",
       "      <td>1.000000</td>\n",
       "      <td>0.664015</td>\n",
       "      <td>0.713633</td>\n",
       "      <td>0.403552</td>\n",
       "      <td>0.681585</td>\n",
       "    </tr>\n",
       "    <tr>\n",
       "      <th>LOR</th>\n",
       "      <td>0.535315</td>\n",
       "      <td>0.544411</td>\n",
       "      <td>0.614527</td>\n",
       "      <td>0.664015</td>\n",
       "      <td>1.000000</td>\n",
       "      <td>0.640347</td>\n",
       "      <td>0.392998</td>\n",
       "      <td>0.644693</td>\n",
       "    </tr>\n",
       "    <tr>\n",
       "      <th>CGPA</th>\n",
       "      <td>0.826544</td>\n",
       "      <td>0.810381</td>\n",
       "      <td>0.696721</td>\n",
       "      <td>0.713633</td>\n",
       "      <td>0.640347</td>\n",
       "      <td>1.000000</td>\n",
       "      <td>0.507005</td>\n",
       "      <td>0.877802</td>\n",
       "    </tr>\n",
       "    <tr>\n",
       "      <th>Research</th>\n",
       "      <td>0.562533</td>\n",
       "      <td>0.471452</td>\n",
       "      <td>0.437424</td>\n",
       "      <td>0.403552</td>\n",
       "      <td>0.392998</td>\n",
       "      <td>0.507005</td>\n",
       "      <td>1.000000</td>\n",
       "      <td>0.557906</td>\n",
       "    </tr>\n",
       "    <tr>\n",
       "      <th>Chance_of_Admit</th>\n",
       "      <td>0.810894</td>\n",
       "      <td>0.790005</td>\n",
       "      <td>0.685563</td>\n",
       "      <td>0.681585</td>\n",
       "      <td>0.644693</td>\n",
       "      <td>0.877802</td>\n",
       "      <td>0.557906</td>\n",
       "      <td>1.000000</td>\n",
       "    </tr>\n",
       "  </tbody>\n",
       "</table>\n",
       "</div>"
      ],
      "text/plain": [
       "                   GRE_Score  TOEFL_Score  University_Rating       SOP  \\\n",
       "GRE_Score           1.000000     0.821423           0.631178  0.616670   \n",
       "TOEFL_Score         0.821423     1.000000           0.642612  0.648256   \n",
       "University_Rating   0.631178     0.642612           1.000000  0.722434   \n",
       "SOP                 0.616670     0.648256           0.722434  1.000000   \n",
       "LOR                 0.535315     0.544411           0.614527  0.664015   \n",
       "CGPA                0.826544     0.810381           0.696721  0.713633   \n",
       "Research            0.562533     0.471452           0.437424  0.403552   \n",
       "Chance_of_Admit     0.810894     0.790005           0.685563  0.681585   \n",
       "\n",
       "                        LOR      CGPA  Research  Chance_of_Admit  \n",
       "GRE_Score          0.535315  0.826544  0.562533         0.810894  \n",
       "TOEFL_Score        0.544411  0.810381  0.471452         0.790005  \n",
       "University_Rating  0.614527  0.696721  0.437424         0.685563  \n",
       "SOP                0.664015  0.713633  0.403552         0.681585  \n",
       "LOR                1.000000  0.640347  0.392998         0.644693  \n",
       "CGPA               0.640347  1.000000  0.507005         0.877802  \n",
       "Research           0.392998  0.507005  1.000000         0.557906  \n",
       "Chance_of_Admit    0.644693  0.877802  0.557906         1.000000  "
      ]
     },
     "execution_count": 92,
     "metadata": {},
     "output_type": "execute_result"
    }
   ],
   "source": [
    "corr = admission_df.corr()\n",
    "corr"
   ]
  },
  {
   "cell_type": "code",
   "execution_count": 93,
   "metadata": {},
   "outputs": [
    {
     "data": {
      "text/plain": [
       "<matplotlib.axes._subplots.AxesSubplot at 0x7f35e75df710>"
      ]
     },
     "execution_count": 93,
     "metadata": {},
     "output_type": "execute_result"
    },
    {
     "data": {
      "image/png": "[encoded data removed]",
      "text/plain": [
       "<Figure size 432x288 with 2 Axes>"
      ]
     },
     "metadata": {},
     "output_type": "display_data"
    }
   ],
   "source": [
    "# plot the heatmap\n",
    "sns.heatmap(corr, \n",
    "        xticklabels=corr.columns,\n",
    "        yticklabels=corr.columns)"
   ]
  },
  {
   "cell_type": "code",
   "execution_count": 94,
   "metadata": {},
   "outputs": [],
   "source": [
    "#admission_df.iloc[:,admission_df.columns != 'Chance_of_Admit'] = (admission_df.iloc[:,admission_df.columns != 'Chance_of_Admit'] - admission_df.iloc[:,admission_df.columns != 'Chance_of_Admit'].mean())/admission_df.iloc[:,admission_df.columns != 'Chance_of_Admit'].std()\n",
    "# admission_df = (admission_df - admission_df.mean())/admission_df.std()"
   ]
  },
  {
   "cell_type": "code",
   "execution_count": 95,
   "metadata": {},
   "outputs": [
    {
     "data": {
      "text/html": [
       "<div>\n",
       "<style scoped>\n",
       "    .dataframe tbody tr th:only-of-type {\n",
       "        vertical-align: middle;\n",
       "    }\n",
       "\n",
       "    .dataframe tbody tr th {\n",
       "        vertical-align: top;\n",
       "    }\n",
       "\n",
       "    .dataframe thead th {\n",
       "        text-align: right;\n",
       "    }\n",
       "</style>\n",
       "<table border=\"1\" class=\"dataframe\">\n",
       "  <thead>\n",
       "    <tr style=\"text-align: right;\">\n",
       "      <th></th>\n",
       "      <th>GRE_Score</th>\n",
       "      <th>TOEFL_Score</th>\n",
       "      <th>University_Rating</th>\n",
       "      <th>SOP</th>\n",
       "      <th>LOR</th>\n",
       "      <th>CGPA</th>\n",
       "      <th>Research</th>\n",
       "      <th>Chance_of_Admit</th>\n",
       "    </tr>\n",
       "  </thead>\n",
       "  <tbody>\n",
       "    <tr>\n",
       "      <th>count</th>\n",
       "      <td>450.000000</td>\n",
       "      <td>450.000000</td>\n",
       "      <td>450.000000</td>\n",
       "      <td>450.000000</td>\n",
       "      <td>450.000000</td>\n",
       "      <td>450.000000</td>\n",
       "      <td>450.000000</td>\n",
       "      <td>450.000000</td>\n",
       "    </tr>\n",
       "    <tr>\n",
       "      <th>mean</th>\n",
       "      <td>316.542222</td>\n",
       "      <td>107.162222</td>\n",
       "      <td>3.126667</td>\n",
       "      <td>3.361111</td>\n",
       "      <td>3.468889</td>\n",
       "      <td>8.577600</td>\n",
       "      <td>0.553333</td>\n",
       "      <td>0.720889</td>\n",
       "    </tr>\n",
       "    <tr>\n",
       "      <th>std</th>\n",
       "      <td>11.335705</td>\n",
       "      <td>6.023554</td>\n",
       "      <td>1.140254</td>\n",
       "      <td>0.993374</td>\n",
       "      <td>0.919432</td>\n",
       "      <td>0.599454</td>\n",
       "      <td>0.497701</td>\n",
       "      <td>0.141398</td>\n",
       "    </tr>\n",
       "    <tr>\n",
       "      <th>min</th>\n",
       "      <td>290.000000</td>\n",
       "      <td>92.000000</td>\n",
       "      <td>1.000000</td>\n",
       "      <td>1.000000</td>\n",
       "      <td>1.000000</td>\n",
       "      <td>7.200000</td>\n",
       "      <td>0.000000</td>\n",
       "      <td>0.340000</td>\n",
       "    </tr>\n",
       "    <tr>\n",
       "      <th>25%</th>\n",
       "      <td>308.250000</td>\n",
       "      <td>103.000000</td>\n",
       "      <td>2.000000</td>\n",
       "      <td>2.500000</td>\n",
       "      <td>3.000000</td>\n",
       "      <td>8.122500</td>\n",
       "      <td>0.000000</td>\n",
       "      <td>0.630000</td>\n",
       "    </tr>\n",
       "    <tr>\n",
       "      <th>50%</th>\n",
       "      <td>317.000000</td>\n",
       "      <td>107.000000</td>\n",
       "      <td>3.000000</td>\n",
       "      <td>3.500000</td>\n",
       "      <td>3.500000</td>\n",
       "      <td>8.560000</td>\n",
       "      <td>1.000000</td>\n",
       "      <td>0.720000</td>\n",
       "    </tr>\n",
       "    <tr>\n",
       "      <th>75%</th>\n",
       "      <td>325.000000</td>\n",
       "      <td>112.000000</td>\n",
       "      <td>4.000000</td>\n",
       "      <td>4.000000</td>\n",
       "      <td>4.000000</td>\n",
       "      <td>9.040000</td>\n",
       "      <td>1.000000</td>\n",
       "      <td>0.820000</td>\n",
       "    </tr>\n",
       "    <tr>\n",
       "      <th>max</th>\n",
       "      <td>340.000000</td>\n",
       "      <td>120.000000</td>\n",
       "      <td>5.000000</td>\n",
       "      <td>5.000000</td>\n",
       "      <td>5.000000</td>\n",
       "      <td>9.920000</td>\n",
       "      <td>1.000000</td>\n",
       "      <td>0.970000</td>\n",
       "    </tr>\n",
       "  </tbody>\n",
       "</table>\n",
       "</div>"
      ],
      "text/plain": [
       "        GRE_Score  TOEFL_Score  University_Rating         SOP         LOR  \\\n",
       "count  450.000000   450.000000         450.000000  450.000000  450.000000   \n",
       "mean   316.542222   107.162222           3.126667    3.361111    3.468889   \n",
       "std     11.335705     6.023554           1.140254    0.993374    0.919432   \n",
       "min    290.000000    92.000000           1.000000    1.000000    1.000000   \n",
       "25%    308.250000   103.000000           2.000000    2.500000    3.000000   \n",
       "50%    317.000000   107.000000           3.000000    3.500000    3.500000   \n",
       "75%    325.000000   112.000000           4.000000    4.000000    4.000000   \n",
       "max    340.000000   120.000000           5.000000    5.000000    5.000000   \n",
       "\n",
       "             CGPA    Research  Chance_of_Admit  \n",
       "count  450.000000  450.000000       450.000000  \n",
       "mean     8.577600    0.553333         0.720889  \n",
       "std      0.599454    0.497701         0.141398  \n",
       "min      7.200000    0.000000         0.340000  \n",
       "25%      8.122500    0.000000         0.630000  \n",
       "50%      8.560000    1.000000         0.720000  \n",
       "75%      9.040000    1.000000         0.820000  \n",
       "max      9.920000    1.000000         0.970000  "
      ]
     },
     "execution_count": 95,
     "metadata": {},
     "output_type": "execute_result"
    }
   ],
   "source": [
    "admission_df.describe()"
   ]
  },
  {
   "cell_type": "markdown",
   "metadata": {},
   "source": [
    "## Splitting data into train(80%) and validation(20%)"
   ]
  },
  {
   "cell_type": "code",
   "execution_count": 96,
   "metadata": {},
   "outputs": [],
   "source": [
    "admission_train_X, admission_val_X, admission_train_Y, admission_val_Y = splitData(admission_df.iloc[:,admission_df.columns != 'Chance_of_Admit'], admission_df['Chance_of_Admit'], test_size=0.2)"
   ]
  },
  {
   "cell_type": "markdown",
   "metadata": {},
   "source": [
    "## Q3-1 Implement a model using linear regression to predict the probablity of getting the admit"
   ]
  },
  {
   "cell_type": "markdown",
   "metadata": {},
   "source": [
    "## helper Functions"
   ]
  },
  {
   "cell_type": "code",
   "execution_count": 100,
   "metadata": {},
   "outputs": [],
   "source": [
    "# from sklearn.utils import check_arrays\n",
    "def MSE(X, Y, theta):\n",
    "    m = len(Y)\n",
    "    return np.sum((np.dot(X, theta.T) - Y) ** 2)/(2 * m)\n",
    "\n",
    "def MAE(X, Y, theta):\n",
    "    m = len(Y)\n",
    "    return np.sum(abs(np.dot(X, theta.T) - Y))/(m)\n",
    "\n",
    "def MAPE(X, Y, theta):\n",
    "    m = len(Y)\n",
    "    return np.sum(np.abs((Y - np.dot(X, theta.T)) / Y)) * 1 /(m)\n",
    "\n",
    "def sigmoid(x):\n",
    "    return 1 / (1 + np.exp(-x))\n",
    "\n",
    "def mean_absolute_percentage_error(y_true, y_pred): \n",
    "    return np.mean(np.abs((y_true - y_pred) / y_true)) * 100\n",
    "\n",
    "def printRegressionErrors(y, y_pred):\n",
    "    mse = metrics.mean_squared_error(sigmoid(admission_val_Y), y_pred)  \n",
    "    mae = metrics.mean_absolute_error(sigmoid(admission_val_Y), y_pred)\n",
    "    mape = mean_absolute_percentage_error(sigmoid(admission_val_Y), y_pred)\n",
    "    print(\"MSE : {0}\".format(mse))\n",
    "    print(\"MAE : {0}\".format(mae))\n",
    "    print(\"MAPE : {0}\".format(mape))\n",
    "    \n",
    "def makeCoeffDF(coeffs):\n",
    "    coeff_cols = ['GRE_Score', 'TOEFL_Score', \n",
    "                  'University_Rating', 'SOP', 'LOR', 'CGPA', 'Research', 'Intercept']\n",
    "    coeff_df = pd.DataFrame(coeffs, columns=coeff_cols)\n",
    "    return coeff_df"
   ]
  },
  {
   "cell_type": "code",
   "execution_count": 124,
   "metadata": {},
   "outputs": [],
   "source": [
    "class MyLinearRegressor:\n",
    "    def __init__(self, cost_measure = MSE, learning_rate = 0.01, no_iterations = 1000):\n",
    "        self.cost_measure = cost_measure\n",
    "        self.cost_name = cost_measure.__name__\n",
    "        self.alpha = learning_rate\n",
    "        self.iterations = no_iterations\n",
    "    \n",
    "    def normalize_X(self, X):\n",
    "        X_normalized = (X - self.X_mean)/self.X_var\n",
    "        return X_normalized\n",
    "\n",
    "    def normalize_Y(self, Y):\n",
    "        return Y\n",
    "        Y_normalized = (Y - self.Y_mean)/self.Y_var\n",
    "        return Y_normalized\n",
    "    \n",
    "    def fit(self, X, Y):\n",
    "        #### m = no of examples, n = no of features\n",
    "        ### X : shape = mxn\n",
    "        ### Y : shape = 1xm\n",
    "        self.X_mean = X.mean()\n",
    "        self.X_var = X.std()\n",
    "        self.Y_mean = Y.mean()\n",
    "        self.Y_var = Y.std()\n",
    "        temp = list(X.columns.values)\n",
    "        temp.append('Intercept')\n",
    "        self.columns_X = temp\n",
    "        \n",
    "        X  = self.normalize_X(X)\n",
    "        Y  = self.normalize_Y(Y)\n",
    "        X_temp = X.values\n",
    "        c = np.ones((1, len(X)))  ### shape = 1xm\n",
    "        X_temp = np.concatenate((X, c.T), axis=1) ## Shape : mxn\n",
    "        theta = np.zeros((1, len(X_temp[0]))) ## shape: 1 X n \n",
    "        Y_temp = Y.values.reshape(len(X),1)  ## shape : (m,1)\n",
    "#         print(X_temp)\n",
    "        theta, cost_hist = self.gradient_descent(theta, X_temp, Y_temp, self.alpha, self.iterations)\n",
    "        print(\"final_cost {0}\".format(cost_hist[-1]))\n",
    "        self.theta = theta\n",
    "        self.coef_ = theta.flatten()[:-1]\n",
    "        self.cost_hist = cost_hist\n",
    "        self.intercept_ = theta.flatten()[-1:]\n",
    "#         print(theta)\n",
    "    \n",
    "    def predict(self, X):\n",
    "        X = self.normalize_X(X)\n",
    "        c = np.ones((1, len(X)))  ### shape = 1xm\n",
    "        X_temp = np.concatenate((X, c.T), axis=1) ## Shape : kxn\n",
    "        y_pred = np.dot(X_temp,self.theta.T)\n",
    "#         y_pred = y_pred*self.Y_var + self.Y_mean\n",
    "        return y_pred.flatten()\n",
    "    \n",
    "    def allCoeffs(self):\n",
    "        coeffs = list(self.coef_) + list(self.intercept_)\n",
    "        coeffs = np.array(coeffs).reshape(1, len(coeffs))\n",
    "        return coeffs\n",
    "    \n",
    "    def plotCoeffsAndCost(self, theta_history, cost_history, iterations):\n",
    "        x_values = range(iterations)\n",
    "        theta_df = pd.DataFrame(theta_history, columns=self.columns_X)\n",
    "        theta_df = theta_df.iloc[:,theta_df.columns != 'Intercept']\n",
    "        # style\n",
    "        ax = plt.subplot(2, 1, 1)\n",
    "#         ax.set_style.use('seaborn-darkgrid')\n",
    "        ax.figure.set_size_inches(10, 15)\n",
    "#         ax.rcParams[\"figure.figsize\"] = (10,15)\n",
    "\n",
    "        # create a color palette\n",
    "        palette = plt.get_cmap('Set1')\n",
    "\n",
    "        # multiple line plot\n",
    "        num=0\n",
    "        for column in theta_df:\n",
    "            num+=1\n",
    "            ax.plot(x_values, theta_df[column], marker='', color=palette(num), linewidth=1, alpha=0.9, label=column)\n",
    "\n",
    "        # Add legend\n",
    "        ax.legend(loc=2, ncol=2)\n",
    "\n",
    "        # Add titles\n",
    "        ax.set_title(\"Coefficient Variation\", loc='left', fontsize=12, fontweight=0, color='orange')\n",
    "        ax.set_xlabel('iteration')\n",
    "        ax.set_ylabel('Coefficients')\n",
    "        \n",
    "        ax1 = plt.subplot(2, 1, 2)\n",
    "        ax1.plot(range(iterations), cost_history)\n",
    "        ax1.set_xlabel('iteration')\n",
    "        ax1.set_ylabel('cost')\n",
    "        plt.show()\n",
    "        \n",
    "    def gradient_descent(self, theta, X, Y, alpha, iterations):\n",
    "        cost_history = [0] * iterations\n",
    "        theta_history = [0] * iterations\n",
    "        m = len(Y)\n",
    "\n",
    "        for iteration in range(iterations):\n",
    "            # Hypothesis Values\n",
    "            h = np.dot(X,theta.T) ## shape : (m,1)\n",
    "            # Difference b/w Hypothesis and Actual Y\n",
    "            if(self.cost_name == \"MSE\"):\n",
    "                loss = h - Y ## shape: (m,1)\n",
    "                # Gradient Calculation\n",
    "                gradient = np.dot(X.T,loss) / m   ##shape : (n,1)\n",
    "                # Changing Values of B using Gradient\n",
    "                theta = theta - alpha * (gradient.T)\n",
    "                \n",
    "            elif(self.cost_name == \"MAE\"):\n",
    "                loss = h - Y ## shape: (m,1)\n",
    "                loss[loss >= 0] = 1\n",
    "                loss[loss < 0] = -1\n",
    "                gradient = np.dot(X.T,loss) / m  ##shape : (n,1)\n",
    "                theta = theta - (alpha * (gradient.T))\n",
    "                \n",
    "            elif(self.cost_name == \"MAPE\"):\n",
    "                loss = (h - Y) ## shape: (m,1)\n",
    "                loss[loss >= 0] = 1\n",
    "                loss[loss < 0] = -1\n",
    "                gradient = np.dot((X/np.abs(Y)).T,loss) / m  ##shape : (n,1)\n",
    "                theta = theta - alpha * (gradient.T)\n",
    "            \n",
    "            theta_history[iteration] = theta.flatten()\n",
    "            cost = self.cost_measure(X, Y, theta)\n",
    "#             print(cost)\n",
    "            cost_history[iteration] = cost\n",
    "#             print(\"i: {0}\".format(iteration), sep=\" \")\n",
    "#             print(\"theta: {0}\".format(theta), sep= \" \")\n",
    "#             print(\"cost: {0}\".format(cost))\n",
    "#         print(theta_history)\n",
    "        self.plotCoeffsAndCost(theta_history, cost_history, iterations)\n",
    "        return theta, cost_history"
   ]
  },
  {
   "cell_type": "markdown",
   "metadata": {},
   "source": [
    "## Q3-1 Compare the performance of Mean square error loss function vs Mean Absolute error function vs Mean absolute percentage error function"
   ]
  },
  {
   "cell_type": "markdown",
   "metadata": {},
   "source": [
    "## MSE"
   ]
  },
  {
   "cell_type": "code",
   "execution_count": 125,
   "metadata": {},
   "outputs": [],
   "source": [
    "lr = MyLinearRegressor(MSE, 0.01, 1000)"
   ]
  },
  {
   "cell_type": "code",
   "execution_count": 126,
   "metadata": {
    "scrolled": true
   },
   "outputs": [
    {
     "data": {
      "image/png": "[encoded data removed]",
      "text/plain": [
       "<Figure size 720x1080 with 2 Axes>"
      ]
     },
     "metadata": {},
     "output_type": "display_data"
    },
    {
     "name": "stdout",
     "output_type": "stream",
     "text": [
      "final_cost 0.0015960895932451058\n"
     ]
    }
   ],
   "source": [
    "lr.fit(admission_train_X, admission_train_Y)"
   ]
  },
  {
   "cell_type": "markdown",
   "metadata": {},
   "source": [
    "### Coefficients"
   ]
  },
  {
   "cell_type": "code",
   "execution_count": 127,
   "metadata": {},
   "outputs": [
    {
     "data": {
      "text/html": [
       "<div>\n",
       "<style scoped>\n",
       "    .dataframe tbody tr th:only-of-type {\n",
       "        vertical-align: middle;\n",
       "    }\n",
       "\n",
       "    .dataframe tbody tr th {\n",
       "        vertical-align: top;\n",
       "    }\n",
       "\n",
       "    .dataframe thead th {\n",
       "        text-align: right;\n",
       "    }\n",
       "</style>\n",
       "<table border=\"1\" class=\"dataframe\">\n",
       "  <thead>\n",
       "    <tr style=\"text-align: right;\">\n",
       "      <th></th>\n",
       "      <th>GRE_Score</th>\n",
       "      <th>TOEFL_Score</th>\n",
       "      <th>University_Rating</th>\n",
       "      <th>SOP</th>\n",
       "      <th>LOR</th>\n",
       "      <th>CGPA</th>\n",
       "      <th>Research</th>\n",
       "      <th>Intercept</th>\n",
       "    </tr>\n",
       "  </thead>\n",
       "  <tbody>\n",
       "    <tr>\n",
       "      <th>0</th>\n",
       "      <td>0.031648</td>\n",
       "      <td>0.016654</td>\n",
       "      <td>0.007519</td>\n",
       "      <td>-0.002409</td>\n",
       "      <td>0.015492</td>\n",
       "      <td>0.064407</td>\n",
       "      <td>0.011997</td>\n",
       "      <td>0.720302</td>\n",
       "    </tr>\n",
       "  </tbody>\n",
       "</table>\n",
       "</div>"
      ],
      "text/plain": [
       "   GRE_Score  TOEFL_Score  University_Rating       SOP       LOR      CGPA  \\\n",
       "0   0.031648     0.016654           0.007519 -0.002409  0.015492  0.064407   \n",
       "\n",
       "   Research  Intercept  \n",
       "0  0.011997   0.720302  "
      ]
     },
     "execution_count": 127,
     "metadata": {},
     "output_type": "execute_result"
    }
   ],
   "source": [
    "makeCoeffDF(lr.allCoeffs())"
   ]
  },
  {
   "cell_type": "code",
   "execution_count": 128,
   "metadata": {},
   "outputs": [],
   "source": [
    "y_pred = lr.predict(admission_val_X)"
   ]
  },
  {
   "cell_type": "markdown",
   "metadata": {},
   "source": [
    "### R2Score"
   ]
  },
  {
   "cell_type": "code",
   "execution_count": 129,
   "metadata": {
    "scrolled": true
   },
   "outputs": [
    {
     "data": {
      "text/plain": [
       "0.7316390661254415"
      ]
     },
     "execution_count": 129,
     "metadata": {},
     "output_type": "execute_result"
    }
   ],
   "source": [
    "metrics.r2_score(admission_val_Y, y_pred)  "
   ]
  },
  {
   "cell_type": "markdown",
   "metadata": {},
   "source": [
    "## MAE"
   ]
  },
  {
   "cell_type": "code",
   "execution_count": 130,
   "metadata": {},
   "outputs": [],
   "source": [
    "lr = MyLinearRegressor(MAE, 0.01, 1000)"
   ]
  },
  {
   "cell_type": "code",
   "execution_count": 131,
   "metadata": {
    "scrolled": true
   },
   "outputs": [
    {
     "data": {
      "image/png": "[encoded data removed]",
      "text/plain": [
       "<Figure size 720x1080 with 2 Axes>"
      ]
     },
     "metadata": {},
     "output_type": "display_data"
    },
    {
     "name": "stdout",
     "output_type": "stream",
     "text": [
      "final_cost 0.03986341104960594\n"
     ]
    }
   ],
   "source": [
    "lr.fit(admission_train_X, admission_train_Y)"
   ]
  },
  {
   "cell_type": "code",
   "execution_count": 132,
   "metadata": {},
   "outputs": [
    {
     "data": {
      "text/html": [
       "<div>\n",
       "<style scoped>\n",
       "    .dataframe tbody tr th:only-of-type {\n",
       "        vertical-align: middle;\n",
       "    }\n",
       "\n",
       "    .dataframe tbody tr th {\n",
       "        vertical-align: top;\n",
       "    }\n",
       "\n",
       "    .dataframe thead th {\n",
       "        text-align: right;\n",
       "    }\n",
       "</style>\n",
       "<table border=\"1\" class=\"dataframe\">\n",
       "  <thead>\n",
       "    <tr style=\"text-align: right;\">\n",
       "      <th></th>\n",
       "      <th>GRE_Score</th>\n",
       "      <th>TOEFL_Score</th>\n",
       "      <th>University_Rating</th>\n",
       "      <th>SOP</th>\n",
       "      <th>LOR</th>\n",
       "      <th>CGPA</th>\n",
       "      <th>Research</th>\n",
       "      <th>Intercept</th>\n",
       "    </tr>\n",
       "  </thead>\n",
       "  <tbody>\n",
       "    <tr>\n",
       "      <th>0</th>\n",
       "      <td>0.029212</td>\n",
       "      <td>0.011194</td>\n",
       "      <td>0.011226</td>\n",
       "      <td>0.001271</td>\n",
       "      <td>0.007518</td>\n",
       "      <td>0.066044</td>\n",
       "      <td>0.015586</td>\n",
       "      <td>0.729278</td>\n",
       "    </tr>\n",
       "  </tbody>\n",
       "</table>\n",
       "</div>"
      ],
      "text/plain": [
       "   GRE_Score  TOEFL_Score  University_Rating       SOP       LOR      CGPA  \\\n",
       "0   0.029212     0.011194           0.011226  0.001271  0.007518  0.066044   \n",
       "\n",
       "   Research  Intercept  \n",
       "0  0.015586   0.729278  "
      ]
     },
     "execution_count": 132,
     "metadata": {},
     "output_type": "execute_result"
    }
   ],
   "source": [
    "makeCoeffDF(lr.allCoeffs())"
   ]
  },
  {
   "cell_type": "code",
   "execution_count": 133,
   "metadata": {},
   "outputs": [],
   "source": [
    "y_pred = lr.predict(admission_val_X)"
   ]
  },
  {
   "cell_type": "markdown",
   "metadata": {},
   "source": [
    "### R2Score"
   ]
  },
  {
   "cell_type": "code",
   "execution_count": 134,
   "metadata": {
    "scrolled": true
   },
   "outputs": [
    {
     "data": {
      "text/plain": [
       "0.7241676489871202"
      ]
     },
     "execution_count": 134,
     "metadata": {},
     "output_type": "execute_result"
    }
   ],
   "source": [
    "metrics.r2_score(admission_val_Y, y_pred)"
   ]
  },
  {
   "cell_type": "markdown",
   "metadata": {},
   "source": [
    "## MAPE"
   ]
  },
  {
   "cell_type": "code",
   "execution_count": 135,
   "metadata": {},
   "outputs": [],
   "source": [
    "lr = MyLinearRegressor(MAPE, 0.01, 1000)"
   ]
  },
  {
   "cell_type": "code",
   "execution_count": 136,
   "metadata": {},
   "outputs": [
    {
     "data": {
      "image/png": "[encoded data removed]",
      "text/plain": [
       "<Figure size 720x1080 with 2 Axes>"
      ]
     },
     "metadata": {},
     "output_type": "display_data"
    },
    {
     "name": "stdout",
     "output_type": "stream",
     "text": [
      "final_cost 0.0646972344181821\n"
     ]
    }
   ],
   "source": [
    "lr.fit(admission_train_X, admission_train_Y)"
   ]
  },
  {
   "cell_type": "code",
   "execution_count": 137,
   "metadata": {},
   "outputs": [
    {
     "data": {
      "text/html": [
       "<div>\n",
       "<style scoped>\n",
       "    .dataframe tbody tr th:only-of-type {\n",
       "        vertical-align: middle;\n",
       "    }\n",
       "\n",
       "    .dataframe tbody tr th {\n",
       "        vertical-align: top;\n",
       "    }\n",
       "\n",
       "    .dataframe thead th {\n",
       "        text-align: right;\n",
       "    }\n",
       "</style>\n",
       "<table border=\"1\" class=\"dataframe\">\n",
       "  <thead>\n",
       "    <tr style=\"text-align: right;\">\n",
       "      <th></th>\n",
       "      <th>GRE_Score</th>\n",
       "      <th>TOEFL_Score</th>\n",
       "      <th>University_Rating</th>\n",
       "      <th>SOP</th>\n",
       "      <th>LOR</th>\n",
       "      <th>CGPA</th>\n",
       "      <th>Research</th>\n",
       "      <th>Intercept</th>\n",
       "    </tr>\n",
       "  </thead>\n",
       "  <tbody>\n",
       "    <tr>\n",
       "      <th>0</th>\n",
       "      <td>0.032785</td>\n",
       "      <td>0.015833</td>\n",
       "      <td>0.006207</td>\n",
       "      <td>-0.003936</td>\n",
       "      <td>0.009447</td>\n",
       "      <td>0.067727</td>\n",
       "      <td>0.014074</td>\n",
       "      <td>0.724906</td>\n",
       "    </tr>\n",
       "  </tbody>\n",
       "</table>\n",
       "</div>"
      ],
      "text/plain": [
       "   GRE_Score  TOEFL_Score  University_Rating       SOP       LOR      CGPA  \\\n",
       "0   0.032785     0.015833           0.006207 -0.003936  0.009447  0.067727   \n",
       "\n",
       "   Research  Intercept  \n",
       "0  0.014074   0.724906  "
      ]
     },
     "execution_count": 137,
     "metadata": {},
     "output_type": "execute_result"
    }
   ],
   "source": [
    "makeCoeffDF(lr.allCoeffs())"
   ]
  },
  {
   "cell_type": "code",
   "execution_count": 138,
   "metadata": {},
   "outputs": [],
   "source": [
    "y_pred = lr.predict(admission_val_X)"
   ]
  },
  {
   "cell_type": "markdown",
   "metadata": {},
   "source": [
    "### R2Score"
   ]
  },
  {
   "cell_type": "code",
   "execution_count": 139,
   "metadata": {
    "scrolled": true
   },
   "outputs": [
    {
     "data": {
      "text/plain": [
       "0.7203023445803693"
      ]
     },
     "execution_count": 139,
     "metadata": {},
     "output_type": "execute_result"
    }
   ],
   "source": [
    "#mean_absolute_percentage_error(admission_val_Y, y_pred)\n",
    "metrics.r2_score(admission_val_Y, y_pred)"
   ]
  },
  {
   "cell_type": "markdown",
   "metadata": {},
   "source": [
    "## Observations:\n",
    "1. All converge smoothly as they functions value converges smoothly, due to the loss function being of the form (y_pred - y)^x"
   ]
  },
  {
   "cell_type": "markdown",
   "metadata": {},
   "source": [
    "# Q3-3 Analyse and report the behaviour of the coefficients"
   ]
  },
  {
   "cell_type": "markdown",
   "metadata": {},
   "source": [
    "### Residual Plots for all the features"
   ]
  },
  {
   "cell_type": "code",
   "execution_count": 117,
   "metadata": {},
   "outputs": [
    {
     "data": {
      "image/png": "[encoded data removed]",
      "text/plain": [
       "<Figure size 576x720 with 1 Axes>"
      ]
     },
     "metadata": {},
     "output_type": "display_data"
    },
    {
     "data": {
      "image/png": "[encoded data removed]",
      "text/plain": [
       "<Figure size 576x720 with 1 Axes>"
      ]
     },
     "metadata": {},
     "output_type": "display_data"
    },
    {
     "data": {
      "image/png": "[encoded data removed]",
      "text/plain": [
       "<Figure size 576x720 with 1 Axes>"
      ]
     },
     "metadata": {},
     "output_type": "display_data"
    },
    {
     "data": {
      "image/png": "[encoded data removed]",
      "text/plain": [
       "<Figure size 576x720 with 1 Axes>"
      ]
     },
     "metadata": {},
     "output_type": "display_data"
    },
    {
     "data": {
      "image/png": "[encoded data removed]",
      "text/plain": [
       "<Figure size 576x720 with 1 Axes>"
      ]
     },
     "metadata": {},
     "output_type": "display_data"
    },
    {
     "data": {
      "image/png": "[encoded data removed]",
      "text/plain": [
       "<Figure size 576x720 with 1 Axes>"
      ]
     },
     "metadata": {},
     "output_type": "display_data"
    },
    {
     "data": {
      "image/png": "[encoded data removed]",
      "text/plain": [
       "<Figure size 576x720 with 1 Axes>"
      ]
     },
     "metadata": {},
     "output_type": "display_data"
    }
   ],
   "source": [
    "residual = (admission_val_Y - y_pred)\n",
    "# print(len(admission_val_X[0]))\n",
    "for i in range(admission_val_X.shape[1]):\n",
    "    ax = plt.subplot(i+2,1,i+1)\n",
    "    ax.figure.set_size_inches(8,10)\n",
    "    ax.scatter(admission_val_X.iloc[:,i], residual)\n",
    "    ax.set_xlabel(admission_val_X.columns[i])\n",
    "    ax.set_ylabel('Residual')\n",
    "    plt.show()"
   ]
  },
  {
   "cell_type": "markdown",
   "metadata": {},
   "source": [
    "### Coefficients"
   ]
  },
  {
   "cell_type": "code",
   "execution_count": 140,
   "metadata": {},
   "outputs": [
    {
     "data": {
      "text/html": [
       "<div>\n",
       "<style scoped>\n",
       "    .dataframe tbody tr th:only-of-type {\n",
       "        vertical-align: middle;\n",
       "    }\n",
       "\n",
       "    .dataframe tbody tr th {\n",
       "        vertical-align: top;\n",
       "    }\n",
       "\n",
       "    .dataframe thead th {\n",
       "        text-align: right;\n",
       "    }\n",
       "</style>\n",
       "<table border=\"1\" class=\"dataframe\">\n",
       "  <thead>\n",
       "    <tr style=\"text-align: right;\">\n",
       "      <th></th>\n",
       "      <th>GRE_Score</th>\n",
       "      <th>TOEFL_Score</th>\n",
       "      <th>University_Rating</th>\n",
       "      <th>SOP</th>\n",
       "      <th>LOR</th>\n",
       "      <th>CGPA</th>\n",
       "      <th>Research</th>\n",
       "      <th>Intercept</th>\n",
       "    </tr>\n",
       "  </thead>\n",
       "  <tbody>\n",
       "    <tr>\n",
       "      <th>0</th>\n",
       "      <td>0.032785</td>\n",
       "      <td>0.015833</td>\n",
       "      <td>0.006207</td>\n",
       "      <td>-0.003936</td>\n",
       "      <td>0.009447</td>\n",
       "      <td>0.067727</td>\n",
       "      <td>0.014074</td>\n",
       "      <td>0.724906</td>\n",
       "    </tr>\n",
       "  </tbody>\n",
       "</table>\n",
       "</div>"
      ],
      "text/plain": [
       "   GRE_Score  TOEFL_Score  University_Rating       SOP       LOR      CGPA  \\\n",
       "0   0.032785     0.015833           0.006207 -0.003936  0.009447  0.067727   \n",
       "\n",
       "   Research  Intercept  \n",
       "0  0.014074   0.724906  "
      ]
     },
     "execution_count": 140,
     "metadata": {},
     "output_type": "execute_result"
    }
   ],
   "source": [
    "makeCoeffDF(lr.allCoeffs())"
   ]
  },
  {
   "cell_type": "markdown",
   "metadata": {},
   "source": [
    "### Observations:\n",
    "1. Since the residuals are denser towards zero, the model seems to be a good fit.\n",
    "2. Also since the residuals do not form any visible pattern, there is no need to transform the dependent/independent variables.\n",
    "3. CGPA seems to be the dominant feature, ie, change in unit of CGPA affects the prediction the most when all the other features are constant.\n",
    "\n",
    "### Behavior of coefficients\n",
    "1. The sign of the coefficient indicates the direction of correlation of the features with the output, directly proportional if sign is +, else inversely proportinal\n",
    "2. Magnitude indicates how much the output changes with a unit increase of the respective feature assuming rest all features are constant"
   ]
  },
  {
   "cell_type": "markdown",
   "metadata": {},
   "source": [
    "# Linear Regression using sklearn"
   ]
  },
  {
   "cell_type": "code",
   "execution_count": 119,
   "metadata": {},
   "outputs": [
    {
     "name": "stdout",
     "output_type": "stream",
     "text": [
      "[ 0.00254584  0.00219129  0.00631208 -0.00453849  0.01639922  0.11992619\n",
      "  0.02468493] -1.4226270486360575\n"
     ]
    }
   ],
   "source": [
    "from sklearn.linear_model import LinearRegression\n",
    "reg = LinearRegression(normalize = True).fit(admission_train_X, admission_train_Y)\n",
    "# reg.score(X, y)\n",
    "\n",
    "print(reg.coef_, reg.intercept_)\n",
    "\n",
    "y_pred_sklearn = reg.predict(admission_val_X)\n",
    "# y_pred_sklearn"
   ]
  },
  {
   "cell_type": "code",
   "execution_count": 120,
   "metadata": {},
   "outputs": [
    {
     "data": {
      "text/plain": [
       "0.7291388231918341"
      ]
     },
     "execution_count": 120,
     "metadata": {},
     "output_type": "execute_result"
    }
   ],
   "source": [
    "metrics.r2_score(admission_val_Y,y_pred_sklearn)"
   ]
  },
  {
   "cell_type": "markdown",
   "metadata": {},
   "source": [
    "# PART - 4 Logistic Regression"
   ]
  },
  {
   "cell_type": "markdown",
   "metadata": {},
   "source": [
    "## Splitting Data into Train and Validation"
   ]
  },
  {
   "cell_type": "code",
   "execution_count": null,
   "metadata": {},
   "outputs": [],
   "source": [
    "admission_df['Chance_of_Admit'] = [1 if x >= 0.5 else 0 for x in admission_df['Chance_of_Admit']]"
   ]
  },
  {
   "cell_type": "code",
   "execution_count": null,
   "metadata": {},
   "outputs": [],
   "source": [
    "admission_df.describe()"
   ]
  },
  {
   "cell_type": "code",
   "execution_count": null,
   "metadata": {},
   "outputs": [],
   "source": [
    "admission_train_X, admission_val_X, admission_train_Y, admission_val_Y = splitData(admission_df.iloc[:,admission_df.columns != 'Chance_of_Admit'], admission_df['Chance_of_Admit'], test_size=0.2)"
   ]
  },
  {
   "cell_type": "code",
   "execution_count": null,
   "metadata": {},
   "outputs": [],
   "source": [
    "class MyLogisticRegresson:\n",
    "    def __init__(self, learning_rate = 0.01, no_iterations = 1000 ,threshold = 0.5):\n",
    "        self.alpha = learning_rate\n",
    "        self.iterations = no_iterations\n",
    "        self.threshold = threshold\n",
    "    \n",
    "    def normalize_X(self, X):\n",
    "        X_normalized = (X - self.X_mean)/self.X_var\n",
    "        return X_normalized\n",
    "\n",
    "    def normalize_Y(self, Y):\n",
    "#         return X\n",
    "        Y_normalized = (Y - self.Y_mean)/self.Y_var\n",
    "        return Y_normalized\n",
    "    \n",
    "    def fit(self, X, Y):\n",
    "        #### m = no of examples, n = no of features\n",
    "        ### X : shape = mxn\n",
    "        ### Y : shape = 1xm\n",
    "        self.X_mean = X.mean()\n",
    "#         print(\"mean: {0}\",self.X_mean)\n",
    "        self.X_var = X.std()\n",
    "        self.Y_mean = Y.mean()\n",
    "        self.Y_var = Y.std()\n",
    "        \n",
    "        X  = self.normalize_X(X)\n",
    "#         Y  = self.normalize_Y(Y)\n",
    "        c = np.ones((1, len(X)))  ### shape = 1xm\n",
    "        X_temp = np.concatenate((X, c.T), axis=1) ## Shape : mxn\n",
    "        theta = np.zeros((1, len(X_temp[0]))) ## shape: 1 X n \n",
    "        Y_temp = Y.values.reshape(len(X),1)  ## shape : (m,1)\n",
    "#         print(X_temp)\n",
    "#         print(\"X : {0}, theta : {1}, Y : {2}\".format(X_temp.shape, theta.shape, Y_temp.shape))\n",
    "        theta, cost_hist = self.gradient_descent(theta, X_temp, Y_temp, self.alpha, self.iterations)\n",
    "        self.theta = theta\n",
    "        self.coef_ = theta.flatten()[:-1]\n",
    "        self.cost_hist = cost_hist\n",
    "        self.intercept_ = theta.flatten()[-1:]\n",
    "#         print(theta)\n",
    "    \n",
    "    def predict_probs(self, X):\n",
    "        X = self.normalize_X(X)\n",
    "        c = np.ones((1, len(X)))  ### shape = 1xm\n",
    "        X_temp = np.concatenate((X, c.T), axis=1) ## Shape : kxn\n",
    "        y_pred = np.dot(X_temp,self.theta.T)\n",
    "        return sigmoid(y_pred.flatten())\n",
    "    \n",
    "    def predict(self, X):\n",
    "        y_probs = self.predict_probs(X)\n",
    "        y_probs[y_probs >= self.threshold] = 1\n",
    "        y_probs[y_probs < self.threshold] = 0\n",
    "        return y_probs\n",
    "    \n",
    "    def allCoeffs(self):\n",
    "        coeffs = list(self.coef_) + list(self.intercept_)\n",
    "        coeffs = np.array(coeffs).reshape(1, len(coeffs))\n",
    "        return coeffs\n",
    "    \n",
    "    def __loss(self, Y, h):\n",
    "        h1 = h.copy()\n",
    "        h1[h1 == 0] = 1\n",
    "        h2 = h.copy()\n",
    "        h2[h2 == 1] = 0\n",
    "        return np.mean(-Y * np.log(h1) - (1 - Y) * np.log(1 - h2))\n",
    "        \n",
    "    def gradient_descent(self, theta, X, Y, alpha, iterations):\n",
    "        cost_history = [0] * iterations\n",
    "        m = len(Y)\n",
    "\n",
    "        for iteration in range(iterations):\n",
    "            # Hypothesis Values\n",
    "#             print(theta)\n",
    "#             print(X.shape, theta.T.shape)\n",
    "            zz = np.dot(X,theta.T)\n",
    "#             print(zz)\n",
    "            h = sigmoid(zz) ## shape : (m,1)\n",
    "            \n",
    "            loss = h - Y ## shape: (m,1)\n",
    "#             print(\"loss: {0}\".format(loss.shape))\n",
    "#             print(\"loss : {0}\".format(np.sum(loss)))\n",
    "            # Gradient Calculation\n",
    "            gradient = np.dot(X.T,loss) / m   ##shape : (n,1)\n",
    "#             print(\"grad: {0}\".format(gradient.shape))\n",
    "            # Changing Values of B using Gradient\n",
    "            theta = theta - alpha * (gradient.T)\n",
    "#             print(theta.shape)\n",
    "            # New Cost Value\n",
    "            cost = self.__loss(Y, h)\n",
    "            cost_history[iteration] = cost\n",
    "#             print(\"i: {0}\".format(iteration), sep=\" \")\n",
    "#             print(\"theta: {0}\".format(theta), sep= \" \")\n",
    "#             print(\"cost: {0}\".format(cost))\n",
    "#             print(cost, theta)\n",
    "        \n",
    "        ax = plt.subplot(1,1,1)\n",
    "        ax.plot(range(iterations), cost_history)\n",
    "        ax.set_xlabel('iteration')\n",
    "        ax.set_ylabel('cost')\n",
    "        plt.show()\n",
    "\n",
    "        return theta, cost_history"
   ]
  },
  {
   "cell_type": "code",
   "execution_count": null,
   "metadata": {},
   "outputs": [],
   "source": [
    "threshold = 0.5\n",
    "lr = MyLogisticRegresson(0.01, 10000)\n",
    "lr.fit(admission_train_X,admission_train_Y)"
   ]
  },
  {
   "cell_type": "code",
   "execution_count": null,
   "metadata": {},
   "outputs": [],
   "source": [
    "y_pred = lr.predict(admission_val_X)\n",
    "y_pred"
   ]
  },
  {
   "cell_type": "code",
   "execution_count": null,
   "metadata": {},
   "outputs": [],
   "source": [
    "makeCoeffDF(lr.allCoeffs())"
   ]
  },
  {
   "cell_type": "code",
   "execution_count": null,
   "metadata": {},
   "outputs": [],
   "source": [
    "metrics.accuracy_score(admission_val_Y, y_pred)"
   ]
  },
  {
   "cell_type": "markdown",
   "metadata": {},
   "source": [
    "## sklearn Logistic Regression"
   ]
  },
  {
   "cell_type": "code",
   "execution_count": null,
   "metadata": {},
   "outputs": [],
   "source": [
    "from sklearn.linear_model import LogisticRegression\n",
    "\n",
    "clf = LogisticRegression()\n",
    "clf.fit(admission_train_X, admission_train_Y)\n",
    "y_pred = clf.predict(admission_val_X)\n",
    "print(y_pred)\n",
    "print(clf.coef_)\n",
    "print(clf.intercept_)\n",
    "metrics.accuracy_score(admission_val_Y, y_pred)"
   ]
  },
  {
   "cell_type": "markdown",
   "metadata": {},
   "source": [
    "# PART 4 - 2"
   ]
  },
  {
   "cell_type": "code",
   "execution_count": null,
   "metadata": {},
   "outputs": [],
   "source": [
    "admission_train_X.head()"
   ]
  },
  {
   "cell_type": "code",
   "execution_count": null,
   "metadata": {},
   "outputs": [],
   "source": [
    "myKNN = KNN(n_neighbors=5, metric=euclidean)\n",
    "myKNN.fit(admission_train_X, admission_train_Y)"
   ]
  },
  {
   "cell_type": "code",
   "execution_count": null,
   "metadata": {},
   "outputs": [],
   "source": [
    "y_pred = myKNN.predict(admission_val_X)"
   ]
  },
  {
   "cell_type": "code",
   "execution_count": null,
   "metadata": {},
   "outputs": [],
   "source": [
    "metrics.accuracy_score(admission_val_Y, y_pred)"
   ]
  },
  {
   "cell_type": "markdown",
   "metadata": {},
   "source": [
    "# PART 4 - 3"
   ]
  },
  {
   "cell_type": "code",
   "execution_count": 133,
   "metadata": {},
   "outputs": [
    {
     "ename": "NameError",
     "evalue": "name 'MyLogisticRegresson' is not defined",
     "output_type": "error",
     "traceback": [
      "\u001b[0;31m---------------------------------------------------------------------------\u001b[0m",
      "\u001b[0;31mNameError\u001b[0m                                 Traceback (most recent call last)",
      "\u001b[0;32m<ipython-input-133-f84fe8a205d2>\u001b[0m in \u001b[0;36m<module>\u001b[0;34m()\u001b[0m\n\u001b[1;32m      3\u001b[0m \u001b[0mthresholds\u001b[0m \u001b[0;34m=\u001b[0m \u001b[0;34m[\u001b[0m\u001b[0mi\u001b[0m\u001b[0;34m/\u001b[0m\u001b[0;36m50\u001b[0m \u001b[0;32mfor\u001b[0m \u001b[0mi\u001b[0m \u001b[0;32min\u001b[0m \u001b[0mrange\u001b[0m\u001b[0;34m(\u001b[0m\u001b[0;36m0\u001b[0m\u001b[0;34m,\u001b[0m\u001b[0;36m50\u001b[0m\u001b[0;34m)\u001b[0m\u001b[0;34m]\u001b[0m\u001b[0;34m\u001b[0m\u001b[0;34m\u001b[0m\u001b[0m\n\u001b[1;32m      4\u001b[0m \u001b[0;32mfor\u001b[0m \u001b[0mthreshold\u001b[0m \u001b[0;32min\u001b[0m \u001b[0mthresholds\u001b[0m\u001b[0;34m:\u001b[0m\u001b[0;34m\u001b[0m\u001b[0;34m\u001b[0m\u001b[0m\n\u001b[0;32m----> 5\u001b[0;31m     \u001b[0mlr\u001b[0m \u001b[0;34m=\u001b[0m \u001b[0mMyLogisticRegresson\u001b[0m\u001b[0;34m(\u001b[0m\u001b[0;36m0.1\u001b[0m\u001b[0;34m,\u001b[0m \u001b[0;36m500\u001b[0m\u001b[0;34m,\u001b[0m \u001b[0mthreshold\u001b[0m\u001b[0;34m)\u001b[0m\u001b[0;34m\u001b[0m\u001b[0;34m\u001b[0m\u001b[0m\n\u001b[0m\u001b[1;32m      6\u001b[0m     \u001b[0mlr\u001b[0m\u001b[0;34m.\u001b[0m\u001b[0mfit\u001b[0m\u001b[0;34m(\u001b[0m\u001b[0madmission_train_X\u001b[0m\u001b[0;34m,\u001b[0m\u001b[0madmission_train_Y\u001b[0m\u001b[0;34m)\u001b[0m\u001b[0;34m\u001b[0m\u001b[0;34m\u001b[0m\u001b[0m\n\u001b[1;32m      7\u001b[0m     \u001b[0my_pred\u001b[0m \u001b[0;34m=\u001b[0m \u001b[0mlr\u001b[0m\u001b[0;34m.\u001b[0m\u001b[0mpredict\u001b[0m\u001b[0;34m(\u001b[0m\u001b[0madmission_val_X\u001b[0m\u001b[0;34m)\u001b[0m\u001b[0;34m\u001b[0m\u001b[0;34m\u001b[0m\u001b[0m\n",
      "\u001b[0;31mNameError\u001b[0m: name 'MyLogisticRegresson' is not defined"
     ]
    }
   ],
   "source": [
    "precisions = []\n",
    "recalls = []\n",
    "thresholds = [i/50 for i in range(0,50)]\n",
    "for threshold in thresholds:\n",
    "    lr = MyLogisticRegresson(0.1, 500, threshold)\n",
    "    lr.fit(admission_train_X,admission_train_Y)  \n",
    "    y_pred = lr.predict(admission_val_X)\n",
    "    precisions.append(metrics.precision_score(y_pred=y_pred, y_true=admission_val_Y))\n",
    "    recalls.append(metrics.recall_score(y_pred=y_pred, y_true=admission_val_Y))\n",
    "    \n",
    "ax = plt.subplot(2, 1, 1)\n",
    "# plt.style.use('seaborn-darkgrid')\n",
    "ax.figure.set_size_inches(10,15)\n",
    "\n",
    "# create a color palette\n",
    "palette = plt.get_cmap('Set1')\n",
    "ax.plot(thresholds, precisions, marker='', color=palette(0), linewidth=1, alpha=0.9, label='precision')\n",
    "ax.plot(thresholds, recalls, marker='', color=palette(1), linewidth=1, alpha=0.9, label='recall')\n",
    "\n",
    "# Add legend\n",
    "ax.legend(loc=2, ncol=2)\n",
    "\n",
    "# Add titles\n",
    "# ax.set_title(\"Precision and Recall variation\", loc='left', fontsize=12, fontweight=0, color='orange')\n",
    "ax.set_xlabel('threshold')\n",
    "ax.set_ylabel('metrics')\n",
    "plt.show()"
   ]
  },
  {
   "cell_type": "markdown",
   "metadata": {},
   "source": [
    "# PART - 5"
   ]
  },
  {
   "cell_type": "markdown",
   "metadata": {},
   "source": [
    "## Reading Input Data"
   ]
  },
  {
   "cell_type": "code",
   "execution_count": null,
   "metadata": {},
   "outputs": [],
   "source": [
    "wine_df_orig = pd.read_csv(\"./wine-quality/data_changed.csv\", header=None)"
   ]
  },
  {
   "cell_type": "markdown",
   "metadata": {},
   "source": [
    "## One vs All"
   ]
  },
  {
   "cell_type": "code",
   "execution_count": null,
   "metadata": {},
   "outputs": [],
   "source": [
    "wine_df_orig.describe()"
   ]
  },
  {
   "cell_type": "code",
   "execution_count": null,
   "metadata": {},
   "outputs": [],
   "source": [
    "df_cols = ['fixed_acidity', 'volatile_acidity', 'citric_acid', 'residual_sugar', 'chlorides', 'free_sulfur_dioxide', 'total_sulfur_dioxide', 'density', 'pH', 'sulphates', 'alcohol', 'quality']"
   ]
  },
  {
   "cell_type": "code",
   "execution_count": null,
   "metadata": {},
   "outputs": [],
   "source": [
    "wine_df_orig.columns = df_cols"
   ]
  },
  {
   "cell_type": "code",
   "execution_count": null,
   "metadata": {},
   "outputs": [],
   "source": [
    "wine_df_orig.head()"
   ]
  },
  {
   "cell_type": "code",
   "execution_count": null,
   "metadata": {},
   "outputs": [],
   "source": [
    "wine_df_orig.describe()"
   ]
  },
  {
   "cell_type": "code",
   "execution_count": null,
   "metadata": {},
   "outputs": [],
   "source": [
    "wine_df_orig.quality.value_counts()"
   ]
  },
  {
   "cell_type": "markdown",
   "metadata": {},
   "source": [
    "### Test - Validation Split"
   ]
  },
  {
   "cell_type": "code",
   "execution_count": null,
   "metadata": {},
   "outputs": [],
   "source": [
    "wine_train_X, wine_val_X, wine_train_Y, wine_val_Y = splitData(wine_df_orig.iloc[:,wine_df_orig.columns != 'quality'], wine_df_orig['quality'], test_size=0.2)"
   ]
  },
  {
   "cell_type": "code",
   "execution_count": null,
   "metadata": {},
   "outputs": [],
   "source": [
    "wine_train_X.describe()"
   ]
  },
  {
   "cell_type": "code",
   "execution_count": null,
   "metadata": {},
   "outputs": [],
   "source": [
    "wine_train_Y.value_counts()"
   ]
  },
  {
   "cell_type": "markdown",
   "metadata": {},
   "source": [
    "## One vs ALL"
   ]
  },
  {
   "cell_type": "code",
   "execution_count": null,
   "metadata": {},
   "outputs": [],
   "source": [
    "len(wine_train_Y)"
   ]
  },
  {
   "cell_type": "code",
   "execution_count": null,
   "metadata": {},
   "outputs": [],
   "source": [
    "lr = MyLogisticRegresson(0.1, 500)\n",
    "y_temp = wine_train_Y.copy()\n",
    "y_temp[y_temp != 5] = 0\n",
    "y_temp[y_temp == 5] = 1\n",
    "y_val_temp = wine_val_Y.copy()\n",
    "y_val_temp[y_val_temp != 5] = 0\n",
    "y_val_temp[y_val_temp == 5] = 1\n",
    "y_val_temp.value_counts()\n",
    "lr.fit(wine_train_X,y_temp)  \n",
    "y_pred = lr.predict(wine_val_X)\n",
    "# print(\"probs: {0}\".format(y_pred))"
   ]
  },
  {
   "cell_type": "code",
   "execution_count": null,
   "metadata": {},
   "outputs": [],
   "source": [
    "metrics.accuracy_score(y_val_temp, y_pred)"
   ]
  },
  {
   "cell_type": "code",
   "execution_count": null,
   "metadata": {},
   "outputs": [],
   "source": [
    "y_pred_final = np.array([0 for i in range(len(wine_val_Y))])\n",
    "y_pred_prob_final = np.array([0 for i in range(len(wine_val_Y))])\n",
    "for class_val in range(3,10):\n",
    "    print(class_val)\n",
    "    lr = MyLogisticRegresson(0.1, 500)\n",
    "    y_temp = wine_train_Y.copy()\n",
    "    y_temp[y_temp != class_val] = 0\n",
    "    y_temp[y_temp == class_val] = 1\n",
    "    y_val_temp = wine_val_Y.copy()\n",
    "    y_val_temp[y_val_temp != class_val] = 0\n",
    "    y_val_temp[y_val_temp == class_val] = 1\n",
    "#     print(y_temp.value_counts())\n",
    "    lr.fit(wine_train_X,y_temp)  \n",
    "    y_pred = lr.predict_probs(wine_val_X)\n",
    "#     print(y_pred)\n",
    "#     print(y_pred_prob_final)\n",
    "    y_pred_bool = (y_pred > y_pred_prob_final)\n",
    "#     print(y_pred_bool)\n",
    "    y_pred_final[y_pred_bool] = class_val\n",
    "#     print(y_pred_bool)\n",
    "    print(y_pred)\n",
    "    y_pred_prob_final[y_pred_bool] = y_pred\n",
    "    print(y_pred_prob_final)"
   ]
  },
  {
   "cell_type": "code",
   "execution_count": null,
   "metadata": {},
   "outputs": [],
   "source": [
    "y_pred_final"
   ]
  },
  {
   "cell_type": "code",
   "execution_count": null,
   "metadata": {},
   "outputs": [],
   "source": [
    "metrics.accuracy_score(wine_val_Y, y_pred_final)"
   ]
  },
  {
   "cell_type": "code",
   "execution_count": null,
   "metadata": {},
   "outputs": [],
   "source": [
    "s = pd.Series([0, 1, 2, 3, 4])\n",
    "s = s.replace(0, 5)\n",
    "s\n"
   ]
  },
  {
   "cell_type": "code",
   "execution_count": null,
   "metadata": {},
   "outputs": [],
   "source": []
  }
 ],
 "metadata": {
  "kernelspec": {
   "display_name": "Python 3",
   "language": "python",
   "name": "python3"
  },
  "language_info": {
   "codemirror_mode": {
    "name": "ipython",
    "version": 3
   },
   "file_extension": ".py",
   "mimetype": "text/x-python",
   "name": "python",
   "nbconvert_exporter": "python",
   "pygments_lexer": "ipython3",
   "version": "3.7.2"
  }
 },
 "nbformat": 4,
 "nbformat_minor": 2
}
